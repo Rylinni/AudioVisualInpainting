{
 "cells": [
  {
   "cell_type": "markdown",
   "metadata": {
    "papermill": {
     "duration": 0.015298,
     "end_time": "2020-11-09T01:15:05.242354",
     "exception": false,
     "start_time": "2020-11-09T01:15:05.227056",
     "status": "completed"
    },
    "tags": []
   },
   "source": [
    "## Introduction\n",
    "\n",
    "### In this notebook we use [Context-Conditional GAN (CCGAN)](https://arxiv.org/abs/1604.07379) to perform Image Inpainting on [CelebA dataset](http://mmlab.ie.cuhk.edu.hk/projects/CelebA.html)."
   ]
  },
  {
   "cell_type": "markdown",
   "metadata": {
    "papermill": {
     "duration": 0.011879,
     "end_time": "2020-11-09T01:15:05.266816",
     "exception": false,
     "start_time": "2020-11-09T01:15:05.254937",
     "status": "completed"
    },
    "tags": []
   },
   "source": [
    "<h4><center>Semantic Inpainting results on held-out images by Context Encoder.</center></h4>\n",
    "<img src=\"http://people.eecs.berkeley.edu/~pathak/context_encoder/resources/result_fig.jpg\" width=\"900\" height=\"900\"/>\n",
    "<h4></h4>\n",
    "<h4><center>Image Source:  <a href=\"https://arxiv.org/abs/1609.04802\">Context Encoders: Feature Learning by Inpainting [Deepak Pathak et al.]</a></center></h4>"
   ]
  },
  {
   "cell_type": "markdown",
   "metadata": {
    "papermill": {
     "duration": 0.013393,
     "end_time": "2020-11-09T01:15:05.294265",
     "exception": false,
     "start_time": "2020-11-09T01:15:05.280872",
     "status": "completed"
    },
    "tags": []
   },
   "source": [
    "### Libraries 📚⬇"
   ]
  },
  {
   "cell_type": "code",
   "execution_count": 282,
   "metadata": {
    "_cell_guid": "79c7e3d0-c299-4dcb-8224-4455121ee9b0",
    "_uuid": "d629ff2d2480ee46fbb7e2d37f6b5fab8052498a",
    "execution": {
     "iopub.execute_input": "2020-11-09T01:15:05.329822Z",
     "iopub.status.busy": "2020-11-09T01:15:05.329167Z",
     "iopub.status.idle": "2020-11-09T01:15:09.764555Z",
     "shell.execute_reply": "2020-11-09T01:15:09.763424Z"
    },
    "papermill": {
     "duration": 4.457779,
     "end_time": "2020-11-09T01:15:09.764686",
     "exception": false,
     "start_time": "2020-11-09T01:15:05.306907",
     "status": "completed"
    },
    "tags": []
   },
   "outputs": [],
   "source": [
    "import numpy as np\n",
    "import pandas as pd\n",
    "import os, math, sys\n",
    "import glob, itertools\n",
    "import argparse, random\n",
    "\n",
    "import torch\n",
    "import torch.nn as nn\n",
    "import torch.nn.functional as F\n",
    "from torch.autograd import Variable\n",
    "from torchvision.models import vgg19\n",
    "import torchvision.transforms as transforms\n",
    "from torch.utils.data import DataLoader, Dataset\n",
    "from torchvision.utils import save_image, make_grid\n",
    "\n",
    "import plotly\n",
    "import plotly.express as px\n",
    "import plotly.graph_objects as go\n",
    "import matplotlib.pyplot as plt\n",
    "\n",
    "from PIL import Image\n",
    "from tqdm import tqdm_notebook as tqdm\n",
    "from sklearn.model_selection import train_test_split\n",
    "\n",
    "random.seed(42)\n",
    "import warnings\n",
    "warnings.filterwarnings(\"ignore\")"
   ]
  },
  {
   "cell_type": "markdown",
   "metadata": {
    "papermill": {
     "duration": 0.012539,
     "end_time": "2020-11-09T01:15:09.790837",
     "exception": false,
     "start_time": "2020-11-09T01:15:09.778298",
     "status": "completed"
    },
    "tags": []
   },
   "source": [
    "### Settings ⚙️"
   ]
  },
  {
   "cell_type": "code",
   "execution_count": 283,
   "metadata": {
    "execution": {
     "iopub.execute_input": "2020-11-09T01:15:10.186296Z",
     "iopub.status.busy": "2020-11-09T01:15:10.185481Z",
     "iopub.status.idle": "2020-11-09T01:15:10.189156Z",
     "shell.execute_reply": "2020-11-09T01:15:10.188497Z"
    },
    "papermill": {
     "duration": 0.384747,
     "end_time": "2020-11-09T01:15:10.189260",
     "exception": false,
     "start_time": "2020-11-09T01:15:09.804513",
     "status": "completed"
    },
    "tags": []
   },
   "outputs": [
    {
     "name": "stdout",
     "output_type": "stream",
     "text": [
      "(1, 128, 32)\n"
     ]
    }
   ],
   "source": [
    "# load pretrained models\n",
    "load_pretrained_models = False\n",
    "# number of epochs of training\n",
    "n_epochs = 20\n",
    "# size of the batches\n",
    "batch_size = 1\n",
    "# name of the dataset\n",
    "dataset_name = \"../Data/img_align_celeba\"\n",
    "dataset_name = \"../Data/genre_original/disco\"\n",
    "# adam: learning rate\n",
    "# lr = 0.00008\n",
    "lr = 0.00008\n",
    "\n",
    "\n",
    "def lr_decay(global_step,\n",
    "    init_learning_rate = 2,\n",
    "    min_learning_rate = .002,\n",
    "    decay_rate = 0.8):\n",
    "    lr = ((init_learning_rate - min_learning_rate) *\n",
    "          pow(decay_rate, global_step) +\n",
    "          min_learning_rate)\n",
    "    return lr\n",
    "\n",
    "lr0 = lr_decay(0)\n",
    "\n",
    "\n",
    "\n",
    "\n",
    "# adam: decay of first order momentum of gradient\n",
    "b1 = 0.5\n",
    "# adam: decay of first order momentum of gradient\n",
    "b2 = 0.999\n",
    "# number of cpu threads to use during batch generation\n",
    "n_cpu = 4\n",
    "# dimensionality of the latent space\n",
    "latent_dim = 100\n",
    "# size of each image dimension\n",
    "img_size = 130560\n",
    "# size of random mask\n",
    "mask_size = 12500\n",
    "\n",
    "mask_array_hieght = 1024\n",
    "mask_array_width = 25\n",
    "# number of image channels\n",
    "channels = 3\n",
    "# interval between image sampling\n",
    "sample_interval = 100\n",
    "\n",
    "cuda = True if torch.cuda.is_available() else False\n",
    "os.makedirs(\"images\", exist_ok=True)\n",
    "os.makedirs(\"saved_models\", exist_ok=True)\n",
    "\n",
    "# Calculate output dims of image discriminator (PatchGAN)\n",
    "patch_h, patch_w = int(mask_array_hieght / 2 ** 3), int(mask_array_width / 4 ** 3)\n",
    "#needed to adjust for the tiny width 24 for patch and 32 for whole\n",
    "patch_w = 32\n",
    "patch = (1, patch_h, patch_w)\n",
    "full = (1, 1025, 256)\n",
    "\n",
    "print(patch)"
   ]
  },
  {
   "cell_type": "markdown",
   "metadata": {},
   "source": [
    "### STFT Experiment"
   ]
  },
  {
   "cell_type": "code",
   "execution_count": 284,
   "metadata": {},
   "outputs": [
    {
     "name": "stdout",
     "output_type": "stream",
     "text": [
      "stft: [[ 4.60542664e-02+0.0000000e+00j -4.43770617e-01+0.0000000e+00j\n",
      "  -5.99667311e-01+0.0000000e+00j ... -3.60285223e-01+0.0000000e+00j\n",
      "  -6.31443322e-01+0.0000000e+00j -3.85448486e-01+0.0000000e+00j]\n",
      " [-1.46420762e-01-5.6706911e-01j  3.34686935e-01+1.6043675e-01j\n",
      "   6.35136843e-01-4.1177714e-01j ... -3.62014472e-02-5.0451890e-02j\n",
      "   6.01221681e-01-2.0406917e-01j  7.97729194e-03+4.3300587e-01j]\n",
      " [ 5.78518987e-01+1.0901452e+00j -7.34995827e-02-8.3045483e-01j\n",
      "   1.93367183e-01+1.0642042e+00j ...  2.49943033e-01-6.8545431e-01j\n",
      "  -1.05798268e+00+4.9893191e-01j  5.36575496e-01+6.5025464e-02j]\n",
      " ...\n",
      " [ 2.71459017e-03-1.9027159e-04j -1.57325680e-03+1.7014075e-04j\n",
      "   3.58845078e-04-3.5436373e-05j ... -1.69312358e-02+8.1507191e-03j\n",
      "   2.73987763e-02-1.3132452e-02j -1.08408816e-02+5.1597315e-03j]\n",
      " [-2.48493184e-03+2.4046829e-04j  3.45612381e-04+1.1170162e-03j\n",
      "  -1.36391856e-04-2.6543237e-05j ... -4.25701914e-03-1.8307278e-02j\n",
      "  -2.97020469e-02+6.7816423e-03j  2.64718803e-03+1.1712914e-02j]\n",
      " [ 2.33116117e-03+0.0000000e+00j  9.72627022e-04+0.0000000e+00j\n",
      "  -1.14741866e-04+0.0000000e+00j ...  1.89856440e-02+0.0000000e+00j\n",
      "   3.05067711e-02+0.0000000e+00j  1.20098442e-02+0.0000000e+00j]]\n",
      "stft: (1025, 258)\n",
      "istft size: 131000\n",
      "max: 2.3238987123530563e-10\n",
      "XXXXXXXXXXX d : (1025, 25)\n",
      "(1025, 25)\n",
      "d_out size = 12500\n"
     ]
    },
    {
     "data": {
      "text/plain": [
       "<matplotlib.colorbar.Colorbar at 0x7fa68ad9a9d0>"
      ]
     },
     "execution_count": 284,
     "metadata": {},
     "output_type": "execute_result"
    },
    {
     "data": {
      "image/png": "[encoded data removed]",
      "text/plain": [
       "<Figure size 432x288 with 2 Axes>"
      ]
     },
     "metadata": {
      "needs_background": "light"
     },
     "output_type": "display_data"
    }
   ],
   "source": [
    "import librosa\n",
    "import soundfile as sf\n",
    "from librosa import display\n",
    "import numpy as np\n",
    "import torch \n",
    "import torchvision \n",
    "import torchvision.transforms as T \n",
    "from PIL import Image \n",
    "import matplotlib.pyplot as plt\n",
    "import torchaudio\n",
    "\n",
    "sample_path = '../Data/genres_original/jazz/jazz.00005.wav'\n",
    "# sample_path = 'testStuff/20.wav'\n",
    "y, sr = librosa.load(sample_path)\n",
    "# for x in range(15000, 45000):\n",
    "#     y[x] = 0\n",
    "D = librosa.stft(y)\n",
    "y_hat = librosa.istft(D)\n",
    "# print(f'istft: {y_hat}')\n",
    "# print(f'sr: {sr}')\n",
    "\n",
    "\n",
    "# NEW LENGTH GOAL 131129\n",
    "\n",
    "musicLen = 131000\n",
    "y = y[:musicLen]\n",
    "n_fft = 2048\n",
    "y_pad = librosa.util.fix_length(y, size=musicLen + n_fft // 2)\n",
    "D = librosa.stft(y_pad, n_fft=n_fft)\n",
    "y_out = librosa.istft(D, length=musicLen)\n",
    "adjustedN = math.ceil(23000/661794)\n",
    "print(f'stft: {D}')\n",
    "print(f'stft: {D.shape}')\n",
    "print(f'istft size: {y_out.size}')\n",
    "print(f'max: {np.min(np.abs(y_out))}')\n",
    "masked_part = y_out.copy()[15000:27500]\n",
    "d = librosa.stft(masked_part, n_fft=n_fft)\n",
    "print(f'XXXXXXXXXXX d : {d.shape}')\n",
    "print(d.shape)\n",
    "d_out = librosa.istft(d, length=12500)\n",
    "print(f'd_out size = {len(d_out)}')\n",
    "\n",
    "transform = T.Resize(size = (512,512))\n",
    "# for x in range(15000, 27500):\n",
    "#     y_out[x] = 0\n",
    "\n",
    "\n",
    "# print(f'D: {D.shape}')\n",
    "# D = transform(D)\n",
    "# print(f'D: {D.shape}')\n",
    "# transform2 = T.Resize(size=(1025, 1295))\n",
    "# D = transform2(D)\n",
    "\n",
    "# y_out = librosa.istft(D, length=n)\n",
    "# print(f'D: {D.shape}')\n",
    "\n",
    "# y_out[15000: 27500] = d_out\n",
    "# d_out = d_out[:musicLen*adjustedN]\n",
    "\n",
    "D = librosa.stft(y_out, n_fft=n_fft)\n",
    "D = torch.FloatTensor([librosa.stft(y_out, n_fft=n_fft)])\n",
    "originalShape = D.shape\n",
    "D = D[0].numpy()\n",
    "\n",
    "sf.write('../Data/genres_original/bluesTest/blues.00000.wav', y_out, sr)\n",
    "\n",
    "S = np.abs(D)\n",
    "\n",
    "import matplotlib.pyplot as plt\n",
    "fig, ax = plt.subplots()\n",
    "img = display.specshow(librosa.amplitude_to_db(S,\n",
    "                                                       ref=np.max),\n",
    "                               y_axis='log', x_axis='time', ax=ax)\n",
    "ax.set_title('Power spectrogram')\n",
    "fig.colorbar(img, ax=ax, format=\"%+2.0f dB\")\n",
    "\n",
    "\n"
   ]
  },
  {
   "cell_type": "markdown",
   "metadata": {
    "papermill": {
     "duration": 0.012431,
     "end_time": "2020-11-09T01:15:10.214834",
     "exception": false,
     "start_time": "2020-11-09T01:15:10.202403",
     "status": "completed"
    },
    "tags": []
   },
   "source": [
    "### Define Dataset Class"
   ]
  },
  {
   "cell_type": "code",
   "execution_count": 285,
   "metadata": {},
   "outputs": [],
   "source": [
    "class AudioDataset(Dataset):\n",
    "    def __init__(self, root, transforms_=None, img_size=131000, mask_size=12500, mode=\"train\"):\n",
    "        self.transform = transforms.Compose(transforms_)\n",
    "        self.img_size = img_size\n",
    "        self.mask_size = mask_size\n",
    "        self.mode = mode\n",
    "        self.files = sorted(glob.glob(\"%s/*\" % root))\n",
    "        self.transform2 = T.Resize(size=(1024, 256))\n",
    "        self.transform1 = T.Resize(size=(1024, 25))\n",
    "\n",
    "        # self.files = self.files[:-4000] if mode == \"train\" else self.files[-4000:]\n",
    "\n",
    "    def apply_random_mask(self, img):\n",
    "        \"\"\"Randomly masks image\"\"\"\n",
    "        y1 = np.random.randint(0, self.img_size - self.mask_size - 500)\n",
    "        y2 = y1 + self.mask_size\n",
    "        masked_part = img[y1:y2]\n",
    "        masked_img = img.copy()\n",
    "        # print(f'y1 = {y1}')\n",
    "        # print(f'y2 = {y2}')\n",
    "        # # print(y2 - y1)\n",
    "        # print(f'masked image shape from Loader: {masked_img.shape}')\n",
    "        # print(len(masked_imgs) > self.mask_size)\n",
    "        masked_img[y1:y2] = [0] * self.mask_size\n",
    "\n",
    "        return masked_img, masked_part, y1\n",
    "\n",
    "    def apply_center_mask(self, img):\n",
    "        \"\"\"Mask center part of image\"\"\"\n",
    "        # Get upper-left pixel coordinate\n",
    "        i = (self.img_size - self.mask_size) // 2\n",
    "        masked_img = img.copy()\n",
    "        masked_img[i : i + self.mask_size] = [0] * self.mask_size\n",
    "\n",
    "        return masked_img, i\n",
    "    \n",
    "\n",
    "    def __getitem__(self, index):\n",
    "        y, sr = librosa.load(self.files[index])\n",
    "        y = y[:img_size]\n",
    "        # y = self.transform(y)\n",
    "        if self.mode == \"train\":\n",
    "            # For training data perform random mask\n",
    "            # print(y.shape)\n",
    "            masked_img, aux, i = self.apply_random_mask(y)\n",
    "            aux = torch.FloatTensor([librosa.stft(aux, n_fft=n_fft)])\n",
    "            aux = self.transform1(aux)\n",
    "        else:\n",
    "            # For test data mask the center of the image\n",
    "            masked_img, aux = self.apply_center_mask(y)\n",
    "            i = aux\n",
    "        \n",
    "        masked_img = torch.FloatTensor([librosa.stft(masked_img, n_fft=n_fft)])\n",
    "        img = torch.FloatTensor([librosa.stft(y, n_fft=n_fft)])\n",
    "        # masked_img = self.transform2(masked_img)\n",
    "        # img = self.transform2(img)\n",
    "\n",
    "\n",
    "\n",
    "\n",
    "        return img, masked_img, aux, i\n",
    "\n",
    "    def __len__(self):\n",
    "        return len(self.files)\n",
    "\n"
   ]
  },
  {
   "cell_type": "markdown",
   "metadata": {
    "papermill": {
     "duration": 0.012426,
     "end_time": "2020-11-09T01:15:10.286523",
     "exception": false,
     "start_time": "2020-11-09T01:15:10.274097",
     "status": "completed"
    },
    "tags": []
   },
   "source": [
    "### Get Train/Test Dataloaders"
   ]
  },
  {
   "cell_type": "code",
   "execution_count": 286,
   "metadata": {
    "execution": {
     "iopub.execute_input": "2020-11-09T01:15:10.319824Z",
     "iopub.status.busy": "2020-11-09T01:15:10.319160Z",
     "iopub.status.idle": "2020-11-09T01:15:15.120074Z",
     "shell.execute_reply": "2020-11-09T01:15:15.118894Z"
    },
    "papermill": {
     "duration": 4.820772,
     "end_time": "2020-11-09T01:15:15.120194",
     "exception": false,
     "start_time": "2020-11-09T01:15:10.299422",
     "status": "completed"
    },
    "tags": []
   },
   "outputs": [
    {
     "name": "stdout",
     "output_type": "stream",
     "text": [
      "True\n",
      "True\n",
      "1000\n",
      "999\n"
     ]
    }
   ],
   "source": [
    "\n",
    "dataset_name = \"../Data/img_align_celeba\"\n",
    "# dataset_name = \"../Data/genre_original/jazz\"\n",
    "\n",
    "files = sorted(glob.glob(\"%s/*\" % dataset_name))\n",
    "# print(files)\n",
    "\n",
    "\n",
    "transforms_ = [\n",
    "    transforms.Resize((1024, 646), Image.LANCZOS),\n",
    "    transforms.ToTensor(),\n",
    "]\n",
    "\n",
    "print(os.path.isdir(dataset_name))\n",
    "print(os.path.exists(dataset_name))\n",
    "print(len(os.listdir(dataset_name)))\n",
    "\n",
    "dataset = AudioDataset(dataset_name)\n",
    "\n",
    "print(len(dataset))\n",
    "\n",
    "dataloader = DataLoader(\n",
    "    dataset,\n",
    "    batch_size=batch_size,\n",
    "    shuffle=True,\n",
    "    num_workers=0,\n",
    ")\n",
    "test_dataloader = DataLoader(\n",
    "    AudioDataset(dataset_name, transforms_=transforms_, mode=\"val\", img_size=img_size, mask_size=mask_size),\n",
    "    batch_size=1,\n",
    "    shuffle=True,\n",
    "    num_workers=0,\n",
    ")"
   ]
  },
  {
   "cell_type": "markdown",
   "metadata": {
    "papermill": {
     "duration": 0.014024,
     "end_time": "2020-11-09T01:15:15.148105",
     "exception": false,
     "start_time": "2020-11-09T01:15:15.134081",
     "status": "completed"
    },
    "tags": []
   },
   "source": [
    "<h3><center>Model Architecture</center></h3>\n",
    "<img src=\"https://miro.medium.com/max/700/1*fJpamgw0yBZZRNEuex07hw.png\" width=\"1000\" height=\"1000\"/>\n",
    "<h4></h4>\n",
    "<h4><center>Image Source:  <a href=\"https://arxiv.org/abs/1609.04802\">Context Encoders: Feature Learning by Inpainting [Deepak Pathak et al.]</a></center></h4>"
   ]
  },
  {
   "cell_type": "markdown",
   "metadata": {
    "papermill": {
     "duration": 0.013178,
     "end_time": "2020-11-09T01:15:15.174415",
     "exception": false,
     "start_time": "2020-11-09T01:15:15.161237",
     "status": "completed"
    },
    "tags": []
   },
   "source": [
    "### Define Model Classes for Image"
   ]
  },
  {
   "cell_type": "markdown",
   "metadata": {},
   "source": [
    "### Audio Models\n"
   ]
  },
  {
   "cell_type": "markdown",
   "metadata": {},
   "source": [
    "### Simpler Models"
   ]
  },
  {
   "cell_type": "code",
   "execution_count": 287,
   "metadata": {},
   "outputs": [
    {
     "name": "stdout",
     "output_type": "stream",
     "text": [
      "torch.Size([1, 1, 1, 256])\n"
     ]
    }
   ],
   "source": [
    "class Generator(nn.Module):\n",
    "    def __init__(self, channels=1):\n",
    "        super(Generator, self).__init__()\n",
    "\n",
    "        def downsample(in_feat, out_feat, normalize=True):\n",
    "            layers = [nn.Conv2d(in_feat, out_feat, 4, stride=2, padding=1)]\n",
    "            if normalize:\n",
    "                layers.append(nn.BatchNorm2d(out_feat, 0.8))\n",
    "            layers.append(nn.LeakyReLU(0.2))\n",
    "            return layers\n",
    "\n",
    "        def upsample(in_feat, out_feat, normalize=True):\n",
    "            layers = [nn.ConvTranspose2d(in_feat, out_feat, 4, stride=(2, 1), padding=1)]\n",
    "            if normalize:\n",
    "                layers.append(nn.BatchNorm2d(out_feat, 0.8))\n",
    "            layers.append(nn.ReLU())\n",
    "            return layers\n",
    "\n",
    "        def upsampleLast(in_feat, out_feat, normalize=True):\n",
    "            layers = [nn.ConvTranspose2d(in_feat, out_feat, 4, stride=(2, 2), padding=1)]\n",
    "            if normalize:\n",
    "                layers.append(nn.BatchNorm2d(out_feat, 0.8))\n",
    "            layers.append(nn.ReLU())\n",
    "            return layers\n",
    "\n",
    "        self.model = nn.Sequential(\n",
    "            *downsample(channels, 64, normalize=False),\n",
    "            *downsample(64, 64),\n",
    "            *downsample(64, 128),\n",
    "            *downsample(128, 256),\n",
    "            *downsample(256, 512),\n",
    "            nn.Conv2d(512, 4000, 1),\n",
    "            *upsample(4000, 512),\n",
    "            *upsample(512, 256),\n",
    "            *upsample(256, 128),\n",
    "            *upsample(128, 64),\n",
    "            *upsampleLast(64, 32),\n",
    "            nn.Conv2d(32, channels, 3, 1, 1),\n",
    "            # nn.Tanh(),\n",
    "            # nn.MaxPool2d(img_size // 64)\n",
    "        )\n",
    "\n",
    "    def forward(self, x):\n",
    "        return self.model(x)\n",
    "\n",
    "\n",
    "class Discriminator(nn.Module):\n",
    "    def __init__(self, channels=1):\n",
    "        super(Discriminator, self).__init__()\n",
    "\n",
    "        def discriminator_block(in_filters, out_filters, stride, normalize):\n",
    "            \"\"\"Returns layers of each discriminator block\"\"\"\n",
    "            layers = [nn.Conv2d(in_filters, out_filters, (5,3) , stride, 1)]\n",
    "            if normalize:\n",
    "                layers.append(nn.InstanceNorm2d(out_filters))\n",
    "            layers.append(nn.LeakyReLU(0.2, inplace=True))\n",
    "            return layers\n",
    "\n",
    "        layers = []\n",
    "        lots_of_layers = [(64, (2,1), False), (128, (2,1), True), (256, (2,1), True),\n",
    "         (512, (2,1), True), (1024, (4,1), True), (2048, (4,1), True), (4096, (4,1), True)]\n",
    "\n",
    "        less_layers = [(64, (4,1), False), (128, (4,1), True), (256, (4,1), True),\n",
    "         (512, (4,1), True), (1024, (4,1), True)]\n",
    "\n",
    "        in_filters = channels\n",
    "        for out_filters, stride, normalize in less_layers:\n",
    "            layers.extend(discriminator_block(in_filters, out_filters, stride, normalize))\n",
    "            in_filters = out_filters\n",
    "        layers.append(nn.Conv2d(out_filters, 1, 3, 1, 1))\n",
    "        layers.append(nn.LayerNorm(256))\n",
    "        layers.append(nn.Sigmoid())\n",
    "\n",
    "        self.model = nn.Sequential(*layers)\n",
    "\n",
    "    def forward(self, img):\n",
    "        return self.model(img)\n",
    "\n",
    "\n",
    "my_gen = Generator()\n",
    "my_dis = Discriminator()\n",
    "x = torch.ones((1, 1, 1024, 256))\n",
    "y = my_dis(x)\n",
    "print(y.shape)\n",
    "\n"
   ]
  },
  {
   "cell_type": "markdown",
   "metadata": {
    "papermill": {
     "duration": 0.012879,
     "end_time": "2020-11-09T01:15:15.262165",
     "exception": false,
     "start_time": "2020-11-09T01:15:15.249286",
     "status": "completed"
    },
    "tags": []
   },
   "source": [
    "### Train Context-Encoder GAN"
   ]
  },
  {
   "cell_type": "code",
   "execution_count": 288,
   "metadata": {
    "execution": {
     "iopub.execute_input": "2020-11-09T01:15:15.309147Z",
     "iopub.status.busy": "2020-11-09T01:15:15.308443Z",
     "iopub.status.idle": "2020-11-09T01:15:20.318987Z",
     "shell.execute_reply": "2020-11-09T01:15:20.318033Z"
    },
    "papermill": {
     "duration": 5.043549,
     "end_time": "2020-11-09T01:15:20.319132",
     "exception": false,
     "start_time": "2020-11-09T01:15:15.275583",
     "status": "completed"
    },
    "tags": []
   },
   "outputs": [
    {
     "name": "stdout",
     "output_type": "stream",
     "text": [
      "torch.Size([1, 1, 1, 256])\n",
      "(1, 128, 32)\n"
     ]
    },
    {
     "data": {
      "image/png": "[encoded data removed]",
      "text/plain": [
       "<Figure size 432x288 with 2 Axes>"
      ]
     },
     "metadata": {
      "needs_background": "light"
     },
     "output_type": "display_data"
    }
   ],
   "source": [
    "def weights_init_normal(m):\n",
    "    classname = m.__class__.__name__\n",
    "    if classname.find(\"Conv\") != -1:\n",
    "        torch.nn.init.normal_(m.weight.data, 0.0, 0.02)\n",
    "    elif classname.find(\"BatchNorm2d\") != -1:\n",
    "        torch.nn.init.normal_(m.weight.data, 1.0, 0.02)\n",
    "        torch.nn.init.constant_(m.bias.data, 0.0)\n",
    "\n",
    "def save_sample(batches_done):\n",
    "    print('batch')\n",
    "    samples, masked_samples, aux, i = next(iter(test_dataloader))\n",
    "    samples = Variable(samples.type(Tensor))\n",
    "    masked_samples = Variable(masked_samples.type(Tensor))\n",
    "    # print(i)\n",
    "    # y1, x1 = i[0].item()  # Upper-left coordinate of mask\n",
    "    # Generate inpainted image\n",
    "    gen_mask = generator(masked_samples)\n",
    "    filled_samples = masked_samples.clone()\n",
    "    filled_samples = audio_package_fake(filled_samples, i, gen_mask, True)\n",
    "\n",
    "    \n",
    "    # filled_samples[:, :, y1 : y1 + mask_size, x1 : x1 + mask_size] = gen_mask\n",
    "    # Save sample\n",
    "    # sample = torch.cat((masked_samples.data, filled_samples.data, samples.data), -2)\n",
    "    # save_image(sample, \"testStuff/%d.png\" % batches_done, nrow=6, normalize=True)\n",
    "    sf.write(\"fullTestStuff/%d.wav\" % batches_done, filled_samples, sr)\n",
    "\n",
    "\n",
    "    # y = filled_samples\n",
    "\n",
    "    # S = librosa.stft(y, n_fft=n_fft)\n",
    "\n",
    "    # img = librosa.display.specshow(S, x_axis='time', y_axis='mel', sr=sr, fmax=8000, ax=ax)\n",
    "\n",
    "    # plt.savefig(\"fullTestStuff/%d.png\" % batches_done)\n",
    "\n",
    "\n",
    "\n",
    "def save_best_sample(batches_done, masked_samples, gen_mask):\n",
    "    filled_samples = masked_samples.clone()\n",
    "    filled_samples = audio_package_fake(filled_samples, i, gen_mask, True)\n",
    "    sf.write(f\"best_pixel_loss/{batches_done}.wav\", filled_samples, sr)\n",
    "\n",
    "def modify_sample(batches_done):\n",
    "    print('batch')\n",
    "    samples, masked_samples, aux, i = next(iter(test_dataloader))\n",
    "    samples = Variable(samples.type(Tensor))\n",
    "    masked_samples = Variable(masked_samples.type(Tensor))\n",
    "    # print(i)\n",
    "    # y1, x1 = i[0].item()  # Upper-left coordinate of mask\n",
    "    # Generate inpainted image\n",
    "    gen_mask = generator(masked_samples)\n",
    "    filled_samples = masked_samples.clone()\n",
    "    filled_samples = audio_package_fake(filled_samples, i, gen_mask, True)\n",
    "    # filled_samples[:, :, y1 : y1 + mask_size, x1 : x1 + mask_size] = gen_mask\n",
    "    # Save sample\n",
    "    # sample = torch.cat((masked_samples.data, filled_samples.data, samples.data), -2)\n",
    "    # save_image(sample, \"testStuff/%d.png\" % batches_done, nrow=6, normalize=True)\n",
    "    sf.write(\"modifyStuff/%d.wav\" % batches_done, filled_samples, sr)\n",
    "\n",
    "def audio_referbish(img, i, gen_mask, prep=False):\n",
    "    transform = T.Resize(size=(1025, 256))\n",
    "    transform1 = T.Resize(size=(1025, 25))\n",
    "    transform2 = T.Resize(size=(1024, 256))\n",
    "    filled_fake = img.clone()\n",
    "    filled_fake = transform(filled_fake)\n",
    "    filled_fake = filled_fake[0][0].numpy()\n",
    "    gen_mask = transform1(gen_mask)\n",
    "    gen_mask = gen_mask[0][0].detach()\n",
    "\n",
    "    # gen_mask[:, 1:3] = 0\n",
    "    gen_mask = gen_mask.numpy()\n",
    "    # print(f'this is the shape of gen_mask: {gen_mask.shape}')\n",
    "    d = librosa.istft(gen_mask, length=mask_size)\n",
    "    # print(f'this is the length of d: {len(d)}')\n",
    "    y_out = librosa.istft(filled_fake, length=musicLen)\n",
    "    # print(f'y_out shape: {y_out.shape}' )\n",
    "    y_out[i:i+mask_size] = d\n",
    "    if prep:\n",
    "        return y_out\n",
    "    filled_fake =  torch.FloatTensor([[librosa.stft(y_out, n_fft=n_fft)]])\n",
    "    filled_fake = transform2(filled_fake)\n",
    "    # filled_fake = Variable(filled_fake.type(Tensor))\n",
    "    return filled_fake\n",
    "\n",
    "def package_fake(masked_sample, i, gen_mask):\n",
    "    y1, x1 = i\n",
    "    filled_fake = masked_sample.clone()\n",
    "    filled_fake = Variable(filled_fake.type(Tensor))\n",
    "    filled_fake[:, :, y1 : y1 + mask_size, x1 : x1 + mask_size] = gen_mask\n",
    "    return filled_fake\n",
    "\n",
    "def audio_package_fake(img, i, gen_mask, prep=False):\n",
    "    transform = T.Resize(size=(1025, 256))\n",
    "    transform1 = T.Resize(size=(1025, 25))\n",
    "    transform2 = T.Resize(size=(1024, 256))\n",
    "    filled_fake = img.clone()\n",
    "    filled_fake = transform(filled_fake)\n",
    "    filled_fake = filled_fake[0][0].numpy()\n",
    "    gen_mask = transform1(gen_mask)\n",
    "    gen_mask = gen_mask[0][0].detach().numpy()\n",
    "    # print(f'this is the shape of gen_mask: {gen_mask.shape}')\n",
    "    d = librosa.istft(gen_mask, length=mask_size)\n",
    "    # print(f'this is the length of d: {len(d)}')\n",
    "    y_out = librosa.istft(filled_fake, length=musicLen)\n",
    "    # print(f'y_out shape: {y_out.shape}' )\n",
    "    y_out[i:i+mask_size] = d\n",
    "    if prep:\n",
    "        return y_out\n",
    "    filled_fake =  torch.FloatTensor([[librosa.stft(y_out, n_fft=n_fft)]])\n",
    "    filled_fake = transform2(filled_fake)\n",
    "    # filled_fake = Variable(filled_fake.type(Tensor))\n",
    "    return filled_fake\n",
    "\n",
    "def describe_tensor(tens, str):\n",
    "    print(str)\n",
    "    # print(f'tensor: {tens}')\n",
    "    # print(f'size: {tens.size()}')\n",
    "\n",
    "    \n",
    "# Loss function\n",
    "adversarial_loss = torch.nn.MSELoss()\n",
    "pixelwise_loss = torch.nn.L1Loss()\n",
    "\n",
    "# Initialize generator and discriminator\n",
    "generator = Generator()\n",
    "discriminator = Discriminator()\n",
    "\n",
    "# Load pretrained models\n",
    "if load_pretrained_models:\n",
    "    generator.load_state_dict(torch.load(\"saved_models/generatorFull.pth\"))\n",
    "    discriminator.load_state_dict(torch.load(\"saved_models/discriminatorFull.pth\"))\n",
    "    print(\"Using pre-trained Context-Encoder GAN model!\")\n",
    "\n",
    "if cuda:\n",
    "    generator.cuda()\n",
    "    discriminator.cuda()\n",
    "    adversarial_loss.cuda()\n",
    "    pixelwise_loss.cuda()\n",
    "\n",
    "# Initialize weights\n",
    "generator.apply(weights_init_normal)\n",
    "discriminator.apply(weights_init_normal)\n",
    "\n",
    "\n",
    "\n",
    "\n",
    "# Optimizers\n",
    "optimizer_G = torch.optim.Adam(generator.parameters(), lr=lr0, betas=(b1, b2))\n",
    "optimizer_D = torch.optim.Adam(discriminator.parameters(), lr=lr0, betas=(b1, b2))\n",
    "\n",
    "scheduler_G = torch.optim.lr_scheduler.LambdaLR(optimizer_G,\n",
    "    lr_lambda=lambda step: lr_decay(step)/lr0)\n",
    "scheduler_D = torch.optim.lr_scheduler.LambdaLR(optimizer_D,\n",
    "    lr_lambda=lambda step: lr_decay(step)/lr0)\n",
    "\n",
    "Tensor = torch.cuda.FloatTensor if cuda else torch.FloatTensor\n",
    "\n",
    "my_dis = Discriminator()\n",
    "w = torch.ones((1, 1, 1024, 256))\n",
    "z = torch.zeros((1, 1, 1024, patch_w))\n",
    "D = audio_package_fake(w, 200, z)\n",
    "D = w.detach().numpy()[0][0]\n",
    "y = my_dis(x)\n",
    "\n",
    "S = np.abs(D)\n",
    "fig, ax = plt.subplots()\n",
    "img = display.specshow(librosa.amplitude_to_db(S,\n",
    "                                                    ref=np.max),\n",
    "                            y_axis='log', x_axis='time', ax=ax)\n",
    "ax.set_title(f'Power spectrogram index: {sample_path}')\n",
    "fig.colorbar(img, ax=ax, format=\"%+2.0f dB\")\n",
    "\n",
    "\n",
    "print(y.shape)\n",
    "print(patch)\n",
    "\n",
    "\n",
    "def setTruth(tensor, flip=False):\n",
    "    # we create a copy of the original tensor, \n",
    "    # because of the way we are replacing them.\n",
    "    res = tensor.clone()\n",
    "\n",
    "    if flip:\n",
    "        res[tensor==0], res[tensor==1.0] = 1.0, 0\n",
    "    else:\n",
    "        res[tensor!=0] = 1.0\n",
    "    \n",
    "    return res\n",
    "\n",
    "\n",
    "\n",
    "\n",
    "\n"
   ]
  },
  {
   "cell_type": "markdown",
   "metadata": {},
   "source": [
    "### context encoder advanced"
   ]
  },
  {
   "cell_type": "markdown",
   "metadata": {},
   "source": [
    "### Simpler version of encoder"
   ]
  },
  {
   "cell_type": "code",
   "execution_count": 289,
   "metadata": {},
   "outputs": [
    {
     "data": {
      "application/vnd.jupyter.widget-view+json": {
       "model_id": "23eb1647e8c244729cc49388816aa8ce",
       "version_major": 2,
       "version_minor": 0
      },
      "text/plain": [
       "Training Epoch 0 :   0%|          | 0/999 [00:00<?, ?it/s]"
      ]
     },
     "metadata": {},
     "output_type": "display_data"
    },
    {
     "name": "stdout",
     "output_type": "stream",
     "text": [
      "gen_adv_loss = 0.3123650848865509, gen_pixel_loss = 0.19292135536670685, disc_loss = 0.2841334640979767\n",
      "batch\n",
      "gen_adv_loss = 0.8583852698897371, gen_pixel_loss = 8.56519974444504, disc_loss = 0.05464438002298374\n",
      "batch\n",
      "gen_adv_loss = 0.8651896870847958, gen_pixel_loss = 4.594706889950851, disc_loss = 0.05165670270943523\n",
      "batch\n",
      "gen_adv_loss = 0.8669818183314365, gen_pixel_loss = 3.2596192889393576, disc_loss = 0.050667164605915346\n",
      "batch\n",
      "gen_adv_loss = 0.86866819568703, gen_pixel_loss = 2.583458107818926, disc_loss = 0.04981962154779648\n",
      "batch\n",
      "gen_adv_loss = 0.8698587154081006, gen_pixel_loss = 2.1732391102565733, disc_loss = 0.04871851295054316\n",
      "batch\n",
      "gen_adv_loss = 0.8707911806078799, gen_pixel_loss = 1.91269135343867, disc_loss = 0.04765650607062854\n",
      "batch\n",
      "gen_adv_loss = 0.8713072559207721, gen_pixel_loss = 1.7277957452457802, disc_loss = 0.04684662450896775\n",
      "batch\n",
      "gen_adv_loss = 0.872172427571817, gen_pixel_loss = 1.579754208188711, disc_loss = 0.04584855103769925\n",
      "batch\n",
      "gen_adv_loss = 0.873233677048265, gen_pixel_loss = 1.4683855623634765, disc_loss = 0.04478407826493768\n",
      "batch\n"
     ]
    },
    {
     "data": {
      "application/vnd.jupyter.widget-view+json": {
       "model_id": "33cae495bfd04338abc464ec32fd2cde",
       "version_major": 2,
       "version_minor": 0
      },
      "text/plain": [
       "Training Epoch 1 :   0%|          | 0/999 [00:00<?, ?it/s]"
      ]
     },
     "metadata": {},
     "output_type": "display_data"
    },
    {
     "name": "stdout",
     "output_type": "stream",
     "text": [
      "gen_adv_loss = 0.881164014339447, gen_pixel_loss = 0.9242343008518219, disc_loss = 0.03598024696111679\n",
      "batch\n",
      "gen_adv_loss = 0.8872020706242206, gen_pixel_loss = 0.5986194616074071, disc_loss = 0.03273970631919071\n",
      "batch\n",
      "gen_adv_loss = 0.8884021976206562, gen_pixel_loss = 0.5709198752076983, disc_loss = 0.03234515382474897\n",
      "batch\n"
     ]
    },
    {
     "ename": "KeyboardInterrupt",
     "evalue": "",
     "output_type": "error",
     "traceback": [
      "\u001b[0;31m---------------------------------------------------------------------------\u001b[0m",
      "\u001b[0;31mKeyboardInterrupt\u001b[0m                         Traceback (most recent call last)",
      "\u001b[0;32m<ipython-input-289-ffdd7dfb3aa1>\u001b[0m in \u001b[0;36m<module>\u001b[0;34m\u001b[0m\n\u001b[1;32m     84\u001b[0m         \u001b[0mg_loss\u001b[0m \u001b[0;34m=\u001b[0m \u001b[0;36m0.8\u001b[0m \u001b[0;34m*\u001b[0m \u001b[0mg_adv\u001b[0m \u001b[0;34m+\u001b[0m \u001b[0;36m0.2\u001b[0m \u001b[0;34m*\u001b[0m \u001b[0mg_pixel\u001b[0m\u001b[0;34m\u001b[0m\u001b[0;34m\u001b[0m\u001b[0m\n\u001b[1;32m     85\u001b[0m \u001b[0;34m\u001b[0m\u001b[0m\n\u001b[0;32m---> 86\u001b[0;31m         \u001b[0mg_loss\u001b[0m\u001b[0;34m.\u001b[0m\u001b[0mbackward\u001b[0m\u001b[0;34m(\u001b[0m\u001b[0;34m)\u001b[0m\u001b[0;34m\u001b[0m\u001b[0;34m\u001b[0m\u001b[0m\n\u001b[0m\u001b[1;32m     87\u001b[0m         \u001b[0moptimizer_G\u001b[0m\u001b[0;34m.\u001b[0m\u001b[0mstep\u001b[0m\u001b[0;34m(\u001b[0m\u001b[0;34m)\u001b[0m\u001b[0;34m\u001b[0m\u001b[0;34m\u001b[0m\u001b[0m\n\u001b[1;32m     88\u001b[0m         \u001b[0mscheduler_G\u001b[0m\u001b[0;34m.\u001b[0m\u001b[0mstep\u001b[0m\u001b[0;34m(\u001b[0m\u001b[0;34m)\u001b[0m\u001b[0;34m\u001b[0m\u001b[0;34m\u001b[0m\u001b[0m\n",
      "\u001b[0;32m~/opt/anaconda3/envs/Neuro140/lib/python3.8/site-packages/torch/_tensor.py\u001b[0m in \u001b[0;36mbackward\u001b[0;34m(self, gradient, retain_graph, create_graph, inputs)\u001b[0m\n\u001b[1;32m    305\u001b[0m                 \u001b[0mcreate_graph\u001b[0m\u001b[0;34m=\u001b[0m\u001b[0mcreate_graph\u001b[0m\u001b[0;34m,\u001b[0m\u001b[0;34m\u001b[0m\u001b[0;34m\u001b[0m\u001b[0m\n\u001b[1;32m    306\u001b[0m                 inputs=inputs)\n\u001b[0;32m--> 307\u001b[0;31m         \u001b[0mtorch\u001b[0m\u001b[0;34m.\u001b[0m\u001b[0mautograd\u001b[0m\u001b[0;34m.\u001b[0m\u001b[0mbackward\u001b[0m\u001b[0;34m(\u001b[0m\u001b[0mself\u001b[0m\u001b[0;34m,\u001b[0m \u001b[0mgradient\u001b[0m\u001b[0;34m,\u001b[0m \u001b[0mretain_graph\u001b[0m\u001b[0;34m,\u001b[0m \u001b[0mcreate_graph\u001b[0m\u001b[0;34m,\u001b[0m \u001b[0minputs\u001b[0m\u001b[0;34m=\u001b[0m\u001b[0minputs\u001b[0m\u001b[0;34m)\u001b[0m\u001b[0;34m\u001b[0m\u001b[0;34m\u001b[0m\u001b[0m\n\u001b[0m\u001b[1;32m    308\u001b[0m \u001b[0;34m\u001b[0m\u001b[0m\n\u001b[1;32m    309\u001b[0m     \u001b[0;32mdef\u001b[0m \u001b[0mregister_hook\u001b[0m\u001b[0;34m(\u001b[0m\u001b[0mself\u001b[0m\u001b[0;34m,\u001b[0m \u001b[0mhook\u001b[0m\u001b[0;34m)\u001b[0m\u001b[0;34m:\u001b[0m\u001b[0;34m\u001b[0m\u001b[0;34m\u001b[0m\u001b[0m\n",
      "\u001b[0;32m~/opt/anaconda3/envs/Neuro140/lib/python3.8/site-packages/torch/autograd/__init__.py\u001b[0m in \u001b[0;36mbackward\u001b[0;34m(tensors, grad_tensors, retain_graph, create_graph, grad_variables, inputs)\u001b[0m\n\u001b[1;32m    152\u001b[0m         \u001b[0mretain_graph\u001b[0m \u001b[0;34m=\u001b[0m \u001b[0mcreate_graph\u001b[0m\u001b[0;34m\u001b[0m\u001b[0;34m\u001b[0m\u001b[0m\n\u001b[1;32m    153\u001b[0m \u001b[0;34m\u001b[0m\u001b[0m\n\u001b[0;32m--> 154\u001b[0;31m     Variable._execution_engine.run_backward(\n\u001b[0m\u001b[1;32m    155\u001b[0m         \u001b[0mtensors\u001b[0m\u001b[0;34m,\u001b[0m \u001b[0mgrad_tensors_\u001b[0m\u001b[0;34m,\u001b[0m \u001b[0mretain_graph\u001b[0m\u001b[0;34m,\u001b[0m \u001b[0mcreate_graph\u001b[0m\u001b[0;34m,\u001b[0m \u001b[0minputs\u001b[0m\u001b[0;34m,\u001b[0m\u001b[0;34m\u001b[0m\u001b[0;34m\u001b[0m\u001b[0m\n\u001b[1;32m    156\u001b[0m         allow_unreachable=True, accumulate_grad=True)  # allow_unreachable flag\n",
      "\u001b[0;31mKeyboardInterrupt\u001b[0m: "
     ]
    }
   ],
   "source": [
    "gen_adv_losses, gen_pixel_losses, disc_losses, counter = [], [], [], []\n",
    "best = 999999\n",
    "for epoch in range(n_epochs):\n",
    "    \n",
    "    ### Training ###\n",
    "    gen_adv_loss, gen_pixel_loss, disc_loss = 0, 0, 0\n",
    "    tqdm_bar = tqdm(dataloader, desc=f'Training Epoch {epoch} ', total=int(len(dataloader)))\n",
    "    for i, (imgs, masked_imgs, masked_parts, index) in enumerate(tqdm_bar):\n",
    "            \n",
    "        # Adversarial ground truths\n",
    "        valid = Variable(Tensor(imgs.shape[0], *patch).fill_(1.0), requires_grad=False)\n",
    "        full_valid = Variable(Tensor(imgs.shape[0], *full).fill_(1.0), requires_grad=False)\n",
    "        fake = Variable(Tensor(imgs.shape[0], *patch).fill_(0.0), requires_grad=False)\n",
    " \n",
    "        # Configure input\n",
    "        imgs = Variable(imgs.type(Tensor))\n",
    "        masked_imgs = Variable(masked_imgs.type(Tensor))\n",
    "        masked_parts = Variable(masked_parts.type(Tensor))\n",
    "\n",
    "        ## Train Generator ##\n",
    "        optimizer_G.zero_grad()\n",
    "        # print(masked_imgs.shape)\n",
    "        # Generate a batch of images\n",
    "        gen_parts = generator(masked_imgs)\n",
    "        # describe_tensor(full_gen, 'full_gen')\n",
    "        # bigFake = package_fake(masked_imgs, index, fake)\n",
    "        # describe_tensor(bigFake, 'bigfake')\n",
    "\n",
    "        # print(gen_parts.shape)\n",
    "        # print(discriminator(gen_parts).size())\n",
    "        # print(valid.size())\n",
    "\n",
    "        # Adversarial and pixelwise loss\n",
    "        # print(\"MY SHAPES\")\n",
    "        gen = gen_parts\n",
    "\n",
    "        # print(f\"full valid size: ${full_valid.shape}\")\n",
    "\n",
    "        # print(f\"fake size: ${fake.shape}\")\n",
    "\n",
    "        # print(f\"masked_imgs size: ${masked_imgs.shape}\")\n",
    "\n",
    "        # print(f\"gen size: ${fake.shape}\")\n",
    "\n",
    "        package_ground = setTruth(audio_package_fake(masked_imgs.clone(), index, fake.clone()))\n",
    "\n",
    "        packaged_fake = audio_package_fake(masked_imgs.clone(), index, gen)\n",
    "\n",
    "        # print(f\"package_ground line 1: ${package_ground[0]}\")\n",
    "\n",
    "        # np.savetxt('my_ground.txt', package_ground[0][0].numpy())\n",
    "\n",
    "        # np.savetxt('my_packaged_fake.txt', packaged_fake[0][0].numpy())\n",
    "\n",
    "        # print(f\"package_ground size: ${package_ground.shape}\")\n",
    "\n",
    "        # print(f\"packaged_fake size: ${packaged_fake.shape}\")\n",
    "        \n",
    "        discrim_result = discriminator(packaged_fake) \n",
    "        shape = discrim_result.detach().numpy()[0][0].shape\n",
    "        # print(shape)\n",
    "        # print(valid.shape)\n",
    "        transform = T.Resize(size=shape)\n",
    "        # print(valid.shape)\n",
    "        # print(gen.shape)\n",
    "        # print(discrim_result.shape)\n",
    "        transform_to_mask_size = T.Resize(size=masked_parts.detach().numpy()[0][0].shape)\n",
    "        resize_gen= transform_to_mask_size(gen)\n",
    "        # print(f'resize gen: {resize_gen.shape}')\n",
    "        # print(f'masked parts: {masked_parts.shape}')\n",
    "\n",
    "        # np.savetxt('my_packaged_fake.txt', setTruth(package_ground, True)[:, :, 0][0])\n",
    "\n",
    "        # np.savetxt('my_ground.txt', imgs[0][0])\n",
    "\n",
    "        # print(imgs[0].detach().shape)\n",
    "\n",
    "        # print(setTruth(package_ground, True)[:, :, 0].shape)\n",
    "\n",
    "        \n",
    "        g_adv = adversarial_loss(discrim_result[0], setTruth(package_ground, True)[:, :, 0])\n",
    "        g_pixel = pixelwise_loss(resize_gen, masked_parts)\n",
    "        # Total loss\n",
    "        g_loss = 0.8 * g_adv + 0.2 * g_pixel\n",
    "\n",
    "        g_loss.backward()\n",
    "        optimizer_G.step()\n",
    "        scheduler_G.step()\n",
    "\n",
    "        ## Train Discriminator ##\n",
    "        optimizer_D.zero_grad()\n",
    "\n",
    "        # Measure discriminator's ability to classify real from generated samples\n",
    "        # TODO fix this discriminator\n",
    "        real_discrim = transform(discriminator(imgs))\n",
    "        gen_discrim = transform(discriminator(packaged_fake.detach()))\n",
    "        # print(f\"real_discrim size: ${real_discrim.shape}\")\n",
    "\n",
    "        # print(f\"gen_discrim size: ${gen_discrim.shape}\")\n",
    "        # np.savetxt('my_packaged_fake.txt', full_valid[:, :, 0][0])\n",
    "\n",
    "        # np.savetxt('my_ground.txt', real_discrim.detach().numpy()[0][0])\n",
    "\n",
    "        # print(real_discrim[0].shape)\n",
    "\n",
    "        # print(full_valid[:, :, 0].shape)\n",
    "\n",
    "\n",
    "        real_loss = adversarial_loss(real_discrim[0], full_valid[:, :, 0])\n",
    "        fake_loss = adversarial_loss(gen_discrim[0], package_ground[:, :, 0])\n",
    "        \n",
    "        d_loss = 0.5 * (real_loss + fake_loss)\n",
    "        # print(d_loss)\n",
    "\n",
    "        d_loss.backward()\n",
    "        optimizer_D.step()\n",
    "        scheduler_D.step()\n",
    "        \n",
    "        gen_adv_loss += g_adv.item()\n",
    "        gen_pixel_loss += g_pixel.item()\n",
    "        gen_adv_losses.append(g_adv.item())\n",
    "        gen_pixel_losses.append(g_pixel.item())\n",
    "        disc_loss += d_loss.item()\n",
    "        disc_losses.append(d_loss.item())\n",
    "        counter.append(i*batch_size +  imgs.size(0) + epoch*len(dataloader.dataset))\n",
    "        tqdm_bar.set_postfix(gen_adv_loss=gen_adv_loss/(i+1), gen_pixel_loss=gen_pixel_loss/(i+1), disc_loss=disc_loss/(i+1))\n",
    "        \n",
    "        # if best > gen_pixel_loss/(i+1):\n",
    "        #     best = gen_pixel_loss/(i+1)\n",
    "        #     save_best_sample(str(gen_pixel_loss/(i+1)), masked_imgs, gen_parts.detach())\n",
    "        # Generate sample at sample interval\n",
    "        batches_done = epoch * len(dataloader) + i\n",
    "        if batches_done % sample_interval == 0:\n",
    "            print(f\"gen_adv_loss = {gen_adv_loss/(i+1)}, gen_pixel_loss = {gen_pixel_loss/(i+1)}, disc_loss = {disc_loss/(i+1)}\")\n",
    "            save_sample(batches_done)\n",
    "            \n",
    "    torch.save(generator.state_dict(), \"saved_models/generatorFull.pth\")\n",
    "    torch.save(discriminator.state_dict(), \"saved_models/discriminatorFull.pth\")"
   ]
  },
  {
   "cell_type": "markdown",
   "metadata": {},
   "source": [
    "### spectrogram"
   ]
  },
  {
   "cell_type": "code",
   "execution_count": null,
   "metadata": {},
   "outputs": [],
   "source": [
    "root = './fullTestStuff'\n",
    "\n",
    "save_sample(9999999)\n",
    "\n",
    "files = sorted(glob.glob(\"%s/*\" % root))\n",
    "print(len(files))\n",
    "for file in files:\n",
    "    y, sr = librosa.load(file)\n",
    "    D = librosa.stft(y)\n",
    "    S = np.abs(D)\n",
    "    fig, ax = plt.subplots()\n",
    "    img = display.specshow(librosa.amplitude_to_db(S,\n",
    "                                                        ref=np.max),\n",
    "                                y_axis='log', x_axis='time', ax=ax)\n",
    "    ax.set_title(f'Power spectrogram index: {file}')\n",
    "    fig.colorbar(img, ax=ax, format=\"%+2.0f dB\")\n",
    "\n",
    "\n",
    "blurrer = T.GaussianBlur(kernel_size=(5, 9), sigma=(0.6, 0.6))\n",
    "\n",
    "\n",
    "sample_path = './allGenresSuccess2/990.wav'\n",
    "\n",
    "\n",
    "y, sr = librosa.load(sample_path)\n",
    "\n",
    "D = torch.FloatTensor([librosa.stft(y, n_fft=n_fft)])\n",
    "\n",
    "D = blurrer(D)\n",
    "D = D[0].numpy()\n",
    "\n",
    "# D[600:-10] = 0\n",
    "y_out = librosa.istft(D, length=musicLen)\n",
    "sf.write(\"modifyStuff/%d.wav\" % 69, y_out, sr)\n",
    "S = np.abs(D)\n",
    "fig, ax = plt.subplots()\n",
    "img = display.specshow(librosa.amplitude_to_db(S,\n",
    "                                                    ref=np.max),\n",
    "                            y_axis='log', x_axis='time', ax=ax)\n",
    "ax.set_title(f'Power spectrogram index: {sample_path}')\n",
    "fig.colorbar(img, ax=ax, format=\"%+2.0f dB\")\n",
    "\n",
    "# print(gen_pixel_losses)\n",
    "\n"
   ]
  },
  {
   "cell_type": "code",
   "execution_count": null,
   "metadata": {
    "execution": {
     "iopub.execute_input": "2020-11-09T04:56:41.925205Z",
     "iopub.status.busy": "2020-11-09T04:56:41.924378Z",
     "iopub.status.idle": "2020-11-09T04:56:47.238005Z",
     "shell.execute_reply": "2020-11-09T04:56:47.238582Z"
    },
    "papermill": {
     "duration": 5.349884,
     "end_time": "2020-11-09T04:56:47.238730",
     "exception": false,
     "start_time": "2020-11-09T04:56:41.888846",
     "status": "completed"
    },
    "tags": []
   },
   "outputs": [
    {
     "data": {
      "application/vnd.plotly.v1+json": {
       "config": {
        "plotlyServerURL": "https://plot.ly"
       },
       "data": [
        {
         "mode": "lines",
         "name": "Gen Adv Loss",
         "type": "scatter",
         "x": [
          10,
          20,
          30,
          40,
          50,
          60,
          70,
          80,
          90,
          100,
          110,
          120,
          130,
          140,
          150,
          160,
          170,
          180,
          190,
          200,
          210,
          220,
          230,
          240,
          250,
          260,
          270,
          280,
          290,
          300,
          310,
          320,
          330,
          340,
          350,
          360,
          370,
          380,
          390,
          400,
          410,
          420,
          430,
          440,
          450,
          460,
          470,
          480,
          490,
          500,
          510,
          520,
          530,
          540,
          550,
          560,
          570,
          580,
          590,
          600,
          610,
          620,
          630,
          640,
          650,
          660,
          670,
          680,
          690,
          700,
          710,
          720,
          730,
          740,
          750,
          760,
          770,
          780,
          790,
          800,
          810,
          820,
          830,
          840,
          850,
          860,
          870,
          880,
          890,
          900,
          910,
          920,
          930,
          940,
          950,
          960,
          970,
          980,
          990,
          999,
          1009,
          1019,
          1029,
          1039,
          1049,
          1059,
          1069,
          1079,
          1089,
          1099,
          1109,
          1119,
          1129,
          1139,
          1149,
          1159,
          1169,
          1179,
          1189,
          1199,
          1209,
          1219,
          1229,
          1239,
          1249,
          1259,
          1269,
          1279,
          1289,
          1299,
          1309,
          1319,
          1329,
          1339,
          1349,
          1359,
          1369,
          1379,
          1389,
          1399,
          1409,
          1419,
          1429,
          1439,
          1449,
          1459,
          1469,
          1479,
          1489,
          1499,
          1509,
          1519,
          1529,
          1539,
          1549,
          1559,
          1569,
          1579,
          1589,
          1599,
          1609,
          1619,
          1629,
          1639,
          1649,
          1659,
          1669,
          1679,
          1689,
          1699,
          1709,
          1719,
          1729,
          1739,
          1749,
          1759,
          1769,
          1779,
          1789,
          1799,
          1809,
          1819,
          1829,
          1839,
          1849,
          1859,
          1869,
          1879,
          1889,
          1899,
          1909,
          1919,
          1929,
          1939,
          1949,
          1959,
          1969,
          1979,
          1989,
          1998,
          2008,
          2018,
          2028,
          2038,
          2048,
          2058,
          2068,
          2078,
          2088,
          2098,
          2108,
          2118,
          2128,
          2138,
          2148,
          2158,
          2168,
          2178,
          2188,
          2198,
          2208,
          2218,
          2228,
          2238,
          2248,
          2258,
          2268,
          2278,
          2288,
          2298,
          2308,
          2318,
          2328,
          2338,
          2348,
          2358,
          2368,
          2378,
          2388,
          2398,
          2408,
          2418,
          2428,
          2438,
          2448,
          2458,
          2468,
          2478,
          2488,
          2498,
          2508,
          2518,
          2528,
          2538,
          2548,
          2558,
          2568,
          2578,
          2588,
          2598,
          2608,
          2618,
          2628,
          2638,
          2648,
          2658,
          2668,
          2678,
          2688,
          2698,
          2708,
          2718,
          2728,
          2738,
          2748,
          2758,
          2768,
          2778,
          2788,
          2798,
          2808,
          2818,
          2828,
          2838,
          2848,
          2858,
          2868,
          2878,
          2888,
          2898,
          2908,
          2918,
          2928,
          2938,
          2948,
          2958,
          2968,
          2978,
          2988,
          2997,
          3007,
          3017,
          3027,
          3037,
          3047,
          3057,
          3067,
          3077,
          3087,
          3097,
          3107,
          3117,
          3127,
          3137,
          3147,
          3157,
          3167,
          3177,
          3187,
          3197,
          3207,
          3217,
          3227,
          3237,
          3247,
          3257,
          3267,
          3277,
          3287,
          3297,
          3307,
          3317,
          3327,
          3337,
          3347,
          3357,
          3367,
          3377,
          3387,
          3397,
          3407,
          3417,
          3427,
          3437,
          3447,
          3457,
          3467,
          3477,
          3487,
          3497,
          3507,
          3517,
          3527,
          3537,
          3547,
          3557,
          3567,
          3577,
          3587,
          3597,
          3607,
          3617,
          3627,
          3637,
          3647,
          3657,
          3667,
          3677,
          3687,
          3697,
          3707,
          3717,
          3727,
          3737,
          3747,
          3757,
          3767,
          3777,
          3787,
          3797,
          3807,
          3817,
          3827,
          3837,
          3847,
          3857,
          3867,
          3877,
          3887,
          3897,
          3907,
          3917,
          3927,
          3937,
          3947,
          3957,
          3967,
          3977,
          3987,
          3996,
          4006,
          4016,
          4026,
          4036,
          4046,
          4056,
          4066,
          4076,
          4086,
          4096,
          4106,
          4116,
          4126,
          4136,
          4146,
          4156,
          4166,
          4176,
          4186,
          4196,
          4206,
          4216,
          4226,
          4236,
          4246,
          4256,
          4266,
          4276,
          4286,
          4296,
          4306,
          4316,
          4326,
          4336,
          4346,
          4356,
          4366,
          4376,
          4386,
          4396,
          4406,
          4416,
          4426,
          4436,
          4446,
          4456,
          4466,
          4476,
          4486,
          4496,
          4506,
          4516,
          4526,
          4536,
          4546,
          4556,
          4566,
          4576,
          4586,
          4596,
          4606,
          4616,
          4626,
          4636,
          4646,
          4656,
          4666,
          4676,
          4686,
          4696,
          4706,
          4716,
          4726,
          4736,
          4746,
          4756,
          4766,
          4776,
          4786,
          4796,
          4806,
          4816,
          4826,
          4836,
          4846,
          4856,
          4866,
          4876,
          4886,
          4896,
          4906,
          4916,
          4926,
          4936,
          4946,
          4956,
          4966,
          4976,
          4986,
          4995
         ],
         "y": [
          1.7918484210968018,
          7093.17041015625,
          321260.0625,
          195651.5625,
          300007.375,
          652145.9375,
          155183.078125,
          88145.1953125,
          47819.04296875,
          6551.880859375,
          7979.56689453125,
          6668.11962890625,
          1757.8326416015625,
          1668.861083984375,
          1407.99462890625,
          184.59072875976562,
          311.7777099609375,
          436.8940734863281,
          91.95609283447266,
          70.52970123291016,
          69.99253845214844,
          47.20323944091797,
          79.32209777832031,
          41.3808479309082,
          47.95201873779297,
          33.10016632080078,
          34.86567306518555,
          40.23207092285156,
          105.12268829345703,
          84.15998077392578,
          163.07286071777344,
          219.468017578125,
          603.2779541015625,
          1393.4251708984375,
          3339.48681640625,
          7549.89697265625,
          19632.240234375,
          47618.01953125,
          99320.3828125,
          95968.5390625,
          81748.2265625,
          33290.3671875,
          91896.2578125,
          354703.40625,
          162937.5,
          17486.9296875,
          224893.453125,
          252121.484375,
          155711.828125,
          35747.6953125,
          4819.66064453125,
          11494.2744140625,
          3977.34375,
          986.611572265625,
          1488.280517578125,
          483.5332336425781,
          296.8552551269531,
          211.8312530517578,
          134.7360076904297,
          105.56119537353516,
          46.90363693237305,
          53.96675491333008,
          55.790836334228516,
          34.94847106933594,
          43.26220703125,
          38.6225471496582,
          30.31281852722168,
          33.43659591674805,
          33.40127182006836,
          26.88426971435547,
          33.17120361328125,
          27.796642303466797,
          25.39647674560547,
          32.63780975341797,
          26.924741744995117,
          25.349609375,
          29.09424591064453,
          24.000295639038086,
          25.183849334716797,
          21.64938735961914,
          25.212913513183594,
          23.435649871826172,
          27.11738395690918,
          24.642724990844727,
          24.99045753479004,
          27.669450759887695,
          35.78038787841797,
          40.68985366821289,
          19.693605422973633,
          14.508410453796387,
          12.290740966796875,
          19.1256103515625,
          11.186677932739258,
          20.87609100341797,
          9.446659088134766,
          12.037978172302246,
          8.003931045532227,
          6.719536781311035,
          11.703363418579102,
          6.512282848358154,
          10.769628524780273,
          5.654411792755127,
          5.284215450286865,
          7.892806053161621,
          4.424866199493408,
          11.02691650390625,
          5.574521541595459,
          11.606210708618164,
          3.3825910091400146,
          5.675212383270264,
          5.784952640533447,
          7.1327738761901855,
          3.6266705989837646,
          3.122506618499756,
          7.219014644622803,
          4.720046520233154,
          3.211543560028076,
          5.218273639678955,
          3.239102602005005,
          3.452397584915161,
          4.994433879852295,
          12.478748321533203,
          7.997769832611084,
          33.19608688354492,
          42.801517486572266,
          112.1722412109375,
          158.04322814941406,
          322.59967041015625,
          449.4891052246094,
          1151.055419921875,
          2255.656494140625,
          8380.74609375,
          19735.775390625,
          45267.7109375,
          75205.0859375,
          152925,
          107596.1015625,
          33619.08203125,
          6808.35400390625,
          3676.035888671875,
          3503.536376953125,
          1709.028564453125,
          197.7412567138672,
          638.6923217773438,
          186.9303436279297,
          73.32083129882812,
          102.4371566772461,
          33.21862030029297,
          40.59418487548828,
          27.434648513793945,
          21.67388153076172,
          23.51909637451172,
          19.23166275024414,
          17.236888885498047,
          18.873693466186523,
          15.13582992553711,
          14.99987506866455,
          15.176334381103516,
          14.731314659118652,
          14.728618621826172,
          13.001089096069336,
          11.73415756225586,
          11.945575714111328,
          11.578354835510254,
          13.30852222442627,
          9.9910888671875,
          12.347107887268066,
          11.624576568603516,
          10.204131126403809,
          9.8545560836792,
          9.186771392822266,
          9.367890357971191,
          8.155338287353516,
          9.250079154968262,
          7.303956985473633,
          8.282835960388184,
          7.501706123352051,
          6.4819016456604,
          7.120863914489746,
          7.9670867919921875,
          7.781362056732178,
          8.140610694885254,
          6.226750373840332,
          6.33871603012085,
          6.280569076538086,
          6.896603584289551,
          6.901435375213623,
          5.487583637237549,
          5.487678050994873,
          5.194626808166504,
          6.950826168060303,
          5.232600212097168,
          5.458407878875732,
          6.964284420013428,
          6.184443473815918,
          4.40170431137085,
          6.129204750061035,
          6.469825744628906,
          4.742149829864502,
          7.353349685668945,
          5.505014896392822,
          4.488202095031738,
          7.317962169647217,
          4.500662803649902,
          5.316638469696045,
          6.187369346618652,
          4.839302062988281,
          7.751675128936768,
          4.672573566436768,
          4.296331405639648,
          6.330102443695068,
          5.131607532501221,
          4.190091133117676,
          5.810112476348877,
          3.9727609157562256,
          5.6076741218566895,
          4.230301856994629,
          8.800472259521484,
          4.465943336486816,
          4.857853889465332,
          4.451279640197754,
          3.5206358432769775,
          5.559959888458252,
          3.2715866565704346,
          5.492547988891602,
          3.14715313911438,
          5.616892337799072,
          2.9272043704986572,
          3.583651065826416,
          2.7099406719207764,
          6.1117844581604,
          4.168309688568115,
          2.645861864089966,
          2.1523804664611816,
          2.7108700275421143,
          2.548116445541382,
          2.2986581325531006,
          2.6452651023864746,
          4.695332050323486,
          3.187462568283081,
          7.554188251495361,
          3.9830336570739746,
          8.052013397216797,
          8.441826820373535,
          18.212284088134766,
          11.067087173461914,
          17.928043365478516,
          10.216509819030762,
          17.629602432250977,
          10.190807342529297,
          20.68780517578125,
          14.627622604370117,
          27.580984115600586,
          26.200708389282227,
          42.71615982055664,
          47.61747741699219,
          90.93600463867188,
          91.4505386352539,
          159.03114318847656,
          221.3691864013672,
          291.9582824707031,
          292.5313720703125,
          356.1156005859375,
          320.8503723144531,
          374.00238037109375,
          356.5536804199219,
          386.51129150390625,
          392.9018249511719,
          490.6026916503906,
          687.3856811523438,
          901.2183227539062,
          804.8598022460938,
          869.3001708984375,
          912.2042236328125,
          1036.2298583984375,
          1046.7647705078125,
          1185.826416015625,
          1245.78076171875,
          1471.7110595703125,
          1456.5882568359375,
          2026.87548828125,
          2057.886962890625,
          1902.9764404296875,
          2045.343017578125,
          2402.131103515625,
          2396.961181640625,
          2348.96337890625,
          1890.6177978515625,
          2216.998291015625,
          1812.0089111328125,
          1759.9732666015625,
          1886.7803955078125,
          2178.3681640625,
          1891.7647705078125,
          1891.1778564453125,
          1462.4940185546875,
          1189.9075927734375,
          811.8706665039062,
          686.617919921875,
          402.97076416015625,
          427.4447937011719,
          216.30914306640625,
          148.76490783691406,
          92.2330551147461,
          117.23487091064453,
          89.87345886230469,
          151.12791442871094,
          137.85513305664062,
          184.51947021484375,
          176.412841796875,
          280.3216247558594,
          290.4993896484375,
          386.8616027832031,
          306.37591552734375,
          318.92071533203125,
          253.8401336669922,
          327.6713562011719,
          338.1338195800781,
          414.8302001953125,
          400.89764404296875,
          571.2601928710938,
          538.0936279296875,
          715.5252685546875,
          797.2575073242188,
          1277.274658203125,
          1695.6824951171875,
          2198.38134765625,
          2398.46923828125,
          2908.949951171875,
          3310.406005859375,
          4144.80615234375,
          4681.35888671875,
          6320.87841796875,
          6005.9140625,
          5571.15087890625,
          3669.506103515625,
          2245.907958984375,
          1624.3255615234375,
          1266.3746337890625,
          689.9640502929688,
          651.0863037109375,
          383.98040771484375,
          316.05157470703125,
          217.6575469970703,
          327.7686462402344,
          346.9640197753906,
          572.257080078125,
          567.8984375,
          757.8367919921875,
          593.9891357421875,
          620.6622924804688,
          452.7005310058594,
          459.4007263183594,
          368.56768798828125,
          317.8366394042969,
          248.98976135253906,
          225.98428344726562,
          205.30809020996094,
          209.74063110351562,
          157.59127807617188,
          180.6028289794922,
          180.3330841064453,
          252.73406982421875,
          228.83966064453125,
          294.634765625,
          327.6800842285156,
          575.5779418945312,
          861.4365234375,
          1599.577880859375,
          2108.339111328125,
          3749.92578125,
          4754.4033203125,
          5830.24853515625,
          6568.0263671875,
          7748.7646484375,
          8892.162109375,
          9463.8017578125,
          8832.7587890625,
          8920.0634765625,
          8924.484375,
          7764.8134765625,
          4449.0322265625,
          2217.25537109375,
          1062.03125,
          1293.042724609375,
          760.7394409179688,
          498.5809631347656,
          537.5016479492188,
          900.199462890625,
          1189.725830078125,
          1921.80322265625,
          2677.68505859375,
          4092.97802734375,
          4949.86865234375,
          4305.5244140625,
          2735.49609375,
          1881.655029296875,
          1036.8182373046875,
          493.0242614746094,
          238.12022399902344,
          177.35983276367188,
          180.43411254882812,
          201.94981384277344,
          189.27317810058594,
          183.2575225830078,
          156.33506774902344,
          222.09835815429688,
          296.2361755371094,
          372.1700134277344,
          386.00762939453125,
          390.9699401855469,
          449.0752868652344,
          522.821533203125,
          605.6680297851562,
          550.9490356445312,
          399.6515197753906,
          294.2749938964844,
          217.1630859375,
          221.33444213867188,
          207.43714904785156,
          226.50193786621094,
          185.1905059814453,
          161.0936737060547,
          116.49447631835938,
          83.9882583618164,
          60.55695724487305,
          49.80900192260742,
          33.8062744140625,
          22.162303924560547,
          10.130769729614258,
          9.328624725341797,
          6.208733558654785,
          9.54879093170166,
          4.874146461486816,
          11.984475135803223,
          4.912112236022949,
          7.938969612121582,
          3.0896687507629395,
          9.224218368530273,
          4.410759925842285,
          13.606084823608398,
          5.237986087799072,
          7.878421306610107,
          2.6242518424987793,
          9.19876480102539,
          2.6862218379974365,
          8.132217407226562,
          3.9034550189971924,
          13.639446258544922,
          5.858100891113281,
          19.05384063720703,
          15.092738151550293,
          43.572879791259766,
          50.825721740722656,
          101.37516784667969,
          134.8828125,
          254.476806640625,
          449.75506591796875,
          982.6940307617188,
          1757.66845703125,
          2408.27392578125,
          2613.67236328125,
          3076.65673828125,
          3597.640380859375,
          4290.9912109375,
          4180.13037109375,
          3873.4150390625,
          4276.89990234375,
          5371.97314453125,
          6370.85888671875,
          10521.787109375,
          17320.3671875,
          23423.462890625,
          19228.626953125,
          3784.7666015625,
          9399.322265625,
          58727.50390625,
          277733.8125,
          579391.5625,
          893596.75,
          5128809,
          3685581.25,
          66283928,
          77857912,
          9963667,
          5066797,
          5176679.5,
          2359947,
          631286.625,
          215251.53125,
          243340.703125,
          175398.859375,
          69844.7265625,
          34719.4453125,
          33148.3515625,
          30889.341796875,
          20094.818359375,
          13353.396484375,
          11693.9951171875,
          11266.9541015625
         ]
        }
       ],
       "layout": {
        "height": 500,
        "template": {
         "data": {
          "bar": [
           {
            "error_x": {
             "color": "#2a3f5f"
            },
            "error_y": {
             "color": "#2a3f5f"
            },
            "marker": {
             "line": {
              "color": "#E5ECF6",
              "width": 0.5
             },
             "pattern": {
              "fillmode": "overlay",
              "size": 10,
              "solidity": 0.2
             }
            },
            "type": "bar"
           }
          ],
          "barpolar": [
           {
            "marker": {
             "line": {
              "color": "#E5ECF6",
              "width": 0.5
             },
             "pattern": {
              "fillmode": "overlay",
              "size": 10,
              "solidity": 0.2
             }
            },
            "type": "barpolar"
           }
          ],
          "carpet": [
           {
            "aaxis": {
             "endlinecolor": "#2a3f5f",
             "gridcolor": "white",
             "linecolor": "white",
             "minorgridcolor": "white",
             "startlinecolor": "#2a3f5f"
            },
            "baxis": {
             "endlinecolor": "#2a3f5f",
             "gridcolor": "white",
             "linecolor": "white",
             "minorgridcolor": "white",
             "startlinecolor": "#2a3f5f"
            },
            "type": "carpet"
           }
          ],
          "choropleth": [
           {
            "colorbar": {
             "outlinewidth": 0,
             "ticks": ""
            },
            "type": "choropleth"
           }
          ],
          "contour": [
           {
            "colorbar": {
             "outlinewidth": 0,
             "ticks": ""
            },
            "colorscale": [
             [
              0,
              "#0d0887"
             ],
             [
              0.1111111111111111,
              "#46039f"
             ],
             [
              0.2222222222222222,
              "#7201a8"
             ],
             [
              0.3333333333333333,
              "#9c179e"
             ],
             [
              0.4444444444444444,
              "#bd3786"
             ],
             [
              0.5555555555555556,
              "#d8576b"
             ],
             [
              0.6666666666666666,
              "#ed7953"
             ],
             [
              0.7777777777777778,
              "#fb9f3a"
             ],
             [
              0.8888888888888888,
              "#fdca26"
             ],
             [
              1,
              "#f0f921"
             ]
            ],
            "type": "contour"
           }
          ],
          "contourcarpet": [
           {
            "colorbar": {
             "outlinewidth": 0,
             "ticks": ""
            },
            "type": "contourcarpet"
           }
          ],
          "heatmap": [
           {
            "colorbar": {
             "outlinewidth": 0,
             "ticks": ""
            },
            "colorscale": [
             [
              0,
              "#0d0887"
             ],
             [
              0.1111111111111111,
              "#46039f"
             ],
             [
              0.2222222222222222,
              "#7201a8"
             ],
             [
              0.3333333333333333,
              "#9c179e"
             ],
             [
              0.4444444444444444,
              "#bd3786"
             ],
             [
              0.5555555555555556,
              "#d8576b"
             ],
             [
              0.6666666666666666,
              "#ed7953"
             ],
             [
              0.7777777777777778,
              "#fb9f3a"
             ],
             [
              0.8888888888888888,
              "#fdca26"
             ],
             [
              1,
              "#f0f921"
             ]
            ],
            "type": "heatmap"
           }
          ],
          "heatmapgl": [
           {
            "colorbar": {
             "outlinewidth": 0,
             "ticks": ""
            },
            "colorscale": [
             [
              0,
              "#0d0887"
             ],
             [
              0.1111111111111111,
              "#46039f"
             ],
             [
              0.2222222222222222,
              "#7201a8"
             ],
             [
              0.3333333333333333,
              "#9c179e"
             ],
             [
              0.4444444444444444,
              "#bd3786"
             ],
             [
              0.5555555555555556,
              "#d8576b"
             ],
             [
              0.6666666666666666,
              "#ed7953"
             ],
             [
              0.7777777777777778,
              "#fb9f3a"
             ],
             [
              0.8888888888888888,
              "#fdca26"
             ],
             [
              1,
              "#f0f921"
             ]
            ],
            "type": "heatmapgl"
           }
          ],
          "histogram": [
           {
            "marker": {
             "pattern": {
              "fillmode": "overlay",
              "size": 10,
              "solidity": 0.2
             }
            },
            "type": "histogram"
           }
          ],
          "histogram2d": [
           {
            "colorbar": {
             "outlinewidth": 0,
             "ticks": ""
            },
            "colorscale": [
             [
              0,
              "#0d0887"
             ],
             [
              0.1111111111111111,
              "#46039f"
             ],
             [
              0.2222222222222222,
              "#7201a8"
             ],
             [
              0.3333333333333333,
              "#9c179e"
             ],
             [
              0.4444444444444444,
              "#bd3786"
             ],
             [
              0.5555555555555556,
              "#d8576b"
             ],
             [
              0.6666666666666666,
              "#ed7953"
             ],
             [
              0.7777777777777778,
              "#fb9f3a"
             ],
             [
              0.8888888888888888,
              "#fdca26"
             ],
             [
              1,
              "#f0f921"
             ]
            ],
            "type": "histogram2d"
           }
          ],
          "histogram2dcontour": [
           {
            "colorbar": {
             "outlinewidth": 0,
             "ticks": ""
            },
            "colorscale": [
             [
              0,
              "#0d0887"
             ],
             [
              0.1111111111111111,
              "#46039f"
             ],
             [
              0.2222222222222222,
              "#7201a8"
             ],
             [
              0.3333333333333333,
              "#9c179e"
             ],
             [
              0.4444444444444444,
              "#bd3786"
             ],
             [
              0.5555555555555556,
              "#d8576b"
             ],
             [
              0.6666666666666666,
              "#ed7953"
             ],
             [
              0.7777777777777778,
              "#fb9f3a"
             ],
             [
              0.8888888888888888,
              "#fdca26"
             ],
             [
              1,
              "#f0f921"
             ]
            ],
            "type": "histogram2dcontour"
           }
          ],
          "mesh3d": [
           {
            "colorbar": {
             "outlinewidth": 0,
             "ticks": ""
            },
            "type": "mesh3d"
           }
          ],
          "parcoords": [
           {
            "line": {
             "colorbar": {
              "outlinewidth": 0,
              "ticks": ""
             }
            },
            "type": "parcoords"
           }
          ],
          "pie": [
           {
            "automargin": true,
            "type": "pie"
           }
          ],
          "scatter": [
           {
            "marker": {
             "colorbar": {
              "outlinewidth": 0,
              "ticks": ""
             }
            },
            "type": "scatter"
           }
          ],
          "scatter3d": [
           {
            "line": {
             "colorbar": {
              "outlinewidth": 0,
              "ticks": ""
             }
            },
            "marker": {
             "colorbar": {
              "outlinewidth": 0,
              "ticks": ""
             }
            },
            "type": "scatter3d"
           }
          ],
          "scattercarpet": [
           {
            "marker": {
             "colorbar": {
              "outlinewidth": 0,
              "ticks": ""
             }
            },
            "type": "scattercarpet"
           }
          ],
          "scattergeo": [
           {
            "marker": {
             "colorbar": {
              "outlinewidth": 0,
              "ticks": ""
             }
            },
            "type": "scattergeo"
           }
          ],
          "scattergl": [
           {
            "marker": {
             "colorbar": {
              "outlinewidth": 0,
              "ticks": ""
             }
            },
            "type": "scattergl"
           }
          ],
          "scattermapbox": [
           {
            "marker": {
             "colorbar": {
              "outlinewidth": 0,
              "ticks": ""
             }
            },
            "type": "scattermapbox"
           }
          ],
          "scatterpolar": [
           {
            "marker": {
             "colorbar": {
              "outlinewidth": 0,
              "ticks": ""
             }
            },
            "type": "scatterpolar"
           }
          ],
          "scatterpolargl": [
           {
            "marker": {
             "colorbar": {
              "outlinewidth": 0,
              "ticks": ""
             }
            },
            "type": "scatterpolargl"
           }
          ],
          "scatterternary": [
           {
            "marker": {
             "colorbar": {
              "outlinewidth": 0,
              "ticks": ""
             }
            },
            "type": "scatterternary"
           }
          ],
          "surface": [
           {
            "colorbar": {
             "outlinewidth": 0,
             "ticks": ""
            },
            "colorscale": [
             [
              0,
              "#0d0887"
             ],
             [
              0.1111111111111111,
              "#46039f"
             ],
             [
              0.2222222222222222,
              "#7201a8"
             ],
             [
              0.3333333333333333,
              "#9c179e"
             ],
             [
              0.4444444444444444,
              "#bd3786"
             ],
             [
              0.5555555555555556,
              "#d8576b"
             ],
             [
              0.6666666666666666,
              "#ed7953"
             ],
             [
              0.7777777777777778,
              "#fb9f3a"
             ],
             [
              0.8888888888888888,
              "#fdca26"
             ],
             [
              1,
              "#f0f921"
             ]
            ],
            "type": "surface"
           }
          ],
          "table": [
           {
            "cells": {
             "fill": {
              "color": "#EBF0F8"
             },
             "line": {
              "color": "white"
             }
            },
            "header": {
             "fill": {
              "color": "#C8D4E3"
             },
             "line": {
              "color": "white"
             }
            },
            "type": "table"
           }
          ]
         },
         "layout": {
          "annotationdefaults": {
           "arrowcolor": "#2a3f5f",
           "arrowhead": 0,
           "arrowwidth": 1
          },
          "autotypenumbers": "strict",
          "coloraxis": {
           "colorbar": {
            "outlinewidth": 0,
            "ticks": ""
           }
          },
          "colorscale": {
           "diverging": [
            [
             0,
             "#8e0152"
            ],
            [
             0.1,
             "#c51b7d"
            ],
            [
             0.2,
             "#de77ae"
            ],
            [
             0.3,
             "#f1b6da"
            ],
            [
             0.4,
             "#fde0ef"
            ],
            [
             0.5,
             "#f7f7f7"
            ],
            [
             0.6,
             "#e6f5d0"
            ],
            [
             0.7,
             "#b8e186"
            ],
            [
             0.8,
             "#7fbc41"
            ],
            [
             0.9,
             "#4d9221"
            ],
            [
             1,
             "#276419"
            ]
           ],
           "sequential": [
            [
             0,
             "#0d0887"
            ],
            [
             0.1111111111111111,
             "#46039f"
            ],
            [
             0.2222222222222222,
             "#7201a8"
            ],
            [
             0.3333333333333333,
             "#9c179e"
            ],
            [
             0.4444444444444444,
             "#bd3786"
            ],
            [
             0.5555555555555556,
             "#d8576b"
            ],
            [
             0.6666666666666666,
             "#ed7953"
            ],
            [
             0.7777777777777778,
             "#fb9f3a"
            ],
            [
             0.8888888888888888,
             "#fdca26"
            ],
            [
             1,
             "#f0f921"
            ]
           ],
           "sequentialminus": [
            [
             0,
             "#0d0887"
            ],
            [
             0.1111111111111111,
             "#46039f"
            ],
            [
             0.2222222222222222,
             "#7201a8"
            ],
            [
             0.3333333333333333,
             "#9c179e"
            ],
            [
             0.4444444444444444,
             "#bd3786"
            ],
            [
             0.5555555555555556,
             "#d8576b"
            ],
            [
             0.6666666666666666,
             "#ed7953"
            ],
            [
             0.7777777777777778,
             "#fb9f3a"
            ],
            [
             0.8888888888888888,
             "#fdca26"
            ],
            [
             1,
             "#f0f921"
            ]
           ]
          },
          "colorway": [
           "#636efa",
           "#EF553B",
           "#00cc96",
           "#ab63fa",
           "#FFA15A",
           "#19d3f3",
           "#FF6692",
           "#B6E880",
           "#FF97FF",
           "#FECB52"
          ],
          "font": {
           "color": "#2a3f5f"
          },
          "geo": {
           "bgcolor": "white",
           "lakecolor": "white",
           "landcolor": "#E5ECF6",
           "showlakes": true,
           "showland": true,
           "subunitcolor": "white"
          },
          "hoverlabel": {
           "align": "left"
          },
          "hovermode": "closest",
          "mapbox": {
           "style": "light"
          },
          "paper_bgcolor": "white",
          "plot_bgcolor": "#E5ECF6",
          "polar": {
           "angularaxis": {
            "gridcolor": "white",
            "linecolor": "white",
            "ticks": ""
           },
           "bgcolor": "#E5ECF6",
           "radialaxis": {
            "gridcolor": "white",
            "linecolor": "white",
            "ticks": ""
           }
          },
          "scene": {
           "xaxis": {
            "backgroundcolor": "#E5ECF6",
            "gridcolor": "white",
            "gridwidth": 2,
            "linecolor": "white",
            "showbackground": true,
            "ticks": "",
            "zerolinecolor": "white"
           },
           "yaxis": {
            "backgroundcolor": "#E5ECF6",
            "gridcolor": "white",
            "gridwidth": 2,
            "linecolor": "white",
            "showbackground": true,
            "ticks": "",
            "zerolinecolor": "white"
           },
           "zaxis": {
            "backgroundcolor": "#E5ECF6",
            "gridcolor": "white",
            "gridwidth": 2,
            "linecolor": "white",
            "showbackground": true,
            "ticks": "",
            "zerolinecolor": "white"
           }
          },
          "shapedefaults": {
           "line": {
            "color": "#2a3f5f"
           }
          },
          "ternary": {
           "aaxis": {
            "gridcolor": "white",
            "linecolor": "white",
            "ticks": ""
           },
           "baxis": {
            "gridcolor": "white",
            "linecolor": "white",
            "ticks": ""
           },
           "bgcolor": "#E5ECF6",
           "caxis": {
            "gridcolor": "white",
            "linecolor": "white",
            "ticks": ""
           }
          },
          "title": {
           "x": 0.05
          },
          "xaxis": {
           "automargin": true,
           "gridcolor": "white",
           "linecolor": "white",
           "ticks": "",
           "title": {
            "standoff": 15
           },
           "zerolinecolor": "white",
           "zerolinewidth": 2
          },
          "yaxis": {
           "automargin": true,
           "gridcolor": "white",
           "linecolor": "white",
           "ticks": "",
           "title": {
            "standoff": 15
           },
           "zerolinecolor": "white",
           "zerolinewidth": 2
          }
         }
        },
        "title": {
         "text": "Generator Adversarial Loss"
        },
        "width": 1000,
        "xaxis": {
         "title": {
          "text": "Number of training examples seen"
         }
        },
        "yaxis": {
         "title": {
          "text": "Gen Adversarial Loss (MSELoss)"
         }
        }
       }
      }
     },
     "metadata": {},
     "output_type": "display_data"
    },
    {
     "data": {
      "text/plain": [
       "[<matplotlib.lines.Line2D at 0x7fa4310d91f0>]"
      ]
     },
     "execution_count": 54,
     "metadata": {},
     "output_type": "execute_result"
    },
    {
     "data": {
      "image/png": "[encoded data removed]",
      "text/plain": [
       "<Figure size 432x288 with 1 Axes>"
      ]
     },
     "metadata": {
      "needs_background": "light"
     },
     "output_type": "display_data"
    }
   ],
   "source": [
    "fig = go.Figure()\n",
    "fig.add_trace(go.Scatter(x=counter, y=gen_adv_losses, mode='lines', name='Gen Adv Loss'))\n",
    "\n",
    "fig.update_layout(\n",
    "    width=1000,\n",
    "    height=500,\n",
    "    title=\"Generator Adversarial Loss\",\n",
    "    xaxis_title=\"Number of training examples seen\",\n",
    "    yaxis_title=\"Gen Adversarial Loss (MSELoss)\"),\n",
    "fig.show()\n",
    "\n",
    "plt.plot(counter, gen_adv_losses) "
   ]
  },
  {
   "cell_type": "code",
   "execution_count": null,
   "metadata": {
    "execution": {
     "iopub.execute_input": "2020-11-09T04:56:47.594444Z",
     "iopub.status.busy": "2020-11-09T04:56:47.584323Z",
     "iopub.status.idle": "2020-11-09T04:56:53.585199Z",
     "shell.execute_reply": "2020-11-09T04:56:53.585786Z"
    },
    "papermill": {
     "duration": 6.188832,
     "end_time": "2020-11-09T04:56:53.585939",
     "exception": false,
     "start_time": "2020-11-09T04:56:47.397107",
     "status": "completed"
    },
    "tags": []
   },
   "outputs": [
    {
     "data": {
      "application/vnd.plotly.v1+json": {
       "config": {
        "plotlyServerURL": "https://plot.ly"
       },
       "data": [
        {
         "marker": {
          "color": "orange"
         },
         "mode": "lines",
         "name": "Gen Pixel Loss",
         "type": "scatter",
         "x": [
          10,
          20,
          30,
          40,
          50,
          60,
          70,
          80,
          90,
          100,
          110,
          120,
          130,
          140,
          150,
          160,
          170,
          180,
          190,
          200,
          210,
          220,
          230,
          240,
          250,
          260,
          270,
          280,
          290,
          300,
          310,
          320,
          330,
          340,
          350,
          360,
          370,
          380,
          390,
          400,
          410,
          420,
          430,
          440,
          450,
          460,
          470,
          480,
          490,
          500,
          510,
          520,
          530,
          540,
          550,
          560,
          570,
          580,
          590,
          600,
          610,
          620,
          630,
          640,
          650,
          660,
          670,
          680,
          690,
          700,
          710,
          720,
          730,
          740,
          750,
          760,
          770,
          780,
          790,
          800,
          810,
          820,
          830,
          840,
          850,
          860,
          870,
          880,
          890,
          900,
          910,
          920,
          930,
          940,
          950,
          960,
          970,
          980,
          990,
          999,
          1009,
          1019,
          1029,
          1039,
          1049,
          1059,
          1069,
          1079,
          1089,
          1099,
          1109,
          1119,
          1129,
          1139,
          1149,
          1159,
          1169,
          1179,
          1189,
          1199,
          1209,
          1219,
          1229,
          1239,
          1249,
          1259,
          1269,
          1279,
          1289,
          1299,
          1309,
          1319,
          1329,
          1339,
          1349,
          1359,
          1369,
          1379,
          1389,
          1399,
          1409,
          1419,
          1429,
          1439,
          1449,
          1459,
          1469,
          1479,
          1489,
          1499,
          1509,
          1519,
          1529,
          1539,
          1549,
          1559,
          1569,
          1579,
          1589,
          1599,
          1609,
          1619,
          1629,
          1639,
          1649,
          1659,
          1669,
          1679,
          1689,
          1699,
          1709,
          1719,
          1729,
          1739,
          1749,
          1759,
          1769,
          1779,
          1789,
          1799,
          1809,
          1819,
          1829,
          1839,
          1849,
          1859,
          1869,
          1879,
          1889,
          1899,
          1909,
          1919,
          1929,
          1939,
          1949,
          1959,
          1969,
          1979,
          1989,
          1998,
          2008,
          2018,
          2028,
          2038,
          2048,
          2058,
          2068,
          2078,
          2088,
          2098,
          2108,
          2118,
          2128,
          2138,
          2148,
          2158,
          2168,
          2178,
          2188,
          2198,
          2208,
          2218,
          2228,
          2238,
          2248,
          2258,
          2268,
          2278,
          2288,
          2298,
          2308,
          2318,
          2328,
          2338,
          2348,
          2358,
          2368,
          2378,
          2388,
          2398,
          2408,
          2418,
          2428,
          2438,
          2448,
          2458,
          2468,
          2478,
          2488,
          2498,
          2508,
          2518,
          2528,
          2538,
          2548,
          2558,
          2568,
          2578,
          2588,
          2598,
          2608,
          2618,
          2628,
          2638,
          2648,
          2658,
          2668,
          2678,
          2688,
          2698,
          2708,
          2718,
          2728,
          2738,
          2748,
          2758,
          2768,
          2778,
          2788,
          2798,
          2808,
          2818,
          2828,
          2838,
          2848,
          2858,
          2868,
          2878,
          2888,
          2898,
          2908,
          2918,
          2928,
          2938,
          2948,
          2958,
          2968,
          2978,
          2988,
          2997,
          3007,
          3017,
          3027,
          3037,
          3047,
          3057,
          3067,
          3077,
          3087,
          3097,
          3107,
          3117,
          3127,
          3137,
          3147,
          3157,
          3167,
          3177,
          3187,
          3197,
          3207,
          3217,
          3227,
          3237,
          3247,
          3257,
          3267,
          3277,
          3287,
          3297,
          3307,
          3317,
          3327,
          3337,
          3347,
          3357,
          3367,
          3377,
          3387,
          3397,
          3407,
          3417,
          3427,
          3437,
          3447,
          3457,
          3467,
          3477,
          3487,
          3497,
          3507,
          3517,
          3527,
          3537,
          3547,
          3557,
          3567,
          3577,
          3587,
          3597,
          3607,
          3617,
          3627,
          3637,
          3647,
          3657,
          3667,
          3677,
          3687,
          3697,
          3707,
          3717,
          3727,
          3737,
          3747,
          3757,
          3767,
          3777,
          3787,
          3797,
          3807,
          3817,
          3827,
          3837,
          3847,
          3857,
          3867,
          3877,
          3887,
          3897,
          3907,
          3917,
          3927,
          3937,
          3947,
          3957,
          3967,
          3977,
          3987,
          3996,
          4006,
          4016,
          4026,
          4036,
          4046,
          4056,
          4066,
          4076,
          4086,
          4096,
          4106,
          4116,
          4126,
          4136,
          4146,
          4156,
          4166,
          4176,
          4186,
          4196,
          4206,
          4216,
          4226,
          4236,
          4246,
          4256,
          4266,
          4276,
          4286,
          4296,
          4306,
          4316,
          4326,
          4336,
          4346,
          4356,
          4366,
          4376,
          4386,
          4396,
          4406,
          4416,
          4426,
          4436,
          4446,
          4456,
          4466,
          4476,
          4486,
          4496,
          4506,
          4516,
          4526,
          4536,
          4546,
          4556,
          4566,
          4576,
          4586,
          4596,
          4606,
          4616,
          4626,
          4636,
          4646,
          4656,
          4666,
          4676,
          4686,
          4696,
          4706,
          4716,
          4726,
          4736,
          4746,
          4756,
          4766,
          4776,
          4786,
          4796,
          4806,
          4816,
          4826,
          4836,
          4846,
          4856,
          4866,
          4876,
          4886,
          4896,
          4906,
          4916,
          4926,
          4936,
          4946,
          4956,
          4966,
          4976,
          4986,
          4995
         ],
         "y": [
          0.8375811576843262,
          7.110337734222412,
          6.613628387451172,
          23.788888931274414,
          94.01176452636719,
          200.02105712890625,
          285.5874328613281,
          372.1377258300781,
          586.233642578125,
          696.1668090820312,
          749.1753540039062,
          770.889404296875,
          775.4835205078125,
          769.4029541015625,
          756.7799072265625,
          741.432861328125,
          724.1257934570312,
          705.5498046875,
          686.6884765625,
          667.2659301757812,
          647.6080322265625,
          627.7578735351562,
          607.6988525390625,
          587.673828125,
          567.4896240234375,
          547.334228515625,
          527.1251831054688,
          506.88739013671875,
          486.56072998046875,
          466.47100830078125,
          446.1278076171875,
          426.5130615234375,
          406.8164978027344,
          388.0486755371094,
          368.1424255371094,
          349.92529296875,
          328.3710632324219,
          310.2290954589844,
          286.7674255371094,
          246.12294006347656,
          243.7792510986328,
          192.99493408203125,
          160.07601928710938,
          187.63621520996094,
          606.275634765625,
          957.6256103515625,
          1132.0052490234375,
          1228.3841552734375,
          1242.4659423828125,
          1203.714599609375,
          1151.208984375,
          1114.0260009765625,
          1077.591796875,
          1036.9962158203125,
          994.1581420898438,
          952.35009765625,
          914.3450927734375,
          878.0289306640625,
          843.2782592773438,
          809.2127075195312,
          776.4396362304688,
          744.51611328125,
          713.1752319335938,
          682.76708984375,
          653.4637451171875,
          624.7478637695312,
          596.5362548828125,
          568.827392578125,
          541.5487670898438,
          514.6929931640625,
          488.21221923828125,
          462.0154113769531,
          436.1003723144531,
          410.4049987792969,
          384.83673095703125,
          359.4212646484375,
          334.0898132324219,
          308.7646179199219,
          283.4546203613281,
          258.0691833496094,
          232.56930541992188,
          206.97216796875,
          181.24490356445312,
          155.57498168945312,
          130.19725036621094,
          105.07209014892578,
          83.08052825927734,
          77.7290267944336,
          72.1007308959961,
          68.6019515991211,
          64.13623809814453,
          60.99142837524414,
          58.14316940307617,
          55.86946487426758,
          53.76316452026367,
          51.86553192138672,
          50.043819427490234,
          48.48971176147461,
          47.03364181518555,
          45.53575897216797,
          44.15416717529297,
          42.873680114746094,
          41.592430114746094,
          40.32589340209961,
          39.09739303588867,
          38.008365631103516,
          36.73318862915039,
          35.494140625,
          34.36737060546875,
          33.68286895751953,
          34.08871841430664,
          30.918907165527344,
          29.86518669128418,
          28.61113739013672,
          28.206323623657227,
          28.166440963745117,
          25.95551872253418,
          23.72345542907715,
          22.627323150634766,
          21.725849151611328,
          22.667619705200195,
          20.485963821411133,
          19.591968536376953,
          17.598342895507812,
          20.475595474243164,
          22.79473304748535,
          16.250768661499023,
          16.01824378967285,
          16.316686630249023,
          21.492176055908203,
          24.009803771972656,
          35.18149185180664,
          817.8991088867188,
          1198.663330078125,
          1374.6390380859375,
          1433.2227783203125,
          1418.04150390625,
          1368.5074462890625,
          1306.6832275390625,
          1236.9461669921875,
          1184.2874755859375,
          1124.9989013671875,
          1075.119384765625,
          1022.8233032226562,
          974.4568481445312,
          924.3878784179688,
          881.3245239257812,
          837.58154296875,
          796.7681274414062,
          757.7321166992188,
          720.9393920898438,
          685.6281127929688,
          651.8253173828125,
          619.3638305664062,
          588.2052001953125,
          558.1588745117188,
          529.3014526367188,
          501.5760803222656,
          474.93865966796875,
          450.22076416015625,
          427.7401123046875,
          406.41510009765625,
          385.9911804199219,
          366.27044677734375,
          347.19696044921875,
          329.1428527832031,
          314.3106994628906,
          304.0516357421875,
          295.40362548828125,
          286.6731262207031,
          278.04296875,
          269.50982666015625,
          261.2084655761719,
          253.18460083007812,
          245.33026123046875,
          237.7053680419922,
          230.16482543945312,
          222.8078155517578,
          215.55767822265625,
          208.4169464111328,
          201.4879913330078,
          194.68699645996094,
          188.06027221679688,
          181.577392578125,
          175.26881408691406,
          169.0932159423828,
          163.09678649902344,
          157.2332305908203,
          151.76248168945312,
          146.48291015625,
          141.40431213378906,
          136.400146484375,
          131.58522033691406,
          126.81587219238281,
          122.17935943603516,
          117.6043930053711,
          113.09137725830078,
          108.7619400024414,
          104.41246032714844,
          100.1534652709961,
          96.03938293457031,
          91.8701400756836,
          87.87356567382812,
          83.87507629394531,
          80.0161361694336,
          76.20890808105469,
          72.47957611083984,
          68.80216217041016,
          65.21189880371094,
          61.5437126159668,
          57.984195709228516,
          54.38832473754883,
          50.79429626464844,
          47.194637298583984,
          43.531578063964844,
          39.939186096191406,
          36.39948272705078,
          32.82807540893555,
          29.430152893066406,
          26.47864532470703,
          25.382408142089844,
          24.506175994873047,
          24.250751495361328,
          23.806297302246094,
          23.28653907775879,
          22.938508987426758,
          22.790489196777344,
          22.52772331237793,
          22.198740005493164,
          22.046707153320312,
          21.85658073425293,
          21.605365753173828,
          21.26340103149414,
          21.170469284057617,
          20.783397674560547,
          20.8731632232666,
          20.53748893737793,
          20.334087371826172,
          20.099449157714844,
          20.336259841918945,
          19.56174659729004,
          19.93475341796875,
          19.201875686645508,
          19.615917205810547,
          18.69374656677246,
          19.47700309753418,
          18.328752517700195,
          18.863866806030273,
          18.000225067138672,
          19.45063591003418,
          17.202421188354492,
          17.497529983520508,
          18.568771362304688,
          16.8592586517334,
          17.17545509338379,
          19.799976348876953,
          16.875959396362305,
          19.91242218017578,
          17.22811508178711,
          21.347505569458008,
          18.30948829650879,
          17.732563018798828,
          18.63006019592285,
          17.258914947509766,
          16.176084518432617,
          15.757691383361816,
          18.334054946899414,
          15.676426887512207,
          15.312871932983398,
          15.045145034790039,
          20.699129104614258,
          16.75018310546875,
          15.625110626220703,
          16.22585105895996,
          19.031471252441406,
          15.771086692810059,
          14.442763328552246,
          16.394357681274414,
          18.01263999938965,
          15.127634048461914,
          15.96263599395752,
          15.04042911529541,
          15.520938873291016,
          14.703895568847656,
          14.520318031311035,
          14.314194679260254,
          14.607921600341797,
          16.619110107421875,
          16.053485870361328,
          16.293075561523438,
          14.317712783813477,
          15.177326202392578,
          13.978486061096191,
          15.191733360290527,
          14.396196365356445,
          15.36008358001709,
          13.672943115234375,
          18.762523651123047,
          16.267663955688477,
          16.223587036132812,
          14.264551162719727,
          17.31751251220703,
          15.073400497436523,
          15.46363353729248,
          13.185871124267578,
          15.060497283935547,
          12.259441375732422,
          14.770955085754395,
          11.714110374450684,
          14.352530479431152,
          11.253735542297363,
          12.390158653259277,
          12.189546585083008,
          11.488130569458008,
          11.060990333557129,
          10.491209030151367,
          10.58068561553955,
          12.88203239440918,
          10.337632179260254,
          11.191514015197754,
          12.557958602905273,
          10.688972473144531,
          12.622542381286621,
          10.834815979003906,
          10.443191528320312,
          11.017806053161621,
          14.837980270385742,
          10.738247871398926,
          13.890264511108398,
          10.70565414428711,
          16.813705444335938,
          12.265701293945312,
          12.293237686157227,
          11.993318557739258,
          11.078521728515625,
          13.232222557067871,
          11.343849182128906,
          14.725013732910156,
          12.879135131835938,
          12.007384300231934,
          11.079068183898926,
          12.697808265686035,
          10.232951164245605,
          11.040827751159668,
          9.588888168334961,
          11.249998092651367,
          8.964315414428711,
          9.141729354858398,
          9.156277656555176,
          9.0189847946167,
          8.31953239440918,
          8.098398208618164,
          8.723241806030273,
          9.954402923583984,
          8.323125839233398,
          9.666543006896973,
          8.352785110473633,
          7.770868301391602,
          7.503145694732666,
          11.58405590057373,
          8.572851181030273,
          9.881232261657715,
          7.0043206214904785,
          8.83629322052002,
          7.4006547927856445,
          9.685223579406738,
          7.267899036407471,
          9.655301094055176,
          8.510175704956055,
          7.740437030792236,
          11.253068923950195,
          16.951635360717773,
          19.012208938598633,
          10.252632141113281,
          33.190834045410156,
          34.54857635498047,
          25.1424617767334,
          14.139969825744629,
          35.49556350708008,
          58.0069465637207,
          66.1511459350586,
          62.221744537353516,
          50.56257629394531,
          40.37993621826172,
          35.4882926940918,
          32.08844757080078,
          29.203798294067383,
          26.088191986083984,
          24.225793838500977,
          22.881210327148438,
          23.387929916381836,
          22.99408721923828,
          22.694255828857422,
          22.604904174804688,
          22.878116607666016,
          21.643672943115234,
          19.97552490234375,
          19.148311614990234,
          17.677427291870117,
          16.613779067993164,
          15.738245964050293,
          15.235722541809082,
          14.560511589050293,
          14.141072273254395,
          13.581047058105469,
          13.40220832824707,
          12.985671997070312,
          12.84648323059082,
          12.392873764038086,
          12.298542976379395,
          11.820696830749512,
          11.750495910644531,
          11.269126892089844,
          11.461119651794434,
          10.853190422058105,
          10.986725807189941,
          10.395615577697754,
          10.335189819335938,
          9.979201316833496,
          9.90149211883545,
          9.571075439453125,
          9.51563549041748,
          9.243367195129395,
          9.206587791442871,
          8.850823402404785,
          8.763922691345215,
          8.530372619628906,
          8.40048885345459,
          8.221014022827148,
          8.080236434936523,
          7.8946943283081055,
          7.822108745574951,
          7.562299728393555,
          7.502057075500488,
          7.283570766448975,
          7.282034397125244,
          7.056469917297363,
          7.279250144958496,
          6.864217758178711,
          6.81644344329834,
          6.511425971984863,
          6.808399200439453,
          6.278685569763184,
          6.606278419494629,
          6.194695472717285,
          6.613027572631836,
          6.023261547088623,
          6.766273498535156,
          5.835907459259033,
          6.987835884094238,
          5.797985553741455,
          6.49486780166626,
          5.63955020904541,
          7.322236061096191,
          5.473012924194336,
          6.55867862701416,
          5.416158676147461,
          7.100815773010254,
          5.204321384429932,
          8.867634773254395,
          5.445647239685059,
          9.675326347351074,
          6.440564155578613,
          8.621877670288086,
          35.556095123291016,
          43.70492935180664,
          39.37246322631836,
          26.802692413330078,
          16.384201049804688,
          14.080185890197754,
          11.565932273864746,
          13.431441307067871,
          7.570600509643555,
          12.127453804016113,
          37.81953048706055,
          31.690011978149414,
          71.86006164550781,
          162.27114868164062,
          208.20709228515625,
          218.43588256835938,
          450.57763671875,
          545.515380859375,
          1975.359619140625,
          4619.48291015625,
          4608.642578125,
          3972.9599609375,
          5341.6865234375,
          7268.35595703125,
          8039.3701171875,
          8193.0546875,
          7922.02734375,
          7259.84716796875,
          6428.6611328125,
          5591.3037109375,
          4865.34423828125,
          4354.46923828125,
          4072.256103515625,
          3927.5625,
          3807.55322265625,
          3678.92919921875
         ]
        }
       ],
       "layout": {
        "height": 500,
        "template": {
         "data": {
          "bar": [
           {
            "error_x": {
             "color": "#2a3f5f"
            },
            "error_y": {
             "color": "#2a3f5f"
            },
            "marker": {
             "line": {
              "color": "#E5ECF6",
              "width": 0.5
             },
             "pattern": {
              "fillmode": "overlay",
              "size": 10,
              "solidity": 0.2
             }
            },
            "type": "bar"
           }
          ],
          "barpolar": [
           {
            "marker": {
             "line": {
              "color": "#E5ECF6",
              "width": 0.5
             },
             "pattern": {
              "fillmode": "overlay",
              "size": 10,
              "solidity": 0.2
             }
            },
            "type": "barpolar"
           }
          ],
          "carpet": [
           {
            "aaxis": {
             "endlinecolor": "#2a3f5f",
             "gridcolor": "white",
             "linecolor": "white",
             "minorgridcolor": "white",
             "startlinecolor": "#2a3f5f"
            },
            "baxis": {
             "endlinecolor": "#2a3f5f",
             "gridcolor": "white",
             "linecolor": "white",
             "minorgridcolor": "white",
             "startlinecolor": "#2a3f5f"
            },
            "type": "carpet"
           }
          ],
          "choropleth": [
           {
            "colorbar": {
             "outlinewidth": 0,
             "ticks": ""
            },
            "type": "choropleth"
           }
          ],
          "contour": [
           {
            "colorbar": {
             "outlinewidth": 0,
             "ticks": ""
            },
            "colorscale": [
             [
              0,
              "#0d0887"
             ],
             [
              0.1111111111111111,
              "#46039f"
             ],
             [
              0.2222222222222222,
              "#7201a8"
             ],
             [
              0.3333333333333333,
              "#9c179e"
             ],
             [
              0.4444444444444444,
              "#bd3786"
             ],
             [
              0.5555555555555556,
              "#d8576b"
             ],
             [
              0.6666666666666666,
              "#ed7953"
             ],
             [
              0.7777777777777778,
              "#fb9f3a"
             ],
             [
              0.8888888888888888,
              "#fdca26"
             ],
             [
              1,
              "#f0f921"
             ]
            ],
            "type": "contour"
           }
          ],
          "contourcarpet": [
           {
            "colorbar": {
             "outlinewidth": 0,
             "ticks": ""
            },
            "type": "contourcarpet"
           }
          ],
          "heatmap": [
           {
            "colorbar": {
             "outlinewidth": 0,
             "ticks": ""
            },
            "colorscale": [
             [
              0,
              "#0d0887"
             ],
             [
              0.1111111111111111,
              "#46039f"
             ],
             [
              0.2222222222222222,
              "#7201a8"
             ],
             [
              0.3333333333333333,
              "#9c179e"
             ],
             [
              0.4444444444444444,
              "#bd3786"
             ],
             [
              0.5555555555555556,
              "#d8576b"
             ],
             [
              0.6666666666666666,
              "#ed7953"
             ],
             [
              0.7777777777777778,
              "#fb9f3a"
             ],
             [
              0.8888888888888888,
              "#fdca26"
             ],
             [
              1,
              "#f0f921"
             ]
            ],
            "type": "heatmap"
           }
          ],
          "heatmapgl": [
           {
            "colorbar": {
             "outlinewidth": 0,
             "ticks": ""
            },
            "colorscale": [
             [
              0,
              "#0d0887"
             ],
             [
              0.1111111111111111,
              "#46039f"
             ],
             [
              0.2222222222222222,
              "#7201a8"
             ],
             [
              0.3333333333333333,
              "#9c179e"
             ],
             [
              0.4444444444444444,
              "#bd3786"
             ],
             [
              0.5555555555555556,
              "#d8576b"
             ],
             [
              0.6666666666666666,
              "#ed7953"
             ],
             [
              0.7777777777777778,
              "#fb9f3a"
             ],
             [
              0.8888888888888888,
              "#fdca26"
             ],
             [
              1,
              "#f0f921"
             ]
            ],
            "type": "heatmapgl"
           }
          ],
          "histogram": [
           {
            "marker": {
             "pattern": {
              "fillmode": "overlay",
              "size": 10,
              "solidity": 0.2
             }
            },
            "type": "histogram"
           }
          ],
          "histogram2d": [
           {
            "colorbar": {
             "outlinewidth": 0,
             "ticks": ""
            },
            "colorscale": [
             [
              0,
              "#0d0887"
             ],
             [
              0.1111111111111111,
              "#46039f"
             ],
             [
              0.2222222222222222,
              "#7201a8"
             ],
             [
              0.3333333333333333,
              "#9c179e"
             ],
             [
              0.4444444444444444,
              "#bd3786"
             ],
             [
              0.5555555555555556,
              "#d8576b"
             ],
             [
              0.6666666666666666,
              "#ed7953"
             ],
             [
              0.7777777777777778,
              "#fb9f3a"
             ],
             [
              0.8888888888888888,
              "#fdca26"
             ],
             [
              1,
              "#f0f921"
             ]
            ],
            "type": "histogram2d"
           }
          ],
          "histogram2dcontour": [
           {
            "colorbar": {
             "outlinewidth": 0,
             "ticks": ""
            },
            "colorscale": [
             [
              0,
              "#0d0887"
             ],
             [
              0.1111111111111111,
              "#46039f"
             ],
             [
              0.2222222222222222,
              "#7201a8"
             ],
             [
              0.3333333333333333,
              "#9c179e"
             ],
             [
              0.4444444444444444,
              "#bd3786"
             ],
             [
              0.5555555555555556,
              "#d8576b"
             ],
             [
              0.6666666666666666,
              "#ed7953"
             ],
             [
              0.7777777777777778,
              "#fb9f3a"
             ],
             [
              0.8888888888888888,
              "#fdca26"
             ],
             [
              1,
              "#f0f921"
             ]
            ],
            "type": "histogram2dcontour"
           }
          ],
          "mesh3d": [
           {
            "colorbar": {
             "outlinewidth": 0,
             "ticks": ""
            },
            "type": "mesh3d"
           }
          ],
          "parcoords": [
           {
            "line": {
             "colorbar": {
              "outlinewidth": 0,
              "ticks": ""
             }
            },
            "type": "parcoords"
           }
          ],
          "pie": [
           {
            "automargin": true,
            "type": "pie"
           }
          ],
          "scatter": [
           {
            "marker": {
             "colorbar": {
              "outlinewidth": 0,
              "ticks": ""
             }
            },
            "type": "scatter"
           }
          ],
          "scatter3d": [
           {
            "line": {
             "colorbar": {
              "outlinewidth": 0,
              "ticks": ""
             }
            },
            "marker": {
             "colorbar": {
              "outlinewidth": 0,
              "ticks": ""
             }
            },
            "type": "scatter3d"
           }
          ],
          "scattercarpet": [
           {
            "marker": {
             "colorbar": {
              "outlinewidth": 0,
              "ticks": ""
             }
            },
            "type": "scattercarpet"
           }
          ],
          "scattergeo": [
           {
            "marker": {
             "colorbar": {
              "outlinewidth": 0,
              "ticks": ""
             }
            },
            "type": "scattergeo"
           }
          ],
          "scattergl": [
           {
            "marker": {
             "colorbar": {
              "outlinewidth": 0,
              "ticks": ""
             }
            },
            "type": "scattergl"
           }
          ],
          "scattermapbox": [
           {
            "marker": {
             "colorbar": {
              "outlinewidth": 0,
              "ticks": ""
             }
            },
            "type": "scattermapbox"
           }
          ],
          "scatterpolar": [
           {
            "marker": {
             "colorbar": {
              "outlinewidth": 0,
              "ticks": ""
             }
            },
            "type": "scatterpolar"
           }
          ],
          "scatterpolargl": [
           {
            "marker": {
             "colorbar": {
              "outlinewidth": 0,
              "ticks": ""
             }
            },
            "type": "scatterpolargl"
           }
          ],
          "scatterternary": [
           {
            "marker": {
             "colorbar": {
              "outlinewidth": 0,
              "ticks": ""
             }
            },
            "type": "scatterternary"
           }
          ],
          "surface": [
           {
            "colorbar": {
             "outlinewidth": 0,
             "ticks": ""
            },
            "colorscale": [
             [
              0,
              "#0d0887"
             ],
             [
              0.1111111111111111,
              "#46039f"
             ],
             [
              0.2222222222222222,
              "#7201a8"
             ],
             [
              0.3333333333333333,
              "#9c179e"
             ],
             [
              0.4444444444444444,
              "#bd3786"
             ],
             [
              0.5555555555555556,
              "#d8576b"
             ],
             [
              0.6666666666666666,
              "#ed7953"
             ],
             [
              0.7777777777777778,
              "#fb9f3a"
             ],
             [
              0.8888888888888888,
              "#fdca26"
             ],
             [
              1,
              "#f0f921"
             ]
            ],
            "type": "surface"
           }
          ],
          "table": [
           {
            "cells": {
             "fill": {
              "color": "#EBF0F8"
             },
             "line": {
              "color": "white"
             }
            },
            "header": {
             "fill": {
              "color": "#C8D4E3"
             },
             "line": {
              "color": "white"
             }
            },
            "type": "table"
           }
          ]
         },
         "layout": {
          "annotationdefaults": {
           "arrowcolor": "#2a3f5f",
           "arrowhead": 0,
           "arrowwidth": 1
          },
          "autotypenumbers": "strict",
          "coloraxis": {
           "colorbar": {
            "outlinewidth": 0,
            "ticks": ""
           }
          },
          "colorscale": {
           "diverging": [
            [
             0,
             "#8e0152"
            ],
            [
             0.1,
             "#c51b7d"
            ],
            [
             0.2,
             "#de77ae"
            ],
            [
             0.3,
             "#f1b6da"
            ],
            [
             0.4,
             "#fde0ef"
            ],
            [
             0.5,
             "#f7f7f7"
            ],
            [
             0.6,
             "#e6f5d0"
            ],
            [
             0.7,
             "#b8e186"
            ],
            [
             0.8,
             "#7fbc41"
            ],
            [
             0.9,
             "#4d9221"
            ],
            [
             1,
             "#276419"
            ]
           ],
           "sequential": [
            [
             0,
             "#0d0887"
            ],
            [
             0.1111111111111111,
             "#46039f"
            ],
            [
             0.2222222222222222,
             "#7201a8"
            ],
            [
             0.3333333333333333,
             "#9c179e"
            ],
            [
             0.4444444444444444,
             "#bd3786"
            ],
            [
             0.5555555555555556,
             "#d8576b"
            ],
            [
             0.6666666666666666,
             "#ed7953"
            ],
            [
             0.7777777777777778,
             "#fb9f3a"
            ],
            [
             0.8888888888888888,
             "#fdca26"
            ],
            [
             1,
             "#f0f921"
            ]
           ],
           "sequentialminus": [
            [
             0,
             "#0d0887"
            ],
            [
             0.1111111111111111,
             "#46039f"
            ],
            [
             0.2222222222222222,
             "#7201a8"
            ],
            [
             0.3333333333333333,
             "#9c179e"
            ],
            [
             0.4444444444444444,
             "#bd3786"
            ],
            [
             0.5555555555555556,
             "#d8576b"
            ],
            [
             0.6666666666666666,
             "#ed7953"
            ],
            [
             0.7777777777777778,
             "#fb9f3a"
            ],
            [
             0.8888888888888888,
             "#fdca26"
            ],
            [
             1,
             "#f0f921"
            ]
           ]
          },
          "colorway": [
           "#636efa",
           "#EF553B",
           "#00cc96",
           "#ab63fa",
           "#FFA15A",
           "#19d3f3",
           "#FF6692",
           "#B6E880",
           "#FF97FF",
           "#FECB52"
          ],
          "font": {
           "color": "#2a3f5f"
          },
          "geo": {
           "bgcolor": "white",
           "lakecolor": "white",
           "landcolor": "#E5ECF6",
           "showlakes": true,
           "showland": true,
           "subunitcolor": "white"
          },
          "hoverlabel": {
           "align": "left"
          },
          "hovermode": "closest",
          "mapbox": {
           "style": "light"
          },
          "paper_bgcolor": "white",
          "plot_bgcolor": "#E5ECF6",
          "polar": {
           "angularaxis": {
            "gridcolor": "white",
            "linecolor": "white",
            "ticks": ""
           },
           "bgcolor": "#E5ECF6",
           "radialaxis": {
            "gridcolor": "white",
            "linecolor": "white",
            "ticks": ""
           }
          },
          "scene": {
           "xaxis": {
            "backgroundcolor": "#E5ECF6",
            "gridcolor": "white",
            "gridwidth": 2,
            "linecolor": "white",
            "showbackground": true,
            "ticks": "",
            "zerolinecolor": "white"
           },
           "yaxis": {
            "backgroundcolor": "#E5ECF6",
            "gridcolor": "white",
            "gridwidth": 2,
            "linecolor": "white",
            "showbackground": true,
            "ticks": "",
            "zerolinecolor": "white"
           },
           "zaxis": {
            "backgroundcolor": "#E5ECF6",
            "gridcolor": "white",
            "gridwidth": 2,
            "linecolor": "white",
            "showbackground": true,
            "ticks": "",
            "zerolinecolor": "white"
           }
          },
          "shapedefaults": {
           "line": {
            "color": "#2a3f5f"
           }
          },
          "ternary": {
           "aaxis": {
            "gridcolor": "white",
            "linecolor": "white",
            "ticks": ""
           },
           "baxis": {
            "gridcolor": "white",
            "linecolor": "white",
            "ticks": ""
           },
           "bgcolor": "#E5ECF6",
           "caxis": {
            "gridcolor": "white",
            "linecolor": "white",
            "ticks": ""
           }
          },
          "title": {
           "x": 0.05
          },
          "xaxis": {
           "automargin": true,
           "gridcolor": "white",
           "linecolor": "white",
           "ticks": "",
           "title": {
            "standoff": 15
           },
           "zerolinecolor": "white",
           "zerolinewidth": 2
          },
          "yaxis": {
           "automargin": true,
           "gridcolor": "white",
           "linecolor": "white",
           "ticks": "",
           "title": {
            "standoff": 15
           },
           "zerolinecolor": "white",
           "zerolinewidth": 2
          }
         }
        },
        "title": {
         "text": "Generator Pixel Loss"
        },
        "width": 1000,
        "xaxis": {
         "title": {
          "text": "Number of training examples seen"
         }
        },
        "yaxis": {
         "title": {
          "text": "Gen Pixel Loss (L1 Loss)"
         }
        }
       }
      }
     },
     "metadata": {},
     "output_type": "display_data"
    }
   ],
   "source": [
    "fig = go.Figure()\n",
    "\n",
    "fig.add_trace(go.Scatter(x=counter, y=gen_pixel_losses, mode='lines', name='Gen Pixel Loss', marker_color='orange'))\n",
    "\n",
    "fig.update_layout(\n",
    "    width=1000,\n",
    "    height=500,\n",
    "    title=\"Generator Pixel Loss\",\n",
    "    xaxis_title=\"Number of training examples seen\",\n",
    "    yaxis_title=\"Gen Pixel Loss (L1 Loss)\"),\n",
    "fig.show()"
   ]
  },
  {
   "cell_type": "code",
   "execution_count": null,
   "metadata": {
    "execution": {
     "iopub.execute_input": "2020-11-09T04:56:54.177908Z",
     "iopub.status.busy": "2020-11-09T04:56:54.172643Z",
     "iopub.status.idle": "2020-11-09T04:56:59.286058Z",
     "shell.execute_reply": "2020-11-09T04:56:59.286603Z"
    },
    "papermill": {
     "duration": 5.412486,
     "end_time": "2020-11-09T04:56:59.286741",
     "exception": false,
     "start_time": "2020-11-09T04:56:53.874255",
     "status": "completed"
    },
    "tags": []
   },
   "outputs": [
    {
     "data": {
      "application/vnd.plotly.v1+json": {
       "config": {
        "plotlyServerURL": "https://plot.ly"
       },
       "data": [
        {
         "marker": {
          "color": "seagreen"
         },
         "mode": "lines",
         "name": "Discriminator Loss",
         "type": "scatter",
         "x": [
          10,
          20,
          30,
          40,
          50,
          60,
          70,
          80,
          90,
          100,
          110,
          120,
          130,
          140,
          150,
          160,
          170,
          180,
          190,
          200,
          210,
          220,
          230,
          240,
          250,
          260,
          270,
          280,
          290,
          300,
          310,
          320,
          330,
          340,
          350,
          360,
          370,
          380,
          390,
          400,
          410,
          420,
          430,
          440,
          450,
          460,
          470,
          480,
          490,
          500,
          510,
          520,
          530,
          540,
          550,
          560,
          570,
          580,
          590,
          600,
          610,
          620,
          630,
          640,
          650,
          660,
          670,
          680,
          690,
          700,
          710,
          720,
          730,
          740,
          750,
          760,
          770,
          780,
          790,
          800,
          810,
          820,
          830,
          840,
          850,
          860,
          870,
          880,
          890,
          900,
          910,
          920,
          930,
          940,
          950,
          960,
          970,
          980,
          990,
          999,
          1009,
          1019,
          1029,
          1039,
          1049,
          1059,
          1069,
          1079,
          1089,
          1099,
          1109,
          1119,
          1129,
          1139,
          1149,
          1159,
          1169,
          1179,
          1189,
          1199,
          1209,
          1219,
          1229,
          1239,
          1249,
          1259,
          1269,
          1279,
          1289,
          1299,
          1309,
          1319,
          1329,
          1339,
          1349,
          1359,
          1369,
          1379,
          1389,
          1399,
          1409,
          1419,
          1429,
          1439,
          1449,
          1459,
          1469,
          1479,
          1489,
          1499,
          1509,
          1519,
          1529,
          1539,
          1549,
          1559,
          1569,
          1579,
          1589,
          1599,
          1609,
          1619,
          1629,
          1639,
          1649,
          1659,
          1669,
          1679,
          1689,
          1699,
          1709,
          1719,
          1729,
          1739,
          1749,
          1759,
          1769,
          1779,
          1789,
          1799,
          1809,
          1819,
          1829,
          1839,
          1849,
          1859,
          1869,
          1879,
          1889,
          1899,
          1909,
          1919,
          1929,
          1939,
          1949,
          1959,
          1969,
          1979,
          1989,
          1998,
          2008,
          2018,
          2028,
          2038,
          2048,
          2058,
          2068,
          2078,
          2088,
          2098,
          2108,
          2118,
          2128,
          2138,
          2148,
          2158,
          2168,
          2178,
          2188,
          2198,
          2208,
          2218,
          2228,
          2238,
          2248,
          2258,
          2268,
          2278,
          2288,
          2298,
          2308,
          2318,
          2328,
          2338,
          2348,
          2358,
          2368,
          2378,
          2388,
          2398,
          2408,
          2418,
          2428,
          2438,
          2448,
          2458,
          2468,
          2478,
          2488,
          2498,
          2508,
          2518,
          2528,
          2538,
          2548,
          2558,
          2568,
          2578,
          2588,
          2598,
          2608,
          2618,
          2628,
          2638,
          2648,
          2658,
          2668,
          2678,
          2688,
          2698,
          2708,
          2718,
          2728,
          2738,
          2748,
          2758,
          2768,
          2778,
          2788,
          2798,
          2808,
          2818,
          2828,
          2838,
          2848,
          2858,
          2868,
          2878,
          2888,
          2898,
          2908,
          2918,
          2928,
          2938,
          2948,
          2958,
          2968,
          2978,
          2988,
          2997,
          3007,
          3017,
          3027,
          3037,
          3047,
          3057,
          3067,
          3077,
          3087,
          3097,
          3107,
          3117,
          3127,
          3137,
          3147,
          3157,
          3167,
          3177,
          3187,
          3197,
          3207,
          3217,
          3227,
          3237,
          3247,
          3257,
          3267,
          3277,
          3287,
          3297,
          3307,
          3317,
          3327,
          3337,
          3347,
          3357,
          3367,
          3377,
          3387,
          3397,
          3407,
          3417,
          3427,
          3437,
          3447,
          3457,
          3467,
          3477,
          3487,
          3497,
          3507,
          3517,
          3527,
          3537,
          3547,
          3557,
          3567,
          3577,
          3587,
          3597,
          3607,
          3617,
          3627,
          3637,
          3647,
          3657,
          3667,
          3677,
          3687,
          3697,
          3707,
          3717,
          3727,
          3737,
          3747,
          3757,
          3767,
          3777,
          3787,
          3797,
          3807,
          3817,
          3827,
          3837,
          3847,
          3857,
          3867,
          3877,
          3887,
          3897,
          3907,
          3917,
          3927,
          3937,
          3947,
          3957,
          3967,
          3977,
          3987,
          3996,
          4006,
          4016,
          4026,
          4036,
          4046,
          4056,
          4066,
          4076,
          4086,
          4096,
          4106,
          4116,
          4126,
          4136,
          4146,
          4156,
          4166,
          4176,
          4186,
          4196,
          4206,
          4216,
          4226,
          4236,
          4246,
          4256,
          4266,
          4276,
          4286,
          4296,
          4306,
          4316,
          4326,
          4336,
          4346,
          4356,
          4366,
          4376,
          4386,
          4396,
          4406,
          4416,
          4426,
          4436,
          4446,
          4456,
          4466,
          4476,
          4486,
          4496,
          4506,
          4516,
          4526,
          4536,
          4546,
          4556,
          4566,
          4576,
          4586,
          4596,
          4606,
          4616,
          4626,
          4636,
          4646,
          4656,
          4666,
          4676,
          4686,
          4696,
          4706,
          4716,
          4726,
          4736,
          4746,
          4756,
          4766,
          4776,
          4786,
          4796,
          4806,
          4816,
          4826,
          4836,
          4846,
          4856,
          4866,
          4876,
          4886,
          4896,
          4906,
          4916,
          4926,
          4936,
          4946,
          4956,
          4966,
          4976,
          4986,
          4995
         ],
         "y": [
          1.1251277923583984,
          7254.421875,
          302126.03125,
          125406.71875,
          374559.3125,
          1053376.125,
          140885.0625,
          53591.51171875,
          36175.74609375,
          5000.7314453125,
          7226.3603515625,
          3974.98779296875,
          1190.891357421875,
          1340.112548828125,
          946.9197998046875,
          307.3746337890625,
          333.15911865234375,
          360.9337158203125,
          203.9283447265625,
          126.4324722290039,
          116.27177429199219,
          123.86808776855469,
          105.85850524902344,
          92.40589904785156,
          83.31461334228516,
          84.98282623291016,
          98.82553100585938,
          100.11257934570312,
          102.7436294555664,
          112.57905578613281,
          148.05987548828125,
          231.64292907714844,
          457.09051513671875,
          999.9910278320312,
          2250.86572265625,
          5237.91259765625,
          13581.560546875,
          34541.765625,
          71443.203125,
          71775.671875,
          52786.49609375,
          18498.5078125,
          66507.1796875,
          300795,
          147514.125,
          102832.3828125,
          199153.984375,
          234449.5,
          147521.0625,
          33100.625,
          3189.38232421875,
          14189.556640625,
          3368.1611328125,
          858.4884033203125,
          2100.95849609375,
          381.6414489746094,
          213.02638244628906,
          319.7734680175781,
          97.7940902709961,
          87.60487365722656,
          90.90507507324219,
          60.70087432861328,
          80.43866729736328,
          56.30132293701172,
          47.194725036621094,
          42.85429763793945,
          46.428062438964844,
          43.450958251953125,
          42.85070037841797,
          43.78547286987305,
          42.55702209472656,
          48.666961669921875,
          60.140052795410156,
          41.50511169433594,
          36.826904296875,
          45.26263427734375,
          36.809364318847656,
          36.46051025390625,
          35.17027282714844,
          39.0533447265625,
          58.42381286621094,
          41.013343811035156,
          32.42975997924805,
          31.306299209594727,
          29.433883666992188,
          32.50196075439453,
          33.629249572753906,
          37.555870056152344,
          29.076427459716797,
          18.720970153808594,
          23.706344604492188,
          27.24408531188965,
          27.29619598388672,
          23.0959529876709,
          19.669734954833984,
          17.116609573364258,
          19.142593383789062,
          27.444793701171875,
          17.209196090698242,
          24.136672973632812,
          18.122356414794922,
          13.94108772277832,
          13.703253746032715,
          15.024186134338379,
          18.433656692504883,
          18.34259605407715,
          20.28387451171875,
          15.333110809326172,
          16.815275192260742,
          21.81595230102539,
          13.446280479431152,
          14.751630783081055,
          19.741409301757812,
          26.852184295654297,
          12.375012397766113,
          12.549180030822754,
          17.12841033935547,
          10.295781135559082,
          11.503479957580566,
          11.723348617553711,
          15.648652076721191,
          15.713830947875977,
          25.007469177246094,
          31.034378051757812,
          58.47356414794922,
          102.57240295410156,
          195.27560424804688,
          320.8135986328125,
          535.5802612304688,
          1181.3800048828125,
          2548.74267578125,
          6717.5048828125,
          20759.83203125,
          44536.6328125,
          83992.875,
          154757.6875,
          114290.9296875,
          30442.5625,
          4496.12060546875,
          3521.248046875,
          2215.250732421875,
          1036.4176025390625,
          302.1944580078125,
          402.9167175292969,
          137.51568603515625,
          91.04437255859375,
          82.02593994140625,
          37.66572570800781,
          52.96421813964844,
          36.19500732421875,
          32.58064651489258,
          30.4168701171875,
          24.282672882080078,
          30.007518768310547,
          25.322425842285156,
          25.928211212158203,
          19.796987533569336,
          18.41729736328125,
          19.144926071166992,
          21.77967071533203,
          17.847576141357422,
          18.67790412902832,
          17.399246215820312,
          19.246601104736328,
          17.660266876220703,
          21.31595802307129,
          23.21352767944336,
          14.806103706359863,
          15.84519100189209,
          13.540483474731445,
          12.563828468322754,
          13.12411880493164,
          16.886920928955078,
          11.886362075805664,
          12.390905380249023,
          11.591434478759766,
          10.584327697753906,
          9.712400436401367,
          12.180461883544922,
          13.11560344696045,
          13.411206245422363,
          9.323905944824219,
          9.80261516571045,
          11.192728042602539,
          8.943920135498047,
          9.075215339660645,
          8.086669921875,
          8.221454620361328,
          8.181051254272461,
          9.779925346374512,
          8.186838150024414,
          13.501161575317383,
          8.067150115966797,
          8.051660537719727,
          9.384597778320312,
          7.326882839202881,
          8.827702522277832,
          7.401797294616699,
          8.061750411987305,
          11.668663024902344,
          7.086223602294922,
          9.073738098144531,
          7.702082633972168,
          7.532316207885742,
          6.731015682220459,
          10.117589950561523,
          7.40082311630249,
          6.782347679138184,
          7.299448013305664,
          7.329195976257324,
          7.472579002380371,
          6.291140079498291,
          7.307480812072754,
          5.770647048950195,
          7.39322566986084,
          9.573556900024414,
          7.683103561401367,
          7.917892932891846,
          6.744621276855469,
          5.719388961791992,
          5.566023826599121,
          6.692502975463867,
          6.215698719024658,
          7.53618049621582,
          6.371078968048096,
          7.586501121520996,
          6.376083850860596,
          5.117842197418213,
          6.007187843322754,
          10.921371459960938,
          8.431497573852539,
          6.524653434753418,
          4.122575283050537,
          4.707728385925293,
          5.248048782348633,
          4.155503273010254,
          6.084019184112549,
          4.969307899475098,
          6.251315593719482,
          7.083690166473389,
          6.883701324462891,
          6.671009540557861,
          8.315747261047363,
          13.542654037475586,
          13.491299629211426,
          14.64426326751709,
          14.12131118774414,
          14.921710014343262,
          13.57649040222168,
          13.996334075927734,
          16.570327758789062,
          18.092952728271484,
          22.050853729248047,
          28.268192291259766,
          34.76036834716797,
          51.01197814941406,
          70.31600952148438,
          92.14945220947266,
          132.49972534179688,
          194.0987091064453,
          224.26747131347656,
          250.0120849609375,
          260.9364318847656,
          262.63714599609375,
          267.8711853027344,
          279.78863525390625,
          286.05712890625,
          340.4978942871094,
          424.8671875,
          624.91650390625,
          720.4816284179688,
          685.2774047851562,
          668.2407836914062,
          733.8388061523438,
          796.2431640625,
          876.00830078125,
          970.448974609375,
          1112.5550537109375,
          1252.8902587890625,
          1379.555419921875,
          1748.68994140625,
          1816.998779296875,
          1626.8935546875,
          1880.993408203125,
          2018.600830078125,
          2085.40380859375,
          1864.87744140625,
          1681.8486328125,
          1786.243896484375,
          1643.5697021484375,
          1566.2996826171875,
          1856.516845703125,
          1906.9287109375,
          1779.5257568359375,
          1634.3856201171875,
          1269.9052734375,
          902.0171508789062,
          674.0128173828125,
          509.54010009765625,
          370.02593994140625,
          300.266845703125,
          182.71864318847656,
          112.8440933227539,
          94.48696899414062,
          95.51507568359375,
          103.93814086914062,
          125.02536010742188,
          147.03903198242188,
          157.9443359375,
          192.93914794921875,
          239.60726928710938,
          292.20159912109375,
          310.3177490234375,
          273.6277770996094,
          244.78350830078125,
          230.1151123046875,
          261.84161376953125,
          311.8681640625,
          326.19659423828125,
          377.8068542480469,
          448.66644287109375,
          492.201904296875,
          579.5620727539062,
          772.2015380859375,
          1133.888916015625,
          1578.739990234375,
          1831.03515625,
          2057.656982421875,
          2367.612060546875,
          2858.25048828125,
          3500.6455078125,
          4316.93896484375,
          5412.5810546875,
          5389.84375,
          4533.984375,
          2944.07177734375,
          1651.52783203125,
          1272.9061279296875,
          846.2594604492188,
          535.248779296875,
          418.802001953125,
          313.59515380859375,
          245.38864135742188,
          245.69161987304688,
          301.9434814453125,
          403.02301025390625,
          530.5885620117188,
          618.755615234375,
          675.8964233398438,
          610.88916015625,
          541.5301513671875,
          445.88116455078125,
          399.677001953125,
          336.8812561035156,
          255.5667724609375,
          205.91549682617188,
          164.57725524902344,
          163.0341796875,
          144.36814880371094,
          127.86834716796875,
          135.24072265625,
          163.87600708007812,
          195.2757568359375,
          213.1327362060547,
          243.98995971679688,
          344.2462463378906,
          544.0980224609375,
          918.4169311523438,
          1468.94970703125,
          2140.5068359375,
          3418.4814453125,
          4437.439453125,
          5308.7646484375,
          6010.67333984375,
          6773.4931640625,
          7427.318359375,
          7311.388671875,
          6739.95703125,
          6057.8369140625,
          5995.056640625,
          5141.3056640625,
          3343.927001953125,
          1856.741943359375,
          1174.865478515625,
          1073.348876953125,
          719.3062744140625,
          505.09228515625,
          624.9207763671875,
          935.561767578125,
          1347.164306640625,
          1990.639404296875,
          2972.16552734375,
          4222.5537109375,
          4961.943359375,
          4124.73974609375,
          2729.73046875,
          1792.833984375,
          973.0534057617188,
          443.8297424316406,
          203.9143829345703,
          127.58671569824219,
          122.42886352539062,
          124.80647277832031,
          117.27803039550781,
          107.85145568847656,
          102.22096252441406,
          136.95864868164062,
          183.33847045898438,
          220.00384521484375,
          232.80096435546875,
          237.0540771484375,
          272.622314453125,
          315.19293212890625,
          352.08270263671875,
          312.83966064453125,
          236.17196655273438,
          172.3001251220703,
          134.6345672607422,
          132.35023498535156,
          129.41079711914062,
          131.23199462890625,
          113.74359130859375,
          93.51506042480469,
          70.36454772949219,
          50.377784729003906,
          38.60807800292969,
          30.56450080871582,
          20.499319076538086,
          13.102764129638672,
          8.506156921386719,
          6.976875305175781,
          6.898894309997559,
          7.0207977294921875,
          7.626346111297607,
          8.363679885864258,
          6.7034149169921875,
          5.390895366668701,
          4.849409103393555,
          6.139021873474121,
          7.792823791503906,
          8.331884384155273,
          6.811683177947998,
          5.702805042266846,
          4.7588958740234375,
          5.149938583374023,
          4.417660713195801,
          5.726663112640381,
          6.768512725830078,
          9.150341987609863,
          9.589399337768555,
          14.283453941345215,
          20.87734603881836,
          36.31279754638672,
          61.56407928466797,
          90.04850769042969,
          154.01846313476562,
          245.15524291992188,
          499.75799560546875,
          986.0096435546875,
          1759.16162109375,
          2216.189453125,
          2540.9619140625,
          2873.10009765625,
          3490.72998046875,
          3882.834716796875,
          3764.9599609375,
          3535.27685546875,
          3906.182373046875,
          4406.23681640625,
          4892.30419921875,
          6869.95947265625,
          10403.677734375,
          14106.76171875,
          11763.58984375,
          2456.994873046875,
          8041.7998046875,
          58735.3125,
          289899.375,
          474201.71875,
          1403177.375,
          4018902.5,
          2610513,
          44605176,
          58402260,
          9370346,
          3414931,
          3666481,
          1798594.25,
          437606.125,
          175672.59375,
          233849.71875,
          155108.15625,
          67108.140625,
          36544.30859375,
          39241.47265625,
          33579.265625,
          23164.34765625,
          21940.51171875,
          19096.43359375,
          19386.61328125
         ]
        }
       ],
       "layout": {
        "height": 500,
        "template": {
         "data": {
          "bar": [
           {
            "error_x": {
             "color": "#2a3f5f"
            },
            "error_y": {
             "color": "#2a3f5f"
            },
            "marker": {
             "line": {
              "color": "#E5ECF6",
              "width": 0.5
             },
             "pattern": {
              "fillmode": "overlay",
              "size": 10,
              "solidity": 0.2
             }
            },
            "type": "bar"
           }
          ],
          "barpolar": [
           {
            "marker": {
             "line": {
              "color": "#E5ECF6",
              "width": 0.5
             },
             "pattern": {
              "fillmode": "overlay",
              "size": 10,
              "solidity": 0.2
             }
            },
            "type": "barpolar"
           }
          ],
          "carpet": [
           {
            "aaxis": {
             "endlinecolor": "#2a3f5f",
             "gridcolor": "white",
             "linecolor": "white",
             "minorgridcolor": "white",
             "startlinecolor": "#2a3f5f"
            },
            "baxis": {
             "endlinecolor": "#2a3f5f",
             "gridcolor": "white",
             "linecolor": "white",
             "minorgridcolor": "white",
             "startlinecolor": "#2a3f5f"
            },
            "type": "carpet"
           }
          ],
          "choropleth": [
           {
            "colorbar": {
             "outlinewidth": 0,
             "ticks": ""
            },
            "type": "choropleth"
           }
          ],
          "contour": [
           {
            "colorbar": {
             "outlinewidth": 0,
             "ticks": ""
            },
            "colorscale": [
             [
              0,
              "#0d0887"
             ],
             [
              0.1111111111111111,
              "#46039f"
             ],
             [
              0.2222222222222222,
              "#7201a8"
             ],
             [
              0.3333333333333333,
              "#9c179e"
             ],
             [
              0.4444444444444444,
              "#bd3786"
             ],
             [
              0.5555555555555556,
              "#d8576b"
             ],
             [
              0.6666666666666666,
              "#ed7953"
             ],
             [
              0.7777777777777778,
              "#fb9f3a"
             ],
             [
              0.8888888888888888,
              "#fdca26"
             ],
             [
              1,
              "#f0f921"
             ]
            ],
            "type": "contour"
           }
          ],
          "contourcarpet": [
           {
            "colorbar": {
             "outlinewidth": 0,
             "ticks": ""
            },
            "type": "contourcarpet"
           }
          ],
          "heatmap": [
           {
            "colorbar": {
             "outlinewidth": 0,
             "ticks": ""
            },
            "colorscale": [
             [
              0,
              "#0d0887"
             ],
             [
              0.1111111111111111,
              "#46039f"
             ],
             [
              0.2222222222222222,
              "#7201a8"
             ],
             [
              0.3333333333333333,
              "#9c179e"
             ],
             [
              0.4444444444444444,
              "#bd3786"
             ],
             [
              0.5555555555555556,
              "#d8576b"
             ],
             [
              0.6666666666666666,
              "#ed7953"
             ],
             [
              0.7777777777777778,
              "#fb9f3a"
             ],
             [
              0.8888888888888888,
              "#fdca26"
             ],
             [
              1,
              "#f0f921"
             ]
            ],
            "type": "heatmap"
           }
          ],
          "heatmapgl": [
           {
            "colorbar": {
             "outlinewidth": 0,
             "ticks": ""
            },
            "colorscale": [
             [
              0,
              "#0d0887"
             ],
             [
              0.1111111111111111,
              "#46039f"
             ],
             [
              0.2222222222222222,
              "#7201a8"
             ],
             [
              0.3333333333333333,
              "#9c179e"
             ],
             [
              0.4444444444444444,
              "#bd3786"
             ],
             [
              0.5555555555555556,
              "#d8576b"
             ],
             [
              0.6666666666666666,
              "#ed7953"
             ],
             [
              0.7777777777777778,
              "#fb9f3a"
             ],
             [
              0.8888888888888888,
              "#fdca26"
             ],
             [
              1,
              "#f0f921"
             ]
            ],
            "type": "heatmapgl"
           }
          ],
          "histogram": [
           {
            "marker": {
             "pattern": {
              "fillmode": "overlay",
              "size": 10,
              "solidity": 0.2
             }
            },
            "type": "histogram"
           }
          ],
          "histogram2d": [
           {
            "colorbar": {
             "outlinewidth": 0,
             "ticks": ""
            },
            "colorscale": [
             [
              0,
              "#0d0887"
             ],
             [
              0.1111111111111111,
              "#46039f"
             ],
             [
              0.2222222222222222,
              "#7201a8"
             ],
             [
              0.3333333333333333,
              "#9c179e"
             ],
             [
              0.4444444444444444,
              "#bd3786"
             ],
             [
              0.5555555555555556,
              "#d8576b"
             ],
             [
              0.6666666666666666,
              "#ed7953"
             ],
             [
              0.7777777777777778,
              "#fb9f3a"
             ],
             [
              0.8888888888888888,
              "#fdca26"
             ],
             [
              1,
              "#f0f921"
             ]
            ],
            "type": "histogram2d"
           }
          ],
          "histogram2dcontour": [
           {
            "colorbar": {
             "outlinewidth": 0,
             "ticks": ""
            },
            "colorscale": [
             [
              0,
              "#0d0887"
             ],
             [
              0.1111111111111111,
              "#46039f"
             ],
             [
              0.2222222222222222,
              "#7201a8"
             ],
             [
              0.3333333333333333,
              "#9c179e"
             ],
             [
              0.4444444444444444,
              "#bd3786"
             ],
             [
              0.5555555555555556,
              "#d8576b"
             ],
             [
              0.6666666666666666,
              "#ed7953"
             ],
             [
              0.7777777777777778,
              "#fb9f3a"
             ],
             [
              0.8888888888888888,
              "#fdca26"
             ],
             [
              1,
              "#f0f921"
             ]
            ],
            "type": "histogram2dcontour"
           }
          ],
          "mesh3d": [
           {
            "colorbar": {
             "outlinewidth": 0,
             "ticks": ""
            },
            "type": "mesh3d"
           }
          ],
          "parcoords": [
           {
            "line": {
             "colorbar": {
              "outlinewidth": 0,
              "ticks": ""
             }
            },
            "type": "parcoords"
           }
          ],
          "pie": [
           {
            "automargin": true,
            "type": "pie"
           }
          ],
          "scatter": [
           {
            "marker": {
             "colorbar": {
              "outlinewidth": 0,
              "ticks": ""
             }
            },
            "type": "scatter"
           }
          ],
          "scatter3d": [
           {
            "line": {
             "colorbar": {
              "outlinewidth": 0,
              "ticks": ""
             }
            },
            "marker": {
             "colorbar": {
              "outlinewidth": 0,
              "ticks": ""
             }
            },
            "type": "scatter3d"
           }
          ],
          "scattercarpet": [
           {
            "marker": {
             "colorbar": {
              "outlinewidth": 0,
              "ticks": ""
             }
            },
            "type": "scattercarpet"
           }
          ],
          "scattergeo": [
           {
            "marker": {
             "colorbar": {
              "outlinewidth": 0,
              "ticks": ""
             }
            },
            "type": "scattergeo"
           }
          ],
          "scattergl": [
           {
            "marker": {
             "colorbar": {
              "outlinewidth": 0,
              "ticks": ""
             }
            },
            "type": "scattergl"
           }
          ],
          "scattermapbox": [
           {
            "marker": {
             "colorbar": {
              "outlinewidth": 0,
              "ticks": ""
             }
            },
            "type": "scattermapbox"
           }
          ],
          "scatterpolar": [
           {
            "marker": {
             "colorbar": {
              "outlinewidth": 0,
              "ticks": ""
             }
            },
            "type": "scatterpolar"
           }
          ],
          "scatterpolargl": [
           {
            "marker": {
             "colorbar": {
              "outlinewidth": 0,
              "ticks": ""
             }
            },
            "type": "scatterpolargl"
           }
          ],
          "scatterternary": [
           {
            "marker": {
             "colorbar": {
              "outlinewidth": 0,
              "ticks": ""
             }
            },
            "type": "scatterternary"
           }
          ],
          "surface": [
           {
            "colorbar": {
             "outlinewidth": 0,
             "ticks": ""
            },
            "colorscale": [
             [
              0,
              "#0d0887"
             ],
             [
              0.1111111111111111,
              "#46039f"
             ],
             [
              0.2222222222222222,
              "#7201a8"
             ],
             [
              0.3333333333333333,
              "#9c179e"
             ],
             [
              0.4444444444444444,
              "#bd3786"
             ],
             [
              0.5555555555555556,
              "#d8576b"
             ],
             [
              0.6666666666666666,
              "#ed7953"
             ],
             [
              0.7777777777777778,
              "#fb9f3a"
             ],
             [
              0.8888888888888888,
              "#fdca26"
             ],
             [
              1,
              "#f0f921"
             ]
            ],
            "type": "surface"
           }
          ],
          "table": [
           {
            "cells": {
             "fill": {
              "color": "#EBF0F8"
             },
             "line": {
              "color": "white"
             }
            },
            "header": {
             "fill": {
              "color": "#C8D4E3"
             },
             "line": {
              "color": "white"
             }
            },
            "type": "table"
           }
          ]
         },
         "layout": {
          "annotationdefaults": {
           "arrowcolor": "#2a3f5f",
           "arrowhead": 0,
           "arrowwidth": 1
          },
          "autotypenumbers": "strict",
          "coloraxis": {
           "colorbar": {
            "outlinewidth": 0,
            "ticks": ""
           }
          },
          "colorscale": {
           "diverging": [
            [
             0,
             "#8e0152"
            ],
            [
             0.1,
             "#c51b7d"
            ],
            [
             0.2,
             "#de77ae"
            ],
            [
             0.3,
             "#f1b6da"
            ],
            [
             0.4,
             "#fde0ef"
            ],
            [
             0.5,
             "#f7f7f7"
            ],
            [
             0.6,
             "#e6f5d0"
            ],
            [
             0.7,
             "#b8e186"
            ],
            [
             0.8,
             "#7fbc41"
            ],
            [
             0.9,
             "#4d9221"
            ],
            [
             1,
             "#276419"
            ]
           ],
           "sequential": [
            [
             0,
             "#0d0887"
            ],
            [
             0.1111111111111111,
             "#46039f"
            ],
            [
             0.2222222222222222,
             "#7201a8"
            ],
            [
             0.3333333333333333,
             "#9c179e"
            ],
            [
             0.4444444444444444,
             "#bd3786"
            ],
            [
             0.5555555555555556,
             "#d8576b"
            ],
            [
             0.6666666666666666,
             "#ed7953"
            ],
            [
             0.7777777777777778,
             "#fb9f3a"
            ],
            [
             0.8888888888888888,
             "#fdca26"
            ],
            [
             1,
             "#f0f921"
            ]
           ],
           "sequentialminus": [
            [
             0,
             "#0d0887"
            ],
            [
             0.1111111111111111,
             "#46039f"
            ],
            [
             0.2222222222222222,
             "#7201a8"
            ],
            [
             0.3333333333333333,
             "#9c179e"
            ],
            [
             0.4444444444444444,
             "#bd3786"
            ],
            [
             0.5555555555555556,
             "#d8576b"
            ],
            [
             0.6666666666666666,
             "#ed7953"
            ],
            [
             0.7777777777777778,
             "#fb9f3a"
            ],
            [
             0.8888888888888888,
             "#fdca26"
            ],
            [
             1,
             "#f0f921"
            ]
           ]
          },
          "colorway": [
           "#636efa",
           "#EF553B",
           "#00cc96",
           "#ab63fa",
           "#FFA15A",
           "#19d3f3",
           "#FF6692",
           "#B6E880",
           "#FF97FF",
           "#FECB52"
          ],
          "font": {
           "color": "#2a3f5f"
          },
          "geo": {
           "bgcolor": "white",
           "lakecolor": "white",
           "landcolor": "#E5ECF6",
           "showlakes": true,
           "showland": true,
           "subunitcolor": "white"
          },
          "hoverlabel": {
           "align": "left"
          },
          "hovermode": "closest",
          "mapbox": {
           "style": "light"
          },
          "paper_bgcolor": "white",
          "plot_bgcolor": "#E5ECF6",
          "polar": {
           "angularaxis": {
            "gridcolor": "white",
            "linecolor": "white",
            "ticks": ""
           },
           "bgcolor": "#E5ECF6",
           "radialaxis": {
            "gridcolor": "white",
            "linecolor": "white",
            "ticks": ""
           }
          },
          "scene": {
           "xaxis": {
            "backgroundcolor": "#E5ECF6",
            "gridcolor": "white",
            "gridwidth": 2,
            "linecolor": "white",
            "showbackground": true,
            "ticks": "",
            "zerolinecolor": "white"
           },
           "yaxis": {
            "backgroundcolor": "#E5ECF6",
            "gridcolor": "white",
            "gridwidth": 2,
            "linecolor": "white",
            "showbackground": true,
            "ticks": "",
            "zerolinecolor": "white"
           },
           "zaxis": {
            "backgroundcolor": "#E5ECF6",
            "gridcolor": "white",
            "gridwidth": 2,
            "linecolor": "white",
            "showbackground": true,
            "ticks": "",
            "zerolinecolor": "white"
           }
          },
          "shapedefaults": {
           "line": {
            "color": "#2a3f5f"
           }
          },
          "ternary": {
           "aaxis": {
            "gridcolor": "white",
            "linecolor": "white",
            "ticks": ""
           },
           "baxis": {
            "gridcolor": "white",
            "linecolor": "white",
            "ticks": ""
           },
           "bgcolor": "#E5ECF6",
           "caxis": {
            "gridcolor": "white",
            "linecolor": "white",
            "ticks": ""
           }
          },
          "title": {
           "x": 0.05
          },
          "xaxis": {
           "automargin": true,
           "gridcolor": "white",
           "linecolor": "white",
           "ticks": "",
           "title": {
            "standoff": 15
           },
           "zerolinecolor": "white",
           "zerolinewidth": 2
          },
          "yaxis": {
           "automargin": true,
           "gridcolor": "white",
           "linecolor": "white",
           "ticks": "",
           "title": {
            "standoff": 15
           },
           "zerolinecolor": "white",
           "zerolinewidth": 2
          }
         }
        },
        "title": {
         "text": "Discriminator Loss"
        },
        "width": 1000,
        "xaxis": {
         "title": {
          "text": "Number of training examples seen"
         }
        },
        "yaxis": {
         "title": {
          "text": "Disc Loss (MSELoss)"
         }
        }
       }
      }
     },
     "metadata": {},
     "output_type": "display_data"
    }
   ],
   "source": [
    "fig = go.Figure()\n",
    "fig.add_trace(go.Scatter(x=counter, y=disc_losses, mode='lines', name='Discriminator Loss', marker_color='seagreen'))\n",
    "\n",
    "fig.update_layout(\n",
    "    width=1000,\n",
    "    height=500,\n",
    "    title=\"Discriminator Loss\",\n",
    "    xaxis_title=\"Number of training examples seen\",\n",
    "    yaxis_title=\"Disc Loss (MSELoss)\"),\n",
    "fig.show()"
   ]
  },
  {
   "cell_type": "markdown",
   "metadata": {
    "papermill": {
     "duration": 0.417193,
     "end_time": "2020-11-09T04:57:00.136360",
     "exception": false,
     "start_time": "2020-11-09T04:56:59.719167",
     "status": "completed"
    },
    "tags": []
   },
   "source": [
    "### Work in Progress ..."
   ]
  }
 ],
 "metadata": {
  "kernelspec": {
   "display_name": "Python 3",
   "language": "python",
   "name": "python3"
  },
  "language_info": {
   "codemirror_mode": {
    "name": "ipython",
    "version": 3
   },
   "file_extension": ".py",
   "mimetype": "text/x-python",
   "name": "python",
   "nbconvert_exporter": "python",
   "pygments_lexer": "ipython3",
   "version": "3.8.12"
  },
  "papermill": {
   "duration": 13320.821773,
   "end_time": "2020-11-09T04:57:01.904114",
   "environment_variables": {},
   "exception": null,
   "input_path": "__notebook__.ipynb",
   "output_path": "__notebook__.ipynb",
   "parameters": {},
   "start_time": "2020-11-09T01:15:01.082341",
   "version": "2.1.0"
  },
  "widgets": {
   "application/vnd.jupyter.widget-state+json": {
    "state": {
     "00989e66bca24c3cbee136c0fdace11f": {
      "model_module": "@jupyter-widgets/controls",
      "model_module_version": "1.5.0",
      "model_name": "HTMLModel",
      "state": {
       "_dom_classes": [],
       "_model_module": "@jupyter-widgets/controls",
       "_model_module_version": "1.5.0",
       "_model_name": "HTMLModel",
       "_view_count": null,
       "_view_module": "@jupyter-widgets/controls",
       "_view_module_version": "1.5.0",
       "_view_name": "HTMLView",
       "description": "",
       "description_tooltip": null,
       "layout": "IPY_MODEL_acb0c6bc4e2042e2abb4749365a9a4c6",
       "placeholder": "​",
       "style": "IPY_MODEL_3b773fc80ef842efb68dda8f0da1f1c6",
       "value": " 12413/12413 [14:48&lt;00:00, 13.97it/s, disc_loss=0.00702, gen_adv_loss=0.992, gen_pixel_loss=0.253]"
      }
     },
     "01956b4361de48008ca628407f4a873b": {
      "model_module": "@jupyter-widgets/base",
      "model_module_version": "1.2.0",
      "model_name": "LayoutModel",
      "state": {
       "_model_module": "@jupyter-widgets/base",
       "_model_module_version": "1.2.0",
       "_model_name": "LayoutModel",
       "_view_count": null,
       "_view_module": "@jupyter-widgets/base",
       "_view_module_version": "1.2.0",
       "_view_name": "LayoutView",
       "align_content": null,
       "align_items": null,
       "align_self": null,
       "border": null,
       "bottom": null,
       "display": null,
       "flex": null,
       "flex_flow": null,
       "grid_area": null,
       "grid_auto_columns": null,
       "grid_auto_flow": null,
       "grid_auto_rows": null,
       "grid_column": null,
       "grid_gap": null,
       "grid_row": null,
       "grid_template_areas": null,
       "grid_template_columns": null,
       "grid_template_rows": null,
       "height": null,
       "justify_content": null,
       "justify_items": null,
       "left": null,
       "margin": null,
       "max_height": null,
       "max_width": null,
       "min_height": null,
       "min_width": null,
       "object_fit": null,
       "object_position": null,
       "order": null,
       "overflow": null,
       "overflow_x": null,
       "overflow_y": null,
       "padding": null,
       "right": null,
       "top": null,
       "visibility": null,
       "width": null
      }
     },
     "038a5119b327482faaf816824f9f78c6": {
      "model_module": "@jupyter-widgets/base",
      "model_module_version": "1.2.0",
      "model_name": "LayoutModel",
      "state": {
       "_model_module": "@jupyter-widgets/base",
       "_model_module_version": "1.2.0",
       "_model_name": "LayoutModel",
       "_view_count": null,
       "_view_module": "@jupyter-widgets/base",
       "_view_module_version": "1.2.0",
       "_view_name": "LayoutView",
       "align_content": null,
       "align_items": null,
       "align_self": null,
       "border": null,
       "bottom": null,
       "display": null,
       "flex": null,
       "flex_flow": null,
       "grid_area": null,
       "grid_auto_columns": null,
       "grid_auto_flow": null,
       "grid_auto_rows": null,
       "grid_column": null,
       "grid_gap": null,
       "grid_row": null,
       "grid_template_areas": null,
       "grid_template_columns": null,
       "grid_template_rows": null,
       "height": null,
       "justify_content": null,
       "justify_items": null,
       "left": null,
       "margin": null,
       "max_height": null,
       "max_width": null,
       "min_height": null,
       "min_width": null,
       "object_fit": null,
       "object_position": null,
       "order": null,
       "overflow": null,
       "overflow_x": null,
       "overflow_y": null,
       "padding": null,
       "right": null,
       "top": null,
       "visibility": null,
       "width": null
      }
     },
     "03c8cff605f24d42aa58cb00dcbe6609": {
      "model_module": "@jupyter-widgets/controls",
      "model_module_version": "1.5.0",
      "model_name": "HTMLModel",
      "state": {
       "_dom_classes": [],
       "_model_module": "@jupyter-widgets/controls",
       "_model_module_version": "1.5.0",
       "_model_name": "HTMLModel",
       "_view_count": null,
       "_view_module": "@jupyter-widgets/controls",
       "_view_module_version": "1.5.0",
       "_view_name": "HTMLView",
       "description": "",
       "description_tooltip": null,
       "layout": "IPY_MODEL_2222d067ee2c4de3bba0dadd10775dc2",
       "placeholder": "​",
       "style": "IPY_MODEL_1a7a5e224bc94acc94a5a7b599a7a037",
       "value": " 12413/12413 [2:13:10&lt;00:00,  1.55it/s, disc_loss=0.000414, gen_adv_loss=1, gen_pixel_loss=0.187]"
      }
     },
     "09d59b97d9cf4dfc8cbe964c03d9665d": {
      "model_module": "@jupyter-widgets/controls",
      "model_module_version": "1.5.0",
      "model_name": "HTMLModel",
      "state": {
       "_dom_classes": [],
       "_model_module": "@jupyter-widgets/controls",
       "_model_module_version": "1.5.0",
       "_model_name": "HTMLModel",
       "_view_count": null,
       "_view_module": "@jupyter-widgets/controls",
       "_view_module_version": "1.5.0",
       "_view_name": "HTMLView",
       "description": "",
       "description_tooltip": null,
       "layout": "IPY_MODEL_e39f8591d9ee4fa58c9d04ecdd5b4b14",
       "placeholder": "​",
       "style": "IPY_MODEL_43ec3bf4a6834d71999068c52dc943be",
       "value": " 12413/12413 [14:58&lt;00:00, 13.82it/s, disc_loss=0.000364, gen_adv_loss=1, gen_pixel_loss=0.183]"
      }
     },
     "0c7e8644ade545d29d1dbc77bf2a8b68": {
      "model_module": "@jupyter-widgets/base",
      "model_module_version": "1.2.0",
      "model_name": "LayoutModel",
      "state": {
       "_model_module": "@jupyter-widgets/base",
       "_model_module_version": "1.2.0",
       "_model_name": "LayoutModel",
       "_view_count": null,
       "_view_module": "@jupyter-widgets/base",
       "_view_module_version": "1.2.0",
       "_view_name": "LayoutView",
       "align_content": null,
       "align_items": null,
       "align_self": null,
       "border": null,
       "bottom": null,
       "display": null,
       "flex": null,
       "flex_flow": null,
       "grid_area": null,
       "grid_auto_columns": null,
       "grid_auto_flow": null,
       "grid_auto_rows": null,
       "grid_column": null,
       "grid_gap": null,
       "grid_row": null,
       "grid_template_areas": null,
       "grid_template_columns": null,
       "grid_template_rows": null,
       "height": null,
       "justify_content": null,
       "justify_items": null,
       "left": null,
       "margin": null,
       "max_height": null,
       "max_width": null,
       "min_height": null,
       "min_width": null,
       "object_fit": null,
       "object_position": null,
       "order": null,
       "overflow": null,
       "overflow_x": null,
       "overflow_y": null,
       "padding": null,
       "right": null,
       "top": null,
       "visibility": null,
       "width": null
      }
     },
     "0c9bc1275f06448dbb27426e824f756b": {
      "model_module": "@jupyter-widgets/base",
      "model_module_version": "1.2.0",
      "model_name": "LayoutModel",
      "state": {
       "_model_module": "@jupyter-widgets/base",
       "_model_module_version": "1.2.0",
       "_model_name": "LayoutModel",
       "_view_count": null,
       "_view_module": "@jupyter-widgets/base",
       "_view_module_version": "1.2.0",
       "_view_name": "LayoutView",
       "align_content": null,
       "align_items": null,
       "align_self": null,
       "border": null,
       "bottom": null,
       "display": null,
       "flex": null,
       "flex_flow": null,
       "grid_area": null,
       "grid_auto_columns": null,
       "grid_auto_flow": null,
       "grid_auto_rows": null,
       "grid_column": null,
       "grid_gap": null,
       "grid_row": null,
       "grid_template_areas": null,
       "grid_template_columns": null,
       "grid_template_rows": null,
       "height": null,
       "justify_content": null,
       "justify_items": null,
       "left": null,
       "margin": null,
       "max_height": null,
       "max_width": null,
       "min_height": null,
       "min_width": null,
       "object_fit": null,
       "object_position": null,
       "order": null,
       "overflow": null,
       "overflow_x": null,
       "overflow_y": null,
       "padding": null,
       "right": null,
       "top": null,
       "visibility": null,
       "width": null
      }
     },
     "0dabcb490ab8475587d1a3f30a6183cc": {
      "model_module": "@jupyter-widgets/controls",
      "model_module_version": "1.5.0",
      "model_name": "FloatProgressModel",
      "state": {
       "_dom_classes": [],
       "_model_module": "@jupyter-widgets/controls",
       "_model_module_version": "1.5.0",
       "_model_name": "FloatProgressModel",
       "_view_count": null,
       "_view_module": "@jupyter-widgets/controls",
       "_view_module_version": "1.5.0",
       "_view_name": "ProgressView",
       "bar_style": "success",
       "description": "Training Epoch 4 : 100%",
       "description_tooltip": null,
       "layout": "IPY_MODEL_fc00240be8da4a56bcd2afc28c298bd9",
       "max": 12413,
       "min": 0,
       "orientation": "horizontal",
       "style": "IPY_MODEL_a7e49ef020c047e098a55fb6edc5a5e9",
       "value": 12413
      }
     },
     "11f8f65e3c5345979733785ba118c784": {
      "model_module": "@jupyter-widgets/base",
      "model_module_version": "1.2.0",
      "model_name": "LayoutModel",
      "state": {
       "_model_module": "@jupyter-widgets/base",
       "_model_module_version": "1.2.0",
       "_model_name": "LayoutModel",
       "_view_count": null,
       "_view_module": "@jupyter-widgets/base",
       "_view_module_version": "1.2.0",
       "_view_name": "LayoutView",
       "align_content": null,
       "align_items": null,
       "align_self": null,
       "border": null,
       "bottom": null,
       "display": null,
       "flex": null,
       "flex_flow": null,
       "grid_area": null,
       "grid_auto_columns": null,
       "grid_auto_flow": null,
       "grid_auto_rows": null,
       "grid_column": null,
       "grid_gap": null,
       "grid_row": null,
       "grid_template_areas": null,
       "grid_template_columns": null,
       "grid_template_rows": null,
       "height": null,
       "justify_content": null,
       "justify_items": null,
       "left": null,
       "margin": null,
       "max_height": null,
       "max_width": null,
       "min_height": null,
       "min_width": null,
       "object_fit": null,
       "object_position": null,
       "order": null,
       "overflow": null,
       "overflow_x": null,
       "overflow_y": null,
       "padding": null,
       "right": null,
       "top": null,
       "visibility": null,
       "width": null
      }
     },
     "1611c80fce5d4fa4b04b8c2132ff963a": {
      "model_module": "@jupyter-widgets/base",
      "model_module_version": "1.2.0",
      "model_name": "LayoutModel",
      "state": {
       "_model_module": "@jupyter-widgets/base",
       "_model_module_version": "1.2.0",
       "_model_name": "LayoutModel",
       "_view_count": null,
       "_view_module": "@jupyter-widgets/base",
       "_view_module_version": "1.2.0",
       "_view_name": "LayoutView",
       "align_content": null,
       "align_items": null,
       "align_self": null,
       "border": null,
       "bottom": null,
       "display": null,
       "flex": null,
       "flex_flow": null,
       "grid_area": null,
       "grid_auto_columns": null,
       "grid_auto_flow": null,
       "grid_auto_rows": null,
       "grid_column": null,
       "grid_gap": null,
       "grid_row": null,
       "grid_template_areas": null,
       "grid_template_columns": null,
       "grid_template_rows": null,
       "height": null,
       "justify_content": null,
       "justify_items": null,
       "left": null,
       "margin": null,
       "max_height": null,
       "max_width": null,
       "min_height": null,
       "min_width": null,
       "object_fit": null,
       "object_position": null,
       "order": null,
       "overflow": null,
       "overflow_x": null,
       "overflow_y": null,
       "padding": null,
       "right": null,
       "top": null,
       "visibility": null,
       "width": null
      }
     },
     "1a7a5e224bc94acc94a5a7b599a7a037": {
      "model_module": "@jupyter-widgets/controls",
      "model_module_version": "1.5.0",
      "model_name": "DescriptionStyleModel",
      "state": {
       "_model_module": "@jupyter-widgets/controls",
       "_model_module_version": "1.5.0",
       "_model_name": "DescriptionStyleModel",
       "_view_count": null,
       "_view_module": "@jupyter-widgets/base",
       "_view_module_version": "1.2.0",
       "_view_name": "StyleView",
       "description_width": ""
      }
     },
     "1bed3edc27f94872ac2af994921e061d": {
      "model_module": "@jupyter-widgets/base",
      "model_module_version": "1.2.0",
      "model_name": "LayoutModel",
      "state": {
       "_model_module": "@jupyter-widgets/base",
       "_model_module_version": "1.2.0",
       "_model_name": "LayoutModel",
       "_view_count": null,
       "_view_module": "@jupyter-widgets/base",
       "_view_module_version": "1.2.0",
       "_view_name": "LayoutView",
       "align_content": null,
       "align_items": null,
       "align_self": null,
       "border": null,
       "bottom": null,
       "display": null,
       "flex": null,
       "flex_flow": null,
       "grid_area": null,
       "grid_auto_columns": null,
       "grid_auto_flow": null,
       "grid_auto_rows": null,
       "grid_column": null,
       "grid_gap": null,
       "grid_row": null,
       "grid_template_areas": null,
       "grid_template_columns": null,
       "grid_template_rows": null,
       "height": null,
       "justify_content": null,
       "justify_items": null,
       "left": null,
       "margin": null,
       "max_height": null,
       "max_width": null,
       "min_height": null,
       "min_width": null,
       "object_fit": null,
       "object_position": null,
       "order": null,
       "overflow": null,
       "overflow_x": null,
       "overflow_y": null,
       "padding": null,
       "right": null,
       "top": null,
       "visibility": null,
       "width": null
      }
     },
     "1ca58db872384c3192e6c414438abc4f": {
      "model_module": "@jupyter-widgets/base",
      "model_module_version": "1.2.0",
      "model_name": "LayoutModel",
      "state": {
       "_model_module": "@jupyter-widgets/base",
       "_model_module_version": "1.2.0",
       "_model_name": "LayoutModel",
       "_view_count": null,
       "_view_module": "@jupyter-widgets/base",
       "_view_module_version": "1.2.0",
       "_view_name": "LayoutView",
       "align_content": null,
       "align_items": null,
       "align_self": null,
       "border": null,
       "bottom": null,
       "display": null,
       "flex": null,
       "flex_flow": null,
       "grid_area": null,
       "grid_auto_columns": null,
       "grid_auto_flow": null,
       "grid_auto_rows": null,
       "grid_column": null,
       "grid_gap": null,
       "grid_row": null,
       "grid_template_areas": null,
       "grid_template_columns": null,
       "grid_template_rows": null,
       "height": null,
       "justify_content": null,
       "justify_items": null,
       "left": null,
       "margin": null,
       "max_height": null,
       "max_width": null,
       "min_height": null,
       "min_width": null,
       "object_fit": null,
       "object_position": null,
       "order": null,
       "overflow": null,
       "overflow_x": null,
       "overflow_y": null,
       "padding": null,
       "right": null,
       "top": null,
       "visibility": null,
       "width": null
      }
     },
     "2222d067ee2c4de3bba0dadd10775dc2": {
      "model_module": "@jupyter-widgets/base",
      "model_module_version": "1.2.0",
      "model_name": "LayoutModel",
      "state": {
       "_model_module": "@jupyter-widgets/base",
       "_model_module_version": "1.2.0",
       "_model_name": "LayoutModel",
       "_view_count": null,
       "_view_module": "@jupyter-widgets/base",
       "_view_module_version": "1.2.0",
       "_view_name": "LayoutView",
       "align_content": null,
       "align_items": null,
       "align_self": null,
       "border": null,
       "bottom": null,
       "display": null,
       "flex": null,
       "flex_flow": null,
       "grid_area": null,
       "grid_auto_columns": null,
       "grid_auto_flow": null,
       "grid_auto_rows": null,
       "grid_column": null,
       "grid_gap": null,
       "grid_row": null,
       "grid_template_areas": null,
       "grid_template_columns": null,
       "grid_template_rows": null,
       "height": null,
       "justify_content": null,
       "justify_items": null,
       "left": null,
       "margin": null,
       "max_height": null,
       "max_width": null,
       "min_height": null,
       "min_width": null,
       "object_fit": null,
       "object_position": null,
       "order": null,
       "overflow": null,
       "overflow_x": null,
       "overflow_y": null,
       "padding": null,
       "right": null,
       "top": null,
       "visibility": null,
       "width": null
      }
     },
     "2b26f462fbde4617a565adc210222ce4": {
      "model_module": "@jupyter-widgets/base",
      "model_module_version": "1.2.0",
      "model_name": "LayoutModel",
      "state": {
       "_model_module": "@jupyter-widgets/base",
       "_model_module_version": "1.2.0",
       "_model_name": "LayoutModel",
       "_view_count": null,
       "_view_module": "@jupyter-widgets/base",
       "_view_module_version": "1.2.0",
       "_view_name": "LayoutView",
       "align_content": null,
       "align_items": null,
       "align_self": null,
       "border": null,
       "bottom": null,
       "display": null,
       "flex": null,
       "flex_flow": null,
       "grid_area": null,
       "grid_auto_columns": null,
       "grid_auto_flow": null,
       "grid_auto_rows": null,
       "grid_column": null,
       "grid_gap": null,
       "grid_row": null,
       "grid_template_areas": null,
       "grid_template_columns": null,
       "grid_template_rows": null,
       "height": null,
       "justify_content": null,
       "justify_items": null,
       "left": null,
       "margin": null,
       "max_height": null,
       "max_width": null,
       "min_height": null,
       "min_width": null,
       "object_fit": null,
       "object_position": null,
       "order": null,
       "overflow": null,
       "overflow_x": null,
       "overflow_y": null,
       "padding": null,
       "right": null,
       "top": null,
       "visibility": null,
       "width": null
      }
     },
     "2bcd070563a442cd84e085813875d420": {
      "model_module": "@jupyter-widgets/controls",
      "model_module_version": "1.5.0",
      "model_name": "ProgressStyleModel",
      "state": {
       "_model_module": "@jupyter-widgets/controls",
       "_model_module_version": "1.5.0",
       "_model_name": "ProgressStyleModel",
       "_view_count": null,
       "_view_module": "@jupyter-widgets/base",
       "_view_module_version": "1.2.0",
       "_view_name": "StyleView",
       "bar_color": null,
       "description_width": "initial"
      }
     },
     "2d0d50f95b9949deae77d3cdf28f19a1": {
      "model_module": "@jupyter-widgets/controls",
      "model_module_version": "1.5.0",
      "model_name": "FloatProgressModel",
      "state": {
       "_dom_classes": [],
       "_model_module": "@jupyter-widgets/controls",
       "_model_module_version": "1.5.0",
       "_model_name": "FloatProgressModel",
       "_view_count": null,
       "_view_module": "@jupyter-widgets/controls",
       "_view_module_version": "1.5.0",
       "_view_name": "ProgressView",
       "bar_style": "success",
       "description": "Training Epoch 13 : 100%",
       "description_tooltip": null,
       "layout": "IPY_MODEL_038a5119b327482faaf816824f9f78c6",
       "max": 12413,
       "min": 0,
       "orientation": "horizontal",
       "style": "IPY_MODEL_90eadb8e570d4d2bbb3af2b5ee4ff636",
       "value": 12413
      }
     },
     "2f4fac61099e4330bda2c0779e4773d6": {
      "model_module": "@jupyter-widgets/base",
      "model_module_version": "1.2.0",
      "model_name": "LayoutModel",
      "state": {
       "_model_module": "@jupyter-widgets/base",
       "_model_module_version": "1.2.0",
       "_model_name": "LayoutModel",
       "_view_count": null,
       "_view_module": "@jupyter-widgets/base",
       "_view_module_version": "1.2.0",
       "_view_name": "LayoutView",
       "align_content": null,
       "align_items": null,
       "align_self": null,
       "border": null,
       "bottom": null,
       "display": null,
       "flex": null,
       "flex_flow": null,
       "grid_area": null,
       "grid_auto_columns": null,
       "grid_auto_flow": null,
       "grid_auto_rows": null,
       "grid_column": null,
       "grid_gap": null,
       "grid_row": null,
       "grid_template_areas": null,
       "grid_template_columns": null,
       "grid_template_rows": null,
       "height": null,
       "justify_content": null,
       "justify_items": null,
       "left": null,
       "margin": null,
       "max_height": null,
       "max_width": null,
       "min_height": null,
       "min_width": null,
       "object_fit": null,
       "object_position": null,
       "order": null,
       "overflow": null,
       "overflow_x": null,
       "overflow_y": null,
       "padding": null,
       "right": null,
       "top": null,
       "visibility": null,
       "width": null
      }
     },
     "341e83e560b94bef9dc96a2074efacd8": {
      "model_module": "@jupyter-widgets/controls",
      "model_module_version": "1.5.0",
      "model_name": "DescriptionStyleModel",
      "state": {
       "_model_module": "@jupyter-widgets/controls",
       "_model_module_version": "1.5.0",
       "_model_name": "DescriptionStyleModel",
       "_view_count": null,
       "_view_module": "@jupyter-widgets/base",
       "_view_module_version": "1.2.0",
       "_view_name": "StyleView",
       "description_width": ""
      }
     },
     "365e64caee3b484b8da49bf16e79cdfa": {
      "model_module": "@jupyter-widgets/base",
      "model_module_version": "1.2.0",
      "model_name": "LayoutModel",
      "state": {
       "_model_module": "@jupyter-widgets/base",
       "_model_module_version": "1.2.0",
       "_model_name": "LayoutModel",
       "_view_count": null,
       "_view_module": "@jupyter-widgets/base",
       "_view_module_version": "1.2.0",
       "_view_name": "LayoutView",
       "align_content": null,
       "align_items": null,
       "align_self": null,
       "border": null,
       "bottom": null,
       "display": null,
       "flex": null,
       "flex_flow": null,
       "grid_area": null,
       "grid_auto_columns": null,
       "grid_auto_flow": null,
       "grid_auto_rows": null,
       "grid_column": null,
       "grid_gap": null,
       "grid_row": null,
       "grid_template_areas": null,
       "grid_template_columns": null,
       "grid_template_rows": null,
       "height": null,
       "justify_content": null,
       "justify_items": null,
       "left": null,
       "margin": null,
       "max_height": null,
       "max_width": null,
       "min_height": null,
       "min_width": null,
       "object_fit": null,
       "object_position": null,
       "order": null,
       "overflow": null,
       "overflow_x": null,
       "overflow_y": null,
       "padding": null,
       "right": null,
       "top": null,
       "visibility": null,
       "width": null
      }
     },
     "3786fc05ea69466e96f2ed322e1772f2": {
      "model_module": "@jupyter-widgets/controls",
      "model_module_version": "1.5.0",
      "model_name": "HTMLModel",
      "state": {
       "_dom_classes": [],
       "_model_module": "@jupyter-widgets/controls",
       "_model_module_version": "1.5.0",
       "_model_name": "HTMLModel",
       "_view_count": null,
       "_view_module": "@jupyter-widgets/controls",
       "_view_module_version": "1.5.0",
       "_view_name": "HTMLView",
       "description": "",
       "description_tooltip": null,
       "layout": "IPY_MODEL_e27c9026ba6e4221b0b7ddc029dc67c3",
       "placeholder": "​",
       "style": "IPY_MODEL_f577264b460648c882d894345e59e287",
       "value": " 12413/12413 [3:26:36&lt;00:00,  1.00it/s, disc_loss=0.00102, gen_adv_loss=1, gen_pixel_loss=0.217]"
      }
     },
     "39781ef35c2b49398fe17fd4a29db7da": {
      "model_module": "@jupyter-widgets/controls",
      "model_module_version": "1.5.0",
      "model_name": "DescriptionStyleModel",
      "state": {
       "_model_module": "@jupyter-widgets/controls",
       "_model_module_version": "1.5.0",
       "_model_name": "DescriptionStyleModel",
       "_view_count": null,
       "_view_module": "@jupyter-widgets/base",
       "_view_module_version": "1.2.0",
       "_view_name": "StyleView",
       "description_width": ""
      }
     },
     "3b773fc80ef842efb68dda8f0da1f1c6": {
      "model_module": "@jupyter-widgets/controls",
      "model_module_version": "1.5.0",
      "model_name": "DescriptionStyleModel",
      "state": {
       "_model_module": "@jupyter-widgets/controls",
       "_model_module_version": "1.5.0",
       "_model_name": "DescriptionStyleModel",
       "_view_count": null,
       "_view_module": "@jupyter-widgets/base",
       "_view_module_version": "1.2.0",
       "_view_name": "StyleView",
       "description_width": ""
      }
     },
     "3b80ce2f62044240bbf0de22610b2177": {
      "model_module": "@jupyter-widgets/controls",
      "model_module_version": "1.5.0",
      "model_name": "HTMLModel",
      "state": {
       "_dom_classes": [],
       "_model_module": "@jupyter-widgets/controls",
       "_model_module_version": "1.5.0",
       "_model_name": "HTMLModel",
       "_view_count": null,
       "_view_module": "@jupyter-widgets/controls",
       "_view_module_version": "1.5.0",
       "_view_name": "HTMLView",
       "description": "",
       "description_tooltip": null,
       "layout": "IPY_MODEL_75a2a9aca23c4113bd3a6c30790253d2",
       "placeholder": "​",
       "style": "IPY_MODEL_341e83e560b94bef9dc96a2074efacd8",
       "value": " 12413/12413 [14:56&lt;00:00, 13.84it/s, disc_loss=0.000332, gen_adv_loss=1, gen_pixel_loss=0.175]"
      }
     },
     "3d2a1327d40b49a2a67d21f5b188614f": {
      "model_module": "@jupyter-widgets/controls",
      "model_module_version": "1.5.0",
      "model_name": "HBoxModel",
      "state": {
       "_dom_classes": [],
       "_model_module": "@jupyter-widgets/controls",
       "_model_module_version": "1.5.0",
       "_model_name": "HBoxModel",
       "_view_count": null,
       "_view_module": "@jupyter-widgets/controls",
       "_view_module_version": "1.5.0",
       "_view_name": "HBoxView",
       "box_style": "",
       "children": [
        "IPY_MODEL_78628863610040caad18b1d12c4db55c",
        "IPY_MODEL_549cf53b37084c05b97bcb325313f6ea"
       ],
       "layout": "IPY_MODEL_fc6837ba7db44e21a7260f83a2a9ff81"
      }
     },
     "3dc603bbe473482dad911eb619315a81": {
      "model_module": "@jupyter-widgets/controls",
      "model_module_version": "1.5.0",
      "model_name": "HTMLModel",
      "state": {
       "_dom_classes": [],
       "_model_module": "@jupyter-widgets/controls",
       "_model_module_version": "1.5.0",
       "_model_name": "HTMLModel",
       "_view_count": null,
       "_view_module": "@jupyter-widgets/controls",
       "_view_module_version": "1.5.0",
       "_view_name": "HTMLView",
       "description": "",
       "description_tooltip": null,
       "layout": "IPY_MODEL_dd92e5eead4541a6b6db086a136ff953",
       "placeholder": "​",
       "style": "IPY_MODEL_a27492187a4b45e5a1541fd4d4c51f3d",
       "value": " 12413/12413 [14:48&lt;00:00, 13.98it/s, disc_loss=0.000475, gen_adv_loss=1, gen_pixel_loss=0.19]"
      }
     },
     "3e6412b4b1b045d7a77390505165be98": {
      "model_module": "@jupyter-widgets/controls",
      "model_module_version": "1.5.0",
      "model_name": "FloatProgressModel",
      "state": {
       "_dom_classes": [],
       "_model_module": "@jupyter-widgets/controls",
       "_model_module_version": "1.5.0",
       "_model_name": "FloatProgressModel",
       "_view_count": null,
       "_view_module": "@jupyter-widgets/controls",
       "_view_module_version": "1.5.0",
       "_view_name": "ProgressView",
       "bar_style": "success",
       "description": "Training Epoch 7 : 100%",
       "description_tooltip": null,
       "layout": "IPY_MODEL_98b570a09b1748d9bb484df694b61c6f",
       "max": 12413,
       "min": 0,
       "orientation": "horizontal",
       "style": "IPY_MODEL_2bcd070563a442cd84e085813875d420",
       "value": 12413
      }
     },
     "417784ce838c4d5982b26c02c3895165": {
      "model_module": "@jupyter-widgets/base",
      "model_module_version": "1.2.0",
      "model_name": "LayoutModel",
      "state": {
       "_model_module": "@jupyter-widgets/base",
       "_model_module_version": "1.2.0",
       "_model_name": "LayoutModel",
       "_view_count": null,
       "_view_module": "@jupyter-widgets/base",
       "_view_module_version": "1.2.0",
       "_view_name": "LayoutView",
       "align_content": null,
       "align_items": null,
       "align_self": null,
       "border": null,
       "bottom": null,
       "display": null,
       "flex": null,
       "flex_flow": null,
       "grid_area": null,
       "grid_auto_columns": null,
       "grid_auto_flow": null,
       "grid_auto_rows": null,
       "grid_column": null,
       "grid_gap": null,
       "grid_row": null,
       "grid_template_areas": null,
       "grid_template_columns": null,
       "grid_template_rows": null,
       "height": null,
       "justify_content": null,
       "justify_items": null,
       "left": null,
       "margin": null,
       "max_height": null,
       "max_width": null,
       "min_height": null,
       "min_width": null,
       "object_fit": null,
       "object_position": null,
       "order": null,
       "overflow": null,
       "overflow_x": null,
       "overflow_y": null,
       "padding": null,
       "right": null,
       "top": null,
       "visibility": null,
       "width": null
      }
     },
     "42327ce64cc943e6b062f6752b1cacb0": {
      "model_module": "@jupyter-widgets/controls",
      "model_module_version": "1.5.0",
      "model_name": "ProgressStyleModel",
      "state": {
       "_model_module": "@jupyter-widgets/controls",
       "_model_module_version": "1.5.0",
       "_model_name": "ProgressStyleModel",
       "_view_count": null,
       "_view_module": "@jupyter-widgets/base",
       "_view_module_version": "1.2.0",
       "_view_name": "StyleView",
       "bar_color": null,
       "description_width": "initial"
      }
     },
     "426831be478545abba60efb4e9be2596": {
      "model_module": "@jupyter-widgets/base",
      "model_module_version": "1.2.0",
      "model_name": "LayoutModel",
      "state": {
       "_model_module": "@jupyter-widgets/base",
       "_model_module_version": "1.2.0",
       "_model_name": "LayoutModel",
       "_view_count": null,
       "_view_module": "@jupyter-widgets/base",
       "_view_module_version": "1.2.0",
       "_view_name": "LayoutView",
       "align_content": null,
       "align_items": null,
       "align_self": null,
       "border": null,
       "bottom": null,
       "display": null,
       "flex": null,
       "flex_flow": null,
       "grid_area": null,
       "grid_auto_columns": null,
       "grid_auto_flow": null,
       "grid_auto_rows": null,
       "grid_column": null,
       "grid_gap": null,
       "grid_row": null,
       "grid_template_areas": null,
       "grid_template_columns": null,
       "grid_template_rows": null,
       "height": null,
       "justify_content": null,
       "justify_items": null,
       "left": null,
       "margin": null,
       "max_height": null,
       "max_width": null,
       "min_height": null,
       "min_width": null,
       "object_fit": null,
       "object_position": null,
       "order": null,
       "overflow": null,
       "overflow_x": null,
       "overflow_y": null,
       "padding": null,
       "right": null,
       "top": null,
       "visibility": null,
       "width": null
      }
     },
     "43ec3bf4a6834d71999068c52dc943be": {
      "model_module": "@jupyter-widgets/controls",
      "model_module_version": "1.5.0",
      "model_name": "DescriptionStyleModel",
      "state": {
       "_model_module": "@jupyter-widgets/controls",
       "_model_module_version": "1.5.0",
       "_model_name": "DescriptionStyleModel",
       "_view_count": null,
       "_view_module": "@jupyter-widgets/base",
       "_view_module_version": "1.2.0",
       "_view_name": "StyleView",
       "description_width": ""
      }
     },
     "451461611a414b56a311ba54a01af387": {
      "model_module": "@jupyter-widgets/base",
      "model_module_version": "1.2.0",
      "model_name": "LayoutModel",
      "state": {
       "_model_module": "@jupyter-widgets/base",
       "_model_module_version": "1.2.0",
       "_model_name": "LayoutModel",
       "_view_count": null,
       "_view_module": "@jupyter-widgets/base",
       "_view_module_version": "1.2.0",
       "_view_name": "LayoutView",
       "align_content": null,
       "align_items": null,
       "align_self": null,
       "border": null,
       "bottom": null,
       "display": null,
       "flex": null,
       "flex_flow": null,
       "grid_area": null,
       "grid_auto_columns": null,
       "grid_auto_flow": null,
       "grid_auto_rows": null,
       "grid_column": null,
       "grid_gap": null,
       "grid_row": null,
       "grid_template_areas": null,
       "grid_template_columns": null,
       "grid_template_rows": null,
       "height": null,
       "justify_content": null,
       "justify_items": null,
       "left": null,
       "margin": null,
       "max_height": null,
       "max_width": null,
       "min_height": null,
       "min_width": null,
       "object_fit": null,
       "object_position": null,
       "order": null,
       "overflow": null,
       "overflow_x": null,
       "overflow_y": null,
       "padding": null,
       "right": null,
       "top": null,
       "visibility": null,
       "width": null
      }
     },
     "467aa6192feb4c04a4f5f1b55543266b": {
      "model_module": "@jupyter-widgets/controls",
      "model_module_version": "1.5.0",
      "model_name": "ProgressStyleModel",
      "state": {
       "_model_module": "@jupyter-widgets/controls",
       "_model_module_version": "1.5.0",
       "_model_name": "ProgressStyleModel",
       "_view_count": null,
       "_view_module": "@jupyter-widgets/base",
       "_view_module_version": "1.2.0",
       "_view_name": "StyleView",
       "bar_color": null,
       "description_width": "initial"
      }
     },
     "47b98e6ea77a466d8bd53a033f37bbc2": {
      "model_module": "@jupyter-widgets/controls",
      "model_module_version": "1.5.0",
      "model_name": "HBoxModel",
      "state": {
       "_dom_classes": [],
       "_model_module": "@jupyter-widgets/controls",
       "_model_module_version": "1.5.0",
       "_model_name": "HBoxModel",
       "_view_count": null,
       "_view_module": "@jupyter-widgets/controls",
       "_view_module_version": "1.5.0",
       "_view_name": "HBoxView",
       "box_style": "",
       "children": [
        "IPY_MODEL_4b0798da5d0a46adbb6e3680b5ea67ba",
        "IPY_MODEL_3786fc05ea69466e96f2ed322e1772f2"
       ],
       "layout": "IPY_MODEL_1bed3edc27f94872ac2af994921e061d"
      }
     },
     "47be7545056f480e87b92b15ba338fe3": {
      "model_module": "@jupyter-widgets/controls",
      "model_module_version": "1.5.0",
      "model_name": "FloatProgressModel",
      "state": {
       "_dom_classes": [],
       "_model_module": "@jupyter-widgets/controls",
       "_model_module_version": "1.5.0",
       "_model_name": "FloatProgressModel",
       "_view_count": null,
       "_view_module": "@jupyter-widgets/controls",
       "_view_module_version": "1.5.0",
       "_view_name": "ProgressView",
       "bar_style": "success",
       "description": "Training Epoch 11 : 100%",
       "description_tooltip": null,
       "layout": "IPY_MODEL_75c317d5e11543bcb981b455b72fc10f",
       "max": 12413,
       "min": 0,
       "orientation": "horizontal",
       "style": "IPY_MODEL_ac20f3b9e598422283c28a3a54c8dc52",
       "value": 12413
      }
     },
     "4a76d211b3c8411b9d714947348e54da": {
      "model_module": "@jupyter-widgets/controls",
      "model_module_version": "1.5.0",
      "model_name": "HTMLModel",
      "state": {
       "_dom_classes": [],
       "_model_module": "@jupyter-widgets/controls",
       "_model_module_version": "1.5.0",
       "_model_name": "HTMLModel",
       "_view_count": null,
       "_view_module": "@jupyter-widgets/controls",
       "_view_module_version": "1.5.0",
       "_view_name": "HTMLView",
       "description": "",
       "description_tooltip": null,
       "layout": "IPY_MODEL_365e64caee3b484b8da49bf16e79cdfa",
       "placeholder": "​",
       "style": "IPY_MODEL_6279d209106b44f58699405e48ba42b1",
       "value": " 12413/12413 [44:30&lt;00:00,  4.65it/s, disc_loss=0.000332, gen_adv_loss=1, gen_pixel_loss=0.177]"
      }
     },
     "4b0798da5d0a46adbb6e3680b5ea67ba": {
      "model_module": "@jupyter-widgets/controls",
      "model_module_version": "1.5.0",
      "model_name": "FloatProgressModel",
      "state": {
       "_dom_classes": [],
       "_model_module": "@jupyter-widgets/controls",
       "_model_module_version": "1.5.0",
       "_model_name": "FloatProgressModel",
       "_view_count": null,
       "_view_module": "@jupyter-widgets/controls",
       "_view_module_version": "1.5.0",
       "_view_name": "ProgressView",
       "bar_style": "success",
       "description": "Training Epoch 1 : 100%",
       "description_tooltip": null,
       "layout": "IPY_MODEL_f4987202beca474bbe01599ecfff1ae5",
       "max": 12413,
       "min": 0,
       "orientation": "horizontal",
       "style": "IPY_MODEL_8bfe159e4e6345fc89baa72958a3d471",
       "value": 12413
      }
     },
     "4d5756fac4834faf80b7e3ccd3bc5439": {
      "model_module": "@jupyter-widgets/controls",
      "model_module_version": "1.5.0",
      "model_name": "FloatProgressModel",
      "state": {
       "_dom_classes": [],
       "_model_module": "@jupyter-widgets/controls",
       "_model_module_version": "1.5.0",
       "_model_name": "FloatProgressModel",
       "_view_count": null,
       "_view_module": "@jupyter-widgets/controls",
       "_view_module_version": "1.5.0",
       "_view_name": "ProgressView",
       "bar_style": "success",
       "description": "Training Epoch 3 : 100%",
       "description_tooltip": null,
       "layout": "IPY_MODEL_67af961794054884b9cb66124ff6f84f",
       "max": 12413,
       "min": 0,
       "orientation": "horizontal",
       "style": "IPY_MODEL_c23ff83cbd68410082d97571c349ca14",
       "value": 12413
      }
     },
     "53040824be114a0b853617a3d1484147": {
      "model_module": "@jupyter-widgets/base",
      "model_module_version": "1.2.0",
      "model_name": "LayoutModel",
      "state": {
       "_model_module": "@jupyter-widgets/base",
       "_model_module_version": "1.2.0",
       "_model_name": "LayoutModel",
       "_view_count": null,
       "_view_module": "@jupyter-widgets/base",
       "_view_module_version": "1.2.0",
       "_view_name": "LayoutView",
       "align_content": null,
       "align_items": null,
       "align_self": null,
       "border": null,
       "bottom": null,
       "display": null,
       "flex": null,
       "flex_flow": null,
       "grid_area": null,
       "grid_auto_columns": null,
       "grid_auto_flow": null,
       "grid_auto_rows": null,
       "grid_column": null,
       "grid_gap": null,
       "grid_row": null,
       "grid_template_areas": null,
       "grid_template_columns": null,
       "grid_template_rows": null,
       "height": null,
       "justify_content": null,
       "justify_items": null,
       "left": null,
       "margin": null,
       "max_height": null,
       "max_width": null,
       "min_height": null,
       "min_width": null,
       "object_fit": null,
       "object_position": null,
       "order": null,
       "overflow": null,
       "overflow_x": null,
       "overflow_y": null,
       "padding": null,
       "right": null,
       "top": null,
       "visibility": null,
       "width": null
      }
     },
     "549cf53b37084c05b97bcb325313f6ea": {
      "model_module": "@jupyter-widgets/controls",
      "model_module_version": "1.5.0",
      "model_name": "HTMLModel",
      "state": {
       "_dom_classes": [],
       "_model_module": "@jupyter-widgets/controls",
       "_model_module_version": "1.5.0",
       "_model_name": "HTMLModel",
       "_view_count": null,
       "_view_module": "@jupyter-widgets/controls",
       "_view_module_version": "1.5.0",
       "_view_name": "HTMLView",
       "description": "",
       "description_tooltip": null,
       "layout": "IPY_MODEL_81eb5d87c23c4201a26c549267934c16",
       "placeholder": "​",
       "style": "IPY_MODEL_c48ae1249ea24789b565f83cef0dab4b",
       "value": " 12413/12413 [14:40&lt;00:00, 14.09it/s, disc_loss=0.000683, gen_adv_loss=1, gen_pixel_loss=0.206]"
      }
     },
     "563fba4cb96b4fcf94125fd32a528eae": {
      "model_module": "@jupyter-widgets/controls",
      "model_module_version": "1.5.0",
      "model_name": "HBoxModel",
      "state": {
       "_dom_classes": [],
       "_model_module": "@jupyter-widgets/controls",
       "_model_module_version": "1.5.0",
       "_model_name": "HBoxModel",
       "_view_count": null,
       "_view_module": "@jupyter-widgets/controls",
       "_view_module_version": "1.5.0",
       "_view_name": "HBoxView",
       "box_style": "",
       "children": [
        "IPY_MODEL_9e7ccb76ca2446929521f6059a447282",
        "IPY_MODEL_cba8e8d3c3bc4db2a8b0f30c3146f966"
       ],
       "layout": "IPY_MODEL_11f8f65e3c5345979733785ba118c784"
      }
     },
     "5752323a834e4d8d8feb51a28d774dd6": {
      "model_module": "@jupyter-widgets/controls",
      "model_module_version": "1.5.0",
      "model_name": "DescriptionStyleModel",
      "state": {
       "_model_module": "@jupyter-widgets/controls",
       "_model_module_version": "1.5.0",
       "_model_name": "DescriptionStyleModel",
       "_view_count": null,
       "_view_module": "@jupyter-widgets/base",
       "_view_module_version": "1.2.0",
       "_view_name": "StyleView",
       "description_width": ""
      }
     },
     "57a0ae8e52024e1586fa020e4d8ec24d": {
      "model_module": "@jupyter-widgets/base",
      "model_module_version": "1.2.0",
      "model_name": "LayoutModel",
      "state": {
       "_model_module": "@jupyter-widgets/base",
       "_model_module_version": "1.2.0",
       "_model_name": "LayoutModel",
       "_view_count": null,
       "_view_module": "@jupyter-widgets/base",
       "_view_module_version": "1.2.0",
       "_view_name": "LayoutView",
       "align_content": null,
       "align_items": null,
       "align_self": null,
       "border": null,
       "bottom": null,
       "display": null,
       "flex": null,
       "flex_flow": null,
       "grid_area": null,
       "grid_auto_columns": null,
       "grid_auto_flow": null,
       "grid_auto_rows": null,
       "grid_column": null,
       "grid_gap": null,
       "grid_row": null,
       "grid_template_areas": null,
       "grid_template_columns": null,
       "grid_template_rows": null,
       "height": null,
       "justify_content": null,
       "justify_items": null,
       "left": null,
       "margin": null,
       "max_height": null,
       "max_width": null,
       "min_height": null,
       "min_width": null,
       "object_fit": null,
       "object_position": null,
       "order": null,
       "overflow": null,
       "overflow_x": null,
       "overflow_y": null,
       "padding": null,
       "right": null,
       "top": null,
       "visibility": null,
       "width": null
      }
     },
     "58b30899a2124b678dacb0ad296936f6": {
      "model_module": "@jupyter-widgets/base",
      "model_module_version": "1.2.0",
      "model_name": "LayoutModel",
      "state": {
       "_model_module": "@jupyter-widgets/base",
       "_model_module_version": "1.2.0",
       "_model_name": "LayoutModel",
       "_view_count": null,
       "_view_module": "@jupyter-widgets/base",
       "_view_module_version": "1.2.0",
       "_view_name": "LayoutView",
       "align_content": null,
       "align_items": null,
       "align_self": null,
       "border": null,
       "bottom": null,
       "display": null,
       "flex": null,
       "flex_flow": null,
       "grid_area": null,
       "grid_auto_columns": null,
       "grid_auto_flow": null,
       "grid_auto_rows": null,
       "grid_column": null,
       "grid_gap": null,
       "grid_row": null,
       "grid_template_areas": null,
       "grid_template_columns": null,
       "grid_template_rows": null,
       "height": null,
       "justify_content": null,
       "justify_items": null,
       "left": null,
       "margin": null,
       "max_height": null,
       "max_width": null,
       "min_height": null,
       "min_width": null,
       "object_fit": null,
       "object_position": null,
       "order": null,
       "overflow": null,
       "overflow_x": null,
       "overflow_y": null,
       "padding": null,
       "right": null,
       "top": null,
       "visibility": null,
       "width": null
      }
     },
     "5cc4151d78704699ba062bfb46de43dd": {
      "model_module": "@jupyter-widgets/controls",
      "model_module_version": "1.5.0",
      "model_name": "FloatProgressModel",
      "state": {
       "_dom_classes": [],
       "_model_module": "@jupyter-widgets/controls",
       "_model_module_version": "1.5.0",
       "_model_name": "FloatProgressModel",
       "_view_count": null,
       "_view_module": "@jupyter-widgets/controls",
       "_view_module_version": "1.5.0",
       "_view_name": "ProgressView",
       "bar_style": "success",
       "description": "Training Epoch 8 : 100%",
       "description_tooltip": null,
       "layout": "IPY_MODEL_01956b4361de48008ca628407f4a873b",
       "max": 12413,
       "min": 0,
       "orientation": "horizontal",
       "style": "IPY_MODEL_ae44d07644494d959c0061244e111d91",
       "value": 12413
      }
     },
     "6081b72a1d6343b5b757356293c6d762": {
      "model_module": "@jupyter-widgets/base",
      "model_module_version": "1.2.0",
      "model_name": "LayoutModel",
      "state": {
       "_model_module": "@jupyter-widgets/base",
       "_model_module_version": "1.2.0",
       "_model_name": "LayoutModel",
       "_view_count": null,
       "_view_module": "@jupyter-widgets/base",
       "_view_module_version": "1.2.0",
       "_view_name": "LayoutView",
       "align_content": null,
       "align_items": null,
       "align_self": null,
       "border": null,
       "bottom": null,
       "display": null,
       "flex": null,
       "flex_flow": null,
       "grid_area": null,
       "grid_auto_columns": null,
       "grid_auto_flow": null,
       "grid_auto_rows": null,
       "grid_column": null,
       "grid_gap": null,
       "grid_row": null,
       "grid_template_areas": null,
       "grid_template_columns": null,
       "grid_template_rows": null,
       "height": null,
       "justify_content": null,
       "justify_items": null,
       "left": null,
       "margin": null,
       "max_height": null,
       "max_width": null,
       "min_height": null,
       "min_width": null,
       "object_fit": null,
       "object_position": null,
       "order": null,
       "overflow": null,
       "overflow_x": null,
       "overflow_y": null,
       "padding": null,
       "right": null,
       "top": null,
       "visibility": null,
       "width": null
      }
     },
     "612afd22e35b4195980fe4232182f84b": {
      "model_module": "@jupyter-widgets/controls",
      "model_module_version": "1.5.0",
      "model_name": "HBoxModel",
      "state": {
       "_dom_classes": [],
       "_model_module": "@jupyter-widgets/controls",
       "_model_module_version": "1.5.0",
       "_model_name": "HBoxModel",
       "_view_count": null,
       "_view_module": "@jupyter-widgets/controls",
       "_view_module_version": "1.5.0",
       "_view_name": "HBoxView",
       "box_style": "",
       "children": [
        "IPY_MODEL_e39b81ba015e4f94b4683ec843bfb0de",
        "IPY_MODEL_03c8cff605f24d42aa58cb00dcbe6609"
       ],
       "layout": "IPY_MODEL_0c7e8644ade545d29d1dbc77bf2a8b68"
      }
     },
     "61d06b910f6441c49ce3882652609252": {
      "model_module": "@jupyter-widgets/base",
      "model_module_version": "1.2.0",
      "model_name": "LayoutModel",
      "state": {
       "_model_module": "@jupyter-widgets/base",
       "_model_module_version": "1.2.0",
       "_model_name": "LayoutModel",
       "_view_count": null,
       "_view_module": "@jupyter-widgets/base",
       "_view_module_version": "1.2.0",
       "_view_name": "LayoutView",
       "align_content": null,
       "align_items": null,
       "align_self": null,
       "border": null,
       "bottom": null,
       "display": null,
       "flex": null,
       "flex_flow": null,
       "grid_area": null,
       "grid_auto_columns": null,
       "grid_auto_flow": null,
       "grid_auto_rows": null,
       "grid_column": null,
       "grid_gap": null,
       "grid_row": null,
       "grid_template_areas": null,
       "grid_template_columns": null,
       "grid_template_rows": null,
       "height": null,
       "justify_content": null,
       "justify_items": null,
       "left": null,
       "margin": null,
       "max_height": null,
       "max_width": null,
       "min_height": null,
       "min_width": null,
       "object_fit": null,
       "object_position": null,
       "order": null,
       "overflow": null,
       "overflow_x": null,
       "overflow_y": null,
       "padding": null,
       "right": null,
       "top": null,
       "visibility": null,
       "width": null
      }
     },
     "6279d209106b44f58699405e48ba42b1": {
      "model_module": "@jupyter-widgets/controls",
      "model_module_version": "1.5.0",
      "model_name": "DescriptionStyleModel",
      "state": {
       "_model_module": "@jupyter-widgets/controls",
       "_model_module_version": "1.5.0",
       "_model_name": "DescriptionStyleModel",
       "_view_count": null,
       "_view_module": "@jupyter-widgets/base",
       "_view_module_version": "1.2.0",
       "_view_name": "StyleView",
       "description_width": ""
      }
     },
     "66606e1b23c74dd2a7cf0a6672373036": {
      "model_module": "@jupyter-widgets/controls",
      "model_module_version": "1.5.0",
      "model_name": "DescriptionStyleModel",
      "state": {
       "_model_module": "@jupyter-widgets/controls",
       "_model_module_version": "1.5.0",
       "_model_name": "DescriptionStyleModel",
       "_view_count": null,
       "_view_module": "@jupyter-widgets/base",
       "_view_module_version": "1.2.0",
       "_view_name": "StyleView",
       "description_width": ""
      }
     },
     "66c0f1a4e740442aaca08714fb3992a1": {
      "model_module": "@jupyter-widgets/base",
      "model_module_version": "1.2.0",
      "model_name": "LayoutModel",
      "state": {
       "_model_module": "@jupyter-widgets/base",
       "_model_module_version": "1.2.0",
       "_model_name": "LayoutModel",
       "_view_count": null,
       "_view_module": "@jupyter-widgets/base",
       "_view_module_version": "1.2.0",
       "_view_name": "LayoutView",
       "align_content": null,
       "align_items": null,
       "align_self": null,
       "border": null,
       "bottom": null,
       "display": null,
       "flex": null,
       "flex_flow": null,
       "grid_area": null,
       "grid_auto_columns": null,
       "grid_auto_flow": null,
       "grid_auto_rows": null,
       "grid_column": null,
       "grid_gap": null,
       "grid_row": null,
       "grid_template_areas": null,
       "grid_template_columns": null,
       "grid_template_rows": null,
       "height": null,
       "justify_content": null,
       "justify_items": null,
       "left": null,
       "margin": null,
       "max_height": null,
       "max_width": null,
       "min_height": null,
       "min_width": null,
       "object_fit": null,
       "object_position": null,
       "order": null,
       "overflow": null,
       "overflow_x": null,
       "overflow_y": null,
       "padding": null,
       "right": null,
       "top": null,
       "visibility": null,
       "width": null
      }
     },
     "674e3a9e8b104ef1bd9f3307a9b12270": {
      "model_module": "@jupyter-widgets/controls",
      "model_module_version": "1.5.0",
      "model_name": "FloatProgressModel",
      "state": {
       "_dom_classes": [],
       "_model_module": "@jupyter-widgets/controls",
       "_model_module_version": "1.5.0",
       "_model_name": "FloatProgressModel",
       "_view_count": null,
       "_view_module": "@jupyter-widgets/controls",
       "_view_module_version": "1.5.0",
       "_view_name": "ProgressView",
       "bar_style": "success",
       "description": "Training Epoch 14 : 100%",
       "description_tooltip": null,
       "layout": "IPY_MODEL_57a0ae8e52024e1586fa020e4d8ec24d",
       "max": 12413,
       "min": 0,
       "orientation": "horizontal",
       "style": "IPY_MODEL_c0e181ac8fef42ab831d84eae0980fcc",
       "value": 12413
      }
     },
     "67af961794054884b9cb66124ff6f84f": {
      "model_module": "@jupyter-widgets/base",
      "model_module_version": "1.2.0",
      "model_name": "LayoutModel",
      "state": {
       "_model_module": "@jupyter-widgets/base",
       "_model_module_version": "1.2.0",
       "_model_name": "LayoutModel",
       "_view_count": null,
       "_view_module": "@jupyter-widgets/base",
       "_view_module_version": "1.2.0",
       "_view_name": "LayoutView",
       "align_content": null,
       "align_items": null,
       "align_self": null,
       "border": null,
       "bottom": null,
       "display": null,
       "flex": null,
       "flex_flow": null,
       "grid_area": null,
       "grid_auto_columns": null,
       "grid_auto_flow": null,
       "grid_auto_rows": null,
       "grid_column": null,
       "grid_gap": null,
       "grid_row": null,
       "grid_template_areas": null,
       "grid_template_columns": null,
       "grid_template_rows": null,
       "height": null,
       "justify_content": null,
       "justify_items": null,
       "left": null,
       "margin": null,
       "max_height": null,
       "max_width": null,
       "min_height": null,
       "min_width": null,
       "object_fit": null,
       "object_position": null,
       "order": null,
       "overflow": null,
       "overflow_x": null,
       "overflow_y": null,
       "padding": null,
       "right": null,
       "top": null,
       "visibility": null,
       "width": null
      }
     },
     "6d0de1f3151e4f35b9985194b776a1db": {
      "model_module": "@jupyter-widgets/controls",
      "model_module_version": "1.5.0",
      "model_name": "HBoxModel",
      "state": {
       "_dom_classes": [],
       "_model_module": "@jupyter-widgets/controls",
       "_model_module_version": "1.5.0",
       "_model_name": "HBoxModel",
       "_view_count": null,
       "_view_module": "@jupyter-widgets/controls",
       "_view_module_version": "1.5.0",
       "_view_name": "HBoxView",
       "box_style": "",
       "children": [
        "IPY_MODEL_aa327101d9104b34ab4d553590d859a5",
        "IPY_MODEL_00989e66bca24c3cbee136c0fdace11f"
       ],
       "layout": "IPY_MODEL_66c0f1a4e740442aaca08714fb3992a1"
      }
     },
     "6dae5d08f8144dedb368329a3e547564": {
      "model_module": "@jupyter-widgets/controls",
      "model_module_version": "1.5.0",
      "model_name": "HTMLModel",
      "state": {
       "_dom_classes": [],
       "_model_module": "@jupyter-widgets/controls",
       "_model_module_version": "1.5.0",
       "_model_name": "HTMLModel",
       "_view_count": null,
       "_view_module": "@jupyter-widgets/controls",
       "_view_module_version": "1.5.0",
       "_view_name": "HTMLView",
       "description": "",
       "description_tooltip": null,
       "layout": "IPY_MODEL_426831be478545abba60efb4e9be2596",
       "placeholder": "​",
       "style": "IPY_MODEL_750a174817f54927963219642891df91",
       "value": " 12413/12413 [1:58:20&lt;00:00,  1.75it/s, disc_loss=0.000404, gen_adv_loss=1, gen_pixel_loss=0.185]"
      }
     },
     "709eeceb4fa04ee0afef4334d93de143": {
      "model_module": "@jupyter-widgets/base",
      "model_module_version": "1.2.0",
      "model_name": "LayoutModel",
      "state": {
       "_model_module": "@jupyter-widgets/base",
       "_model_module_version": "1.2.0",
       "_model_name": "LayoutModel",
       "_view_count": null,
       "_view_module": "@jupyter-widgets/base",
       "_view_module_version": "1.2.0",
       "_view_name": "LayoutView",
       "align_content": null,
       "align_items": null,
       "align_self": null,
       "border": null,
       "bottom": null,
       "display": null,
       "flex": null,
       "flex_flow": null,
       "grid_area": null,
       "grid_auto_columns": null,
       "grid_auto_flow": null,
       "grid_auto_rows": null,
       "grid_column": null,
       "grid_gap": null,
       "grid_row": null,
       "grid_template_areas": null,
       "grid_template_columns": null,
       "grid_template_rows": null,
       "height": null,
       "justify_content": null,
       "justify_items": null,
       "left": null,
       "margin": null,
       "max_height": null,
       "max_width": null,
       "min_height": null,
       "min_width": null,
       "object_fit": null,
       "object_position": null,
       "order": null,
       "overflow": null,
       "overflow_x": null,
       "overflow_y": null,
       "padding": null,
       "right": null,
       "top": null,
       "visibility": null,
       "width": null
      }
     },
     "72ce6813293f4b8dac6aa3bca311eeb4": {
      "model_module": "@jupyter-widgets/controls",
      "model_module_version": "1.5.0",
      "model_name": "ProgressStyleModel",
      "state": {
       "_model_module": "@jupyter-widgets/controls",
       "_model_module_version": "1.5.0",
       "_model_name": "ProgressStyleModel",
       "_view_count": null,
       "_view_module": "@jupyter-widgets/base",
       "_view_module_version": "1.2.0",
       "_view_name": "StyleView",
       "bar_color": null,
       "description_width": "initial"
      }
     },
     "730b4c36a9774e63b5a65fbaa141284f": {
      "model_module": "@jupyter-widgets/controls",
      "model_module_version": "1.5.0",
      "model_name": "FloatProgressModel",
      "state": {
       "_dom_classes": [],
       "_model_module": "@jupyter-widgets/controls",
       "_model_module_version": "1.5.0",
       "_model_name": "FloatProgressModel",
       "_view_count": null,
       "_view_module": "@jupyter-widgets/controls",
       "_view_module_version": "1.5.0",
       "_view_name": "ProgressView",
       "bar_style": "success",
       "description": "Training Epoch 12 : 100%",
       "description_tooltip": null,
       "layout": "IPY_MODEL_1ca58db872384c3192e6c414438abc4f",
       "max": 12413,
       "min": 0,
       "orientation": "horizontal",
       "style": "IPY_MODEL_f838d057f9fa42bdac39a3b33aa352f2",
       "value": 12413
      }
     },
     "733907269b304ef9be66f44721f0f508": {
      "model_module": "@jupyter-widgets/base",
      "model_module_version": "1.2.0",
      "model_name": "LayoutModel",
      "state": {
       "_model_module": "@jupyter-widgets/base",
       "_model_module_version": "1.2.0",
       "_model_name": "LayoutModel",
       "_view_count": null,
       "_view_module": "@jupyter-widgets/base",
       "_view_module_version": "1.2.0",
       "_view_name": "LayoutView",
       "align_content": null,
       "align_items": null,
       "align_self": null,
       "border": null,
       "bottom": null,
       "display": null,
       "flex": null,
       "flex_flow": null,
       "grid_area": null,
       "grid_auto_columns": null,
       "grid_auto_flow": null,
       "grid_auto_rows": null,
       "grid_column": null,
       "grid_gap": null,
       "grid_row": null,
       "grid_template_areas": null,
       "grid_template_columns": null,
       "grid_template_rows": null,
       "height": null,
       "justify_content": null,
       "justify_items": null,
       "left": null,
       "margin": null,
       "max_height": null,
       "max_width": null,
       "min_height": null,
       "min_width": null,
       "object_fit": null,
       "object_position": null,
       "order": null,
       "overflow": null,
       "overflow_x": null,
       "overflow_y": null,
       "padding": null,
       "right": null,
       "top": null,
       "visibility": null,
       "width": null
      }
     },
     "750a174817f54927963219642891df91": {
      "model_module": "@jupyter-widgets/controls",
      "model_module_version": "1.5.0",
      "model_name": "DescriptionStyleModel",
      "state": {
       "_model_module": "@jupyter-widgets/controls",
       "_model_module_version": "1.5.0",
       "_model_name": "DescriptionStyleModel",
       "_view_count": null,
       "_view_module": "@jupyter-widgets/base",
       "_view_module_version": "1.2.0",
       "_view_name": "StyleView",
       "description_width": ""
      }
     },
     "75a2a9aca23c4113bd3a6c30790253d2": {
      "model_module": "@jupyter-widgets/base",
      "model_module_version": "1.2.0",
      "model_name": "LayoutModel",
      "state": {
       "_model_module": "@jupyter-widgets/base",
       "_model_module_version": "1.2.0",
       "_model_name": "LayoutModel",
       "_view_count": null,
       "_view_module": "@jupyter-widgets/base",
       "_view_module_version": "1.2.0",
       "_view_name": "LayoutView",
       "align_content": null,
       "align_items": null,
       "align_self": null,
       "border": null,
       "bottom": null,
       "display": null,
       "flex": null,
       "flex_flow": null,
       "grid_area": null,
       "grid_auto_columns": null,
       "grid_auto_flow": null,
       "grid_auto_rows": null,
       "grid_column": null,
       "grid_gap": null,
       "grid_row": null,
       "grid_template_areas": null,
       "grid_template_columns": null,
       "grid_template_rows": null,
       "height": null,
       "justify_content": null,
       "justify_items": null,
       "left": null,
       "margin": null,
       "max_height": null,
       "max_width": null,
       "min_height": null,
       "min_width": null,
       "object_fit": null,
       "object_position": null,
       "order": null,
       "overflow": null,
       "overflow_x": null,
       "overflow_y": null,
       "padding": null,
       "right": null,
       "top": null,
       "visibility": null,
       "width": null
      }
     },
     "75c317d5e11543bcb981b455b72fc10f": {
      "model_module": "@jupyter-widgets/base",
      "model_module_version": "1.2.0",
      "model_name": "LayoutModel",
      "state": {
       "_model_module": "@jupyter-widgets/base",
       "_model_module_version": "1.2.0",
       "_model_name": "LayoutModel",
       "_view_count": null,
       "_view_module": "@jupyter-widgets/base",
       "_view_module_version": "1.2.0",
       "_view_name": "LayoutView",
       "align_content": null,
       "align_items": null,
       "align_self": null,
       "border": null,
       "bottom": null,
       "display": null,
       "flex": null,
       "flex_flow": null,
       "grid_area": null,
       "grid_auto_columns": null,
       "grid_auto_flow": null,
       "grid_auto_rows": null,
       "grid_column": null,
       "grid_gap": null,
       "grid_row": null,
       "grid_template_areas": null,
       "grid_template_columns": null,
       "grid_template_rows": null,
       "height": null,
       "justify_content": null,
       "justify_items": null,
       "left": null,
       "margin": null,
       "max_height": null,
       "max_width": null,
       "min_height": null,
       "min_width": null,
       "object_fit": null,
       "object_position": null,
       "order": null,
       "overflow": null,
       "overflow_x": null,
       "overflow_y": null,
       "padding": null,
       "right": null,
       "top": null,
       "visibility": null,
       "width": null
      }
     },
     "78628863610040caad18b1d12c4db55c": {
      "model_module": "@jupyter-widgets/controls",
      "model_module_version": "1.5.0",
      "model_name": "FloatProgressModel",
      "state": {
       "_dom_classes": [],
       "_model_module": "@jupyter-widgets/controls",
       "_model_module_version": "1.5.0",
       "_model_name": "FloatProgressModel",
       "_view_count": null,
       "_view_module": "@jupyter-widgets/controls",
       "_view_module_version": "1.5.0",
       "_view_name": "ProgressView",
       "bar_style": "success",
       "description": "Training Epoch 2 : 100%",
       "description_tooltip": null,
       "layout": "IPY_MODEL_61d06b910f6441c49ce3882652609252",
       "max": 12413,
       "min": 0,
       "orientation": "horizontal",
       "style": "IPY_MODEL_cba73f22bb304430a83bb32ddf9e9c02",
       "value": 12413
      }
     },
     "7ee1f7aec83b4163b5e1ab9ef49792e4": {
      "model_module": "@jupyter-widgets/controls",
      "model_module_version": "1.5.0",
      "model_name": "HBoxModel",
      "state": {
       "_dom_classes": [],
       "_model_module": "@jupyter-widgets/controls",
       "_model_module_version": "1.5.0",
       "_model_name": "HBoxModel",
       "_view_count": null,
       "_view_module": "@jupyter-widgets/controls",
       "_view_module_version": "1.5.0",
       "_view_name": "HBoxView",
       "box_style": "",
       "children": [
        "IPY_MODEL_730b4c36a9774e63b5a65fbaa141284f",
        "IPY_MODEL_4a76d211b3c8411b9d714947348e54da"
       ],
       "layout": "IPY_MODEL_2f4fac61099e4330bda2c0779e4773d6"
      }
     },
     "81eb5d87c23c4201a26c549267934c16": {
      "model_module": "@jupyter-widgets/base",
      "model_module_version": "1.2.0",
      "model_name": "LayoutModel",
      "state": {
       "_model_module": "@jupyter-widgets/base",
       "_model_module_version": "1.2.0",
       "_model_name": "LayoutModel",
       "_view_count": null,
       "_view_module": "@jupyter-widgets/base",
       "_view_module_version": "1.2.0",
       "_view_name": "LayoutView",
       "align_content": null,
       "align_items": null,
       "align_self": null,
       "border": null,
       "bottom": null,
       "display": null,
       "flex": null,
       "flex_flow": null,
       "grid_area": null,
       "grid_auto_columns": null,
       "grid_auto_flow": null,
       "grid_auto_rows": null,
       "grid_column": null,
       "grid_gap": null,
       "grid_row": null,
       "grid_template_areas": null,
       "grid_template_columns": null,
       "grid_template_rows": null,
       "height": null,
       "justify_content": null,
       "justify_items": null,
       "left": null,
       "margin": null,
       "max_height": null,
       "max_width": null,
       "min_height": null,
       "min_width": null,
       "object_fit": null,
       "object_position": null,
       "order": null,
       "overflow": null,
       "overflow_x": null,
       "overflow_y": null,
       "padding": null,
       "right": null,
       "top": null,
       "visibility": null,
       "width": null
      }
     },
     "86b893a5db1846fa88371eefd67545c9": {
      "model_module": "@jupyter-widgets/controls",
      "model_module_version": "1.5.0",
      "model_name": "HTMLModel",
      "state": {
       "_dom_classes": [],
       "_model_module": "@jupyter-widgets/controls",
       "_model_module_version": "1.5.0",
       "_model_name": "HTMLModel",
       "_view_count": null,
       "_view_module": "@jupyter-widgets/controls",
       "_view_module_version": "1.5.0",
       "_view_name": "HTMLView",
       "description": "",
       "description_tooltip": null,
       "layout": "IPY_MODEL_417784ce838c4d5982b26c02c3895165",
       "placeholder": "​",
       "style": "IPY_MODEL_66606e1b23c74dd2a7cf0a6672373036",
       "value": " 12413/12413 [59:01&lt;00:00,  3.50it/s, disc_loss=0.000322, gen_adv_loss=1, gen_pixel_loss=0.178]"
      }
     },
     "88c85a1d239742e9a31535f338842dec": {
      "model_module": "@jupyter-widgets/controls",
      "model_module_version": "1.5.0",
      "model_name": "HBoxModel",
      "state": {
       "_dom_classes": [],
       "_model_module": "@jupyter-widgets/controls",
       "_model_module_version": "1.5.0",
       "_model_name": "HBoxModel",
       "_view_count": null,
       "_view_module": "@jupyter-widgets/controls",
       "_view_module_version": "1.5.0",
       "_view_name": "HBoxView",
       "box_style": "",
       "children": [
        "IPY_MODEL_674e3a9e8b104ef1bd9f3307a9b12270",
        "IPY_MODEL_3b80ce2f62044240bbf0de22610b2177"
       ],
       "layout": "IPY_MODEL_8d6f1beeb4fb4abf82ddd66e6563e006"
      }
     },
     "8bfe159e4e6345fc89baa72958a3d471": {
      "model_module": "@jupyter-widgets/controls",
      "model_module_version": "1.5.0",
      "model_name": "ProgressStyleModel",
      "state": {
       "_model_module": "@jupyter-widgets/controls",
       "_model_module_version": "1.5.0",
       "_model_name": "ProgressStyleModel",
       "_view_count": null,
       "_view_module": "@jupyter-widgets/base",
       "_view_module_version": "1.2.0",
       "_view_name": "StyleView",
       "bar_color": null,
       "description_width": "initial"
      }
     },
     "8d6f1beeb4fb4abf82ddd66e6563e006": {
      "model_module": "@jupyter-widgets/base",
      "model_module_version": "1.2.0",
      "model_name": "LayoutModel",
      "state": {
       "_model_module": "@jupyter-widgets/base",
       "_model_module_version": "1.2.0",
       "_model_name": "LayoutModel",
       "_view_count": null,
       "_view_module": "@jupyter-widgets/base",
       "_view_module_version": "1.2.0",
       "_view_name": "LayoutView",
       "align_content": null,
       "align_items": null,
       "align_self": null,
       "border": null,
       "bottom": null,
       "display": null,
       "flex": null,
       "flex_flow": null,
       "grid_area": null,
       "grid_auto_columns": null,
       "grid_auto_flow": null,
       "grid_auto_rows": null,
       "grid_column": null,
       "grid_gap": null,
       "grid_row": null,
       "grid_template_areas": null,
       "grid_template_columns": null,
       "grid_template_rows": null,
       "height": null,
       "justify_content": null,
       "justify_items": null,
       "left": null,
       "margin": null,
       "max_height": null,
       "max_width": null,
       "min_height": null,
       "min_width": null,
       "object_fit": null,
       "object_position": null,
       "order": null,
       "overflow": null,
       "overflow_x": null,
       "overflow_y": null,
       "padding": null,
       "right": null,
       "top": null,
       "visibility": null,
       "width": null
      }
     },
     "90eadb8e570d4d2bbb3af2b5ee4ff636": {
      "model_module": "@jupyter-widgets/controls",
      "model_module_version": "1.5.0",
      "model_name": "ProgressStyleModel",
      "state": {
       "_model_module": "@jupyter-widgets/controls",
       "_model_module_version": "1.5.0",
       "_model_name": "ProgressStyleModel",
       "_view_count": null,
       "_view_module": "@jupyter-widgets/base",
       "_view_module_version": "1.2.0",
       "_view_name": "StyleView",
       "bar_color": null,
       "description_width": "initial"
      }
     },
     "91293c0c3c374ee0b2250d02ee2487a6": {
      "model_module": "@jupyter-widgets/controls",
      "model_module_version": "1.5.0",
      "model_name": "FloatProgressModel",
      "state": {
       "_dom_classes": [],
       "_model_module": "@jupyter-widgets/controls",
       "_model_module_version": "1.5.0",
       "_model_name": "FloatProgressModel",
       "_view_count": null,
       "_view_module": "@jupyter-widgets/controls",
       "_view_module_version": "1.5.0",
       "_view_name": "ProgressView",
       "bar_style": "success",
       "description": "Training Epoch 9 : 100%",
       "description_tooltip": null,
       "layout": "IPY_MODEL_709eeceb4fa04ee0afef4334d93de143",
       "max": 12413,
       "min": 0,
       "orientation": "horizontal",
       "style": "IPY_MODEL_72ce6813293f4b8dac6aa3bca311eeb4",
       "value": 12413
      }
     },
     "92a4a6e35b354c31bf7e9a5285e9a0d0": {
      "model_module": "@jupyter-widgets/controls",
      "model_module_version": "1.5.0",
      "model_name": "DescriptionStyleModel",
      "state": {
       "_model_module": "@jupyter-widgets/controls",
       "_model_module_version": "1.5.0",
       "_model_name": "DescriptionStyleModel",
       "_view_count": null,
       "_view_module": "@jupyter-widgets/base",
       "_view_module_version": "1.2.0",
       "_view_name": "StyleView",
       "description_width": ""
      }
     },
     "93acf60ab647471084aa2b564db46a66": {
      "model_module": "@jupyter-widgets/controls",
      "model_module_version": "1.5.0",
      "model_name": "HBoxModel",
      "state": {
       "_dom_classes": [],
       "_model_module": "@jupyter-widgets/controls",
       "_model_module_version": "1.5.0",
       "_model_name": "HBoxModel",
       "_view_count": null,
       "_view_module": "@jupyter-widgets/controls",
       "_view_module_version": "1.5.0",
       "_view_name": "HBoxView",
       "box_style": "",
       "children": [
        "IPY_MODEL_91293c0c3c374ee0b2250d02ee2487a6",
        "IPY_MODEL_e8ba6a0c681546888dafe14ed2fa8d78"
       ],
       "layout": "IPY_MODEL_733907269b304ef9be66f44721f0f508"
      }
     },
     "98b570a09b1748d9bb484df694b61c6f": {
      "model_module": "@jupyter-widgets/base",
      "model_module_version": "1.2.0",
      "model_name": "LayoutModel",
      "state": {
       "_model_module": "@jupyter-widgets/base",
       "_model_module_version": "1.2.0",
       "_model_name": "LayoutModel",
       "_view_count": null,
       "_view_module": "@jupyter-widgets/base",
       "_view_module_version": "1.2.0",
       "_view_name": "LayoutView",
       "align_content": null,
       "align_items": null,
       "align_self": null,
       "border": null,
       "bottom": null,
       "display": null,
       "flex": null,
       "flex_flow": null,
       "grid_area": null,
       "grid_auto_columns": null,
       "grid_auto_flow": null,
       "grid_auto_rows": null,
       "grid_column": null,
       "grid_gap": null,
       "grid_row": null,
       "grid_template_areas": null,
       "grid_template_columns": null,
       "grid_template_rows": null,
       "height": null,
       "justify_content": null,
       "justify_items": null,
       "left": null,
       "margin": null,
       "max_height": null,
       "max_width": null,
       "min_height": null,
       "min_width": null,
       "object_fit": null,
       "object_position": null,
       "order": null,
       "overflow": null,
       "overflow_x": null,
       "overflow_y": null,
       "padding": null,
       "right": null,
       "top": null,
       "visibility": null,
       "width": null
      }
     },
     "99bd97747cef45228363564e7011a84b": {
      "model_module": "@jupyter-widgets/base",
      "model_module_version": "1.2.0",
      "model_name": "LayoutModel",
      "state": {
       "_model_module": "@jupyter-widgets/base",
       "_model_module_version": "1.2.0",
       "_model_name": "LayoutModel",
       "_view_count": null,
       "_view_module": "@jupyter-widgets/base",
       "_view_module_version": "1.2.0",
       "_view_name": "LayoutView",
       "align_content": null,
       "align_items": null,
       "align_self": null,
       "border": null,
       "bottom": null,
       "display": null,
       "flex": null,
       "flex_flow": null,
       "grid_area": null,
       "grid_auto_columns": null,
       "grid_auto_flow": null,
       "grid_auto_rows": null,
       "grid_column": null,
       "grid_gap": null,
       "grid_row": null,
       "grid_template_areas": null,
       "grid_template_columns": null,
       "grid_template_rows": null,
       "height": null,
       "justify_content": null,
       "justify_items": null,
       "left": null,
       "margin": null,
       "max_height": null,
       "max_width": null,
       "min_height": null,
       "min_width": null,
       "object_fit": null,
       "object_position": null,
       "order": null,
       "overflow": null,
       "overflow_x": null,
       "overflow_y": null,
       "padding": null,
       "right": null,
       "top": null,
       "visibility": null,
       "width": null
      }
     },
     "9e7ccb76ca2446929521f6059a447282": {
      "model_module": "@jupyter-widgets/controls",
      "model_module_version": "1.5.0",
      "model_name": "FloatProgressModel",
      "state": {
       "_dom_classes": [],
       "_model_module": "@jupyter-widgets/controls",
       "_model_module_version": "1.5.0",
       "_model_name": "FloatProgressModel",
       "_view_count": null,
       "_view_module": "@jupyter-widgets/controls",
       "_view_module_version": "1.5.0",
       "_view_name": "ProgressView",
       "bar_style": "success",
       "description": "Training Epoch 10 : 100%",
       "description_tooltip": null,
       "layout": "IPY_MODEL_ae57761745dd4a6f95340cec8c0efbd1",
       "max": 12413,
       "min": 0,
       "orientation": "horizontal",
       "style": "IPY_MODEL_467aa6192feb4c04a4f5f1b55543266b",
       "value": 12413
      }
     },
     "a27492187a4b45e5a1541fd4d4c51f3d": {
      "model_module": "@jupyter-widgets/controls",
      "model_module_version": "1.5.0",
      "model_name": "DescriptionStyleModel",
      "state": {
       "_model_module": "@jupyter-widgets/controls",
       "_model_module_version": "1.5.0",
       "_model_name": "DescriptionStyleModel",
       "_view_count": null,
       "_view_module": "@jupyter-widgets/base",
       "_view_module_version": "1.2.0",
       "_view_name": "StyleView",
       "description_width": ""
      }
     },
     "a79a4c264a11461fa522d06fcb662a49": {
      "model_module": "@jupyter-widgets/controls",
      "model_module_version": "1.5.0",
      "model_name": "HTMLModel",
      "state": {
       "_dom_classes": [],
       "_model_module": "@jupyter-widgets/controls",
       "_model_module_version": "1.5.0",
       "_model_name": "HTMLModel",
       "_view_count": null,
       "_view_module": "@jupyter-widgets/controls",
       "_view_module_version": "1.5.0",
       "_view_name": "HTMLView",
       "description": "",
       "description_tooltip": null,
       "layout": "IPY_MODEL_99bd97747cef45228363564e7011a84b",
       "placeholder": "​",
       "style": "IPY_MODEL_5752323a834e4d8d8feb51a28d774dd6",
       "value": " 12413/12413 [2:42:42&lt;00:00,  1.27it/s, disc_loss=0.000523, gen_adv_loss=1, gen_pixel_loss=0.194]"
      }
     },
     "a7e49ef020c047e098a55fb6edc5a5e9": {
      "model_module": "@jupyter-widgets/controls",
      "model_module_version": "1.5.0",
      "model_name": "ProgressStyleModel",
      "state": {
       "_model_module": "@jupyter-widgets/controls",
       "_model_module_version": "1.5.0",
       "_model_name": "ProgressStyleModel",
       "_view_count": null,
       "_view_module": "@jupyter-widgets/base",
       "_view_module_version": "1.2.0",
       "_view_name": "StyleView",
       "bar_color": null,
       "description_width": "initial"
      }
     },
     "a8c1489ab3aa45e0b77edb2c9302b4b4": {
      "model_module": "@jupyter-widgets/controls",
      "model_module_version": "1.5.0",
      "model_name": "DescriptionStyleModel",
      "state": {
       "_model_module": "@jupyter-widgets/controls",
       "_model_module_version": "1.5.0",
       "_model_name": "DescriptionStyleModel",
       "_view_count": null,
       "_view_module": "@jupyter-widgets/base",
       "_view_module_version": "1.2.0",
       "_view_name": "StyleView",
       "description_width": ""
      }
     },
     "a9a178bca62f45c3bf8e0d2b06efd048": {
      "model_module": "@jupyter-widgets/controls",
      "model_module_version": "1.5.0",
      "model_name": "HBoxModel",
      "state": {
       "_dom_classes": [],
       "_model_module": "@jupyter-widgets/controls",
       "_model_module_version": "1.5.0",
       "_model_name": "HBoxModel",
       "_view_count": null,
       "_view_module": "@jupyter-widgets/controls",
       "_view_module_version": "1.5.0",
       "_view_name": "HBoxView",
       "box_style": "",
       "children": [
        "IPY_MODEL_4d5756fac4834faf80b7e3ccd3bc5439",
        "IPY_MODEL_b5734ae185c4473aa651e60d054c556c"
       ],
       "layout": "IPY_MODEL_6081b72a1d6343b5b757356293c6d762"
      }
     },
     "aa1def3106c6491ea10c9f9c8ac038c0": {
      "model_module": "@jupyter-widgets/controls",
      "model_module_version": "1.5.0",
      "model_name": "HBoxModel",
      "state": {
       "_dom_classes": [],
       "_model_module": "@jupyter-widgets/controls",
       "_model_module_version": "1.5.0",
       "_model_name": "HBoxModel",
       "_view_count": null,
       "_view_module": "@jupyter-widgets/controls",
       "_view_module_version": "1.5.0",
       "_view_name": "HBoxView",
       "box_style": "",
       "children": [
        "IPY_MODEL_3e6412b4b1b045d7a77390505165be98",
        "IPY_MODEL_6dae5d08f8144dedb368329a3e547564"
       ],
       "layout": "IPY_MODEL_e43d41ba66104f40b74491048155a370"
      }
     },
     "aa327101d9104b34ab4d553590d859a5": {
      "model_module": "@jupyter-widgets/controls",
      "model_module_version": "1.5.0",
      "model_name": "FloatProgressModel",
      "state": {
       "_dom_classes": [],
       "_model_module": "@jupyter-widgets/controls",
       "_model_module_version": "1.5.0",
       "_model_name": "FloatProgressModel",
       "_view_count": null,
       "_view_module": "@jupyter-widgets/controls",
       "_view_module_version": "1.5.0",
       "_view_name": "ProgressView",
       "bar_style": "success",
       "description": "Training Epoch 0 : 100%",
       "description_tooltip": null,
       "layout": "IPY_MODEL_b3e0a03dfe284ae0a018511adf8a56cb",
       "max": 12413,
       "min": 0,
       "orientation": "horizontal",
       "style": "IPY_MODEL_42327ce64cc943e6b062f6752b1cacb0",
       "value": 12413
      }
     },
     "ac20f3b9e598422283c28a3a54c8dc52": {
      "model_module": "@jupyter-widgets/controls",
      "model_module_version": "1.5.0",
      "model_name": "ProgressStyleModel",
      "state": {
       "_model_module": "@jupyter-widgets/controls",
       "_model_module_version": "1.5.0",
       "_model_name": "ProgressStyleModel",
       "_view_count": null,
       "_view_module": "@jupyter-widgets/base",
       "_view_module_version": "1.2.0",
       "_view_name": "StyleView",
       "bar_color": null,
       "description_width": "initial"
      }
     },
     "acb0c6bc4e2042e2abb4749365a9a4c6": {
      "model_module": "@jupyter-widgets/base",
      "model_module_version": "1.2.0",
      "model_name": "LayoutModel",
      "state": {
       "_model_module": "@jupyter-widgets/base",
       "_model_module_version": "1.2.0",
       "_model_name": "LayoutModel",
       "_view_count": null,
       "_view_module": "@jupyter-widgets/base",
       "_view_module_version": "1.2.0",
       "_view_name": "LayoutView",
       "align_content": null,
       "align_items": null,
       "align_self": null,
       "border": null,
       "bottom": null,
       "display": null,
       "flex": null,
       "flex_flow": null,
       "grid_area": null,
       "grid_auto_columns": null,
       "grid_auto_flow": null,
       "grid_auto_rows": null,
       "grid_column": null,
       "grid_gap": null,
       "grid_row": null,
       "grid_template_areas": null,
       "grid_template_columns": null,
       "grid_template_rows": null,
       "height": null,
       "justify_content": null,
       "justify_items": null,
       "left": null,
       "margin": null,
       "max_height": null,
       "max_width": null,
       "min_height": null,
       "min_width": null,
       "object_fit": null,
       "object_position": null,
       "order": null,
       "overflow": null,
       "overflow_x": null,
       "overflow_y": null,
       "padding": null,
       "right": null,
       "top": null,
       "visibility": null,
       "width": null
      }
     },
     "ad74d46440564f5db2bececf14288290": {
      "model_module": "@jupyter-widgets/base",
      "model_module_version": "1.2.0",
      "model_name": "LayoutModel",
      "state": {
       "_model_module": "@jupyter-widgets/base",
       "_model_module_version": "1.2.0",
       "_model_name": "LayoutModel",
       "_view_count": null,
       "_view_module": "@jupyter-widgets/base",
       "_view_module_version": "1.2.0",
       "_view_name": "LayoutView",
       "align_content": null,
       "align_items": null,
       "align_self": null,
       "border": null,
       "bottom": null,
       "display": null,
       "flex": null,
       "flex_flow": null,
       "grid_area": null,
       "grid_auto_columns": null,
       "grid_auto_flow": null,
       "grid_auto_rows": null,
       "grid_column": null,
       "grid_gap": null,
       "grid_row": null,
       "grid_template_areas": null,
       "grid_template_columns": null,
       "grid_template_rows": null,
       "height": null,
       "justify_content": null,
       "justify_items": null,
       "left": null,
       "margin": null,
       "max_height": null,
       "max_width": null,
       "min_height": null,
       "min_width": null,
       "object_fit": null,
       "object_position": null,
       "order": null,
       "overflow": null,
       "overflow_x": null,
       "overflow_y": null,
       "padding": null,
       "right": null,
       "top": null,
       "visibility": null,
       "width": null
      }
     },
     "ae44d07644494d959c0061244e111d91": {
      "model_module": "@jupyter-widgets/controls",
      "model_module_version": "1.5.0",
      "model_name": "ProgressStyleModel",
      "state": {
       "_model_module": "@jupyter-widgets/controls",
       "_model_module_version": "1.5.0",
       "_model_name": "ProgressStyleModel",
       "_view_count": null,
       "_view_module": "@jupyter-widgets/base",
       "_view_module_version": "1.2.0",
       "_view_name": "StyleView",
       "bar_color": null,
       "description_width": "initial"
      }
     },
     "ae57761745dd4a6f95340cec8c0efbd1": {
      "model_module": "@jupyter-widgets/base",
      "model_module_version": "1.2.0",
      "model_name": "LayoutModel",
      "state": {
       "_model_module": "@jupyter-widgets/base",
       "_model_module_version": "1.2.0",
       "_model_name": "LayoutModel",
       "_view_count": null,
       "_view_module": "@jupyter-widgets/base",
       "_view_module_version": "1.2.0",
       "_view_name": "LayoutView",
       "align_content": null,
       "align_items": null,
       "align_self": null,
       "border": null,
       "bottom": null,
       "display": null,
       "flex": null,
       "flex_flow": null,
       "grid_area": null,
       "grid_auto_columns": null,
       "grid_auto_flow": null,
       "grid_auto_rows": null,
       "grid_column": null,
       "grid_gap": null,
       "grid_row": null,
       "grid_template_areas": null,
       "grid_template_columns": null,
       "grid_template_rows": null,
       "height": null,
       "justify_content": null,
       "justify_items": null,
       "left": null,
       "margin": null,
       "max_height": null,
       "max_width": null,
       "min_height": null,
       "min_width": null,
       "object_fit": null,
       "object_position": null,
       "order": null,
       "overflow": null,
       "overflow_x": null,
       "overflow_y": null,
       "padding": null,
       "right": null,
       "top": null,
       "visibility": null,
       "width": null
      }
     },
     "af5f0d71a7eb47aa8ca79f8b6ca50493": {
      "model_module": "@jupyter-widgets/controls",
      "model_module_version": "1.5.0",
      "model_name": "DescriptionStyleModel",
      "state": {
       "_model_module": "@jupyter-widgets/controls",
       "_model_module_version": "1.5.0",
       "_model_name": "DescriptionStyleModel",
       "_view_count": null,
       "_view_module": "@jupyter-widgets/base",
       "_view_module_version": "1.2.0",
       "_view_name": "StyleView",
       "description_width": ""
      }
     },
     "b3e0a03dfe284ae0a018511adf8a56cb": {
      "model_module": "@jupyter-widgets/base",
      "model_module_version": "1.2.0",
      "model_name": "LayoutModel",
      "state": {
       "_model_module": "@jupyter-widgets/base",
       "_model_module_version": "1.2.0",
       "_model_name": "LayoutModel",
       "_view_count": null,
       "_view_module": "@jupyter-widgets/base",
       "_view_module_version": "1.2.0",
       "_view_name": "LayoutView",
       "align_content": null,
       "align_items": null,
       "align_self": null,
       "border": null,
       "bottom": null,
       "display": null,
       "flex": null,
       "flex_flow": null,
       "grid_area": null,
       "grid_auto_columns": null,
       "grid_auto_flow": null,
       "grid_auto_rows": null,
       "grid_column": null,
       "grid_gap": null,
       "grid_row": null,
       "grid_template_areas": null,
       "grid_template_columns": null,
       "grid_template_rows": null,
       "height": null,
       "justify_content": null,
       "justify_items": null,
       "left": null,
       "margin": null,
       "max_height": null,
       "max_width": null,
       "min_height": null,
       "min_width": null,
       "object_fit": null,
       "object_position": null,
       "order": null,
       "overflow": null,
       "overflow_x": null,
       "overflow_y": null,
       "padding": null,
       "right": null,
       "top": null,
       "visibility": null,
       "width": null
      }
     },
     "b5734ae185c4473aa651e60d054c556c": {
      "model_module": "@jupyter-widgets/controls",
      "model_module_version": "1.5.0",
      "model_name": "HTMLModel",
      "state": {
       "_dom_classes": [],
       "_model_module": "@jupyter-widgets/controls",
       "_model_module_version": "1.5.0",
       "_model_name": "HTMLModel",
       "_view_count": null,
       "_view_module": "@jupyter-widgets/controls",
       "_view_module_version": "1.5.0",
       "_view_name": "HTMLView",
       "description": "",
       "description_tooltip": null,
       "layout": "IPY_MODEL_0c9bc1275f06448dbb27426e824f756b",
       "placeholder": "​",
       "style": "IPY_MODEL_a8c1489ab3aa45e0b77edb2c9302b4b4",
       "value": " 12413/12413 [2:57:26&lt;00:00,  1.17it/s, disc_loss=0.000547, gen_adv_loss=1, gen_pixel_loss=0.199]"
      }
     },
     "c0e181ac8fef42ab831d84eae0980fcc": {
      "model_module": "@jupyter-widgets/controls",
      "model_module_version": "1.5.0",
      "model_name": "ProgressStyleModel",
      "state": {
       "_model_module": "@jupyter-widgets/controls",
       "_model_module_version": "1.5.0",
       "_model_name": "ProgressStyleModel",
       "_view_count": null,
       "_view_module": "@jupyter-widgets/base",
       "_view_module_version": "1.2.0",
       "_view_name": "StyleView",
       "bar_color": null,
       "description_width": "initial"
      }
     },
     "c18c7bc8f6514e83ab34ab4a5b176011": {
      "model_module": "@jupyter-widgets/base",
      "model_module_version": "1.2.0",
      "model_name": "LayoutModel",
      "state": {
       "_model_module": "@jupyter-widgets/base",
       "_model_module_version": "1.2.0",
       "_model_name": "LayoutModel",
       "_view_count": null,
       "_view_module": "@jupyter-widgets/base",
       "_view_module_version": "1.2.0",
       "_view_name": "LayoutView",
       "align_content": null,
       "align_items": null,
       "align_self": null,
       "border": null,
       "bottom": null,
       "display": null,
       "flex": null,
       "flex_flow": null,
       "grid_area": null,
       "grid_auto_columns": null,
       "grid_auto_flow": null,
       "grid_auto_rows": null,
       "grid_column": null,
       "grid_gap": null,
       "grid_row": null,
       "grid_template_areas": null,
       "grid_template_columns": null,
       "grid_template_rows": null,
       "height": null,
       "justify_content": null,
       "justify_items": null,
       "left": null,
       "margin": null,
       "max_height": null,
       "max_width": null,
       "min_height": null,
       "min_width": null,
       "object_fit": null,
       "object_position": null,
       "order": null,
       "overflow": null,
       "overflow_x": null,
       "overflow_y": null,
       "padding": null,
       "right": null,
       "top": null,
       "visibility": null,
       "width": null
      }
     },
     "c23ff83cbd68410082d97571c349ca14": {
      "model_module": "@jupyter-widgets/controls",
      "model_module_version": "1.5.0",
      "model_name": "ProgressStyleModel",
      "state": {
       "_model_module": "@jupyter-widgets/controls",
       "_model_module_version": "1.5.0",
       "_model_name": "ProgressStyleModel",
       "_view_count": null,
       "_view_module": "@jupyter-widgets/base",
       "_view_module_version": "1.2.0",
       "_view_name": "StyleView",
       "bar_color": null,
       "description_width": "initial"
      }
     },
     "c48ae1249ea24789b565f83cef0dab4b": {
      "model_module": "@jupyter-widgets/controls",
      "model_module_version": "1.5.0",
      "model_name": "DescriptionStyleModel",
      "state": {
       "_model_module": "@jupyter-widgets/controls",
       "_model_module_version": "1.5.0",
       "_model_name": "DescriptionStyleModel",
       "_view_count": null,
       "_view_module": "@jupyter-widgets/base",
       "_view_module_version": "1.2.0",
       "_view_name": "StyleView",
       "description_width": ""
      }
     },
     "c99c2c17e0ea4937ab1220f8623a7bb9": {
      "model_module": "@jupyter-widgets/base",
      "model_module_version": "1.2.0",
      "model_name": "LayoutModel",
      "state": {
       "_model_module": "@jupyter-widgets/base",
       "_model_module_version": "1.2.0",
       "_model_name": "LayoutModel",
       "_view_count": null,
       "_view_module": "@jupyter-widgets/base",
       "_view_module_version": "1.2.0",
       "_view_name": "LayoutView",
       "align_content": null,
       "align_items": null,
       "align_self": null,
       "border": null,
       "bottom": null,
       "display": null,
       "flex": null,
       "flex_flow": null,
       "grid_area": null,
       "grid_auto_columns": null,
       "grid_auto_flow": null,
       "grid_auto_rows": null,
       "grid_column": null,
       "grid_gap": null,
       "grid_row": null,
       "grid_template_areas": null,
       "grid_template_columns": null,
       "grid_template_rows": null,
       "height": null,
       "justify_content": null,
       "justify_items": null,
       "left": null,
       "margin": null,
       "max_height": null,
       "max_width": null,
       "min_height": null,
       "min_width": null,
       "object_fit": null,
       "object_position": null,
       "order": null,
       "overflow": null,
       "overflow_x": null,
       "overflow_y": null,
       "padding": null,
       "right": null,
       "top": null,
       "visibility": null,
       "width": null
      }
     },
     "ca439b16b2da48f8ae30d160447a3e58": {
      "model_module": "@jupyter-widgets/controls",
      "model_module_version": "1.5.0",
      "model_name": "ProgressStyleModel",
      "state": {
       "_model_module": "@jupyter-widgets/controls",
       "_model_module_version": "1.5.0",
       "_model_name": "ProgressStyleModel",
       "_view_count": null,
       "_view_module": "@jupyter-widgets/base",
       "_view_module_version": "1.2.0",
       "_view_name": "StyleView",
       "bar_color": null,
       "description_width": "initial"
      }
     },
     "cba73f22bb304430a83bb32ddf9e9c02": {
      "model_module": "@jupyter-widgets/controls",
      "model_module_version": "1.5.0",
      "model_name": "ProgressStyleModel",
      "state": {
       "_model_module": "@jupyter-widgets/controls",
       "_model_module_version": "1.5.0",
       "_model_name": "ProgressStyleModel",
       "_view_count": null,
       "_view_module": "@jupyter-widgets/base",
       "_view_module_version": "1.2.0",
       "_view_name": "StyleView",
       "bar_color": null,
       "description_width": "initial"
      }
     },
     "cba8e8d3c3bc4db2a8b0f30c3146f966": {
      "model_module": "@jupyter-widgets/controls",
      "model_module_version": "1.5.0",
      "model_name": "HTMLModel",
      "state": {
       "_dom_classes": [],
       "_model_module": "@jupyter-widgets/controls",
       "_model_module_version": "1.5.0",
       "_model_name": "HTMLModel",
       "_view_count": null,
       "_view_module": "@jupyter-widgets/controls",
       "_view_module_version": "1.5.0",
       "_view_name": "HTMLView",
       "description": "",
       "description_tooltip": null,
       "layout": "IPY_MODEL_c99c2c17e0ea4937ab1220f8623a7bb9",
       "placeholder": "​",
       "style": "IPY_MODEL_af5f0d71a7eb47aa8ca79f8b6ca50493",
       "value": " 12413/12413 [14:41&lt;00:00, 14.08it/s, disc_loss=0.000356, gen_adv_loss=1, gen_pixel_loss=0.179]"
      }
     },
     "cef8bb679373451cab4d42dbdeed019e": {
      "model_module": "@jupyter-widgets/controls",
      "model_module_version": "1.5.0",
      "model_name": "HBoxModel",
      "state": {
       "_dom_classes": [],
       "_model_module": "@jupyter-widgets/controls",
       "_model_module_version": "1.5.0",
       "_model_name": "HBoxModel",
       "_view_count": null,
       "_view_module": "@jupyter-widgets/controls",
       "_view_module_version": "1.5.0",
       "_view_name": "HBoxView",
       "box_style": "",
       "children": [
        "IPY_MODEL_5cc4151d78704699ba062bfb46de43dd",
        "IPY_MODEL_09d59b97d9cf4dfc8cbe964c03d9665d"
       ],
       "layout": "IPY_MODEL_dd1b79699f074e5fb9a2ed9eb78f0753"
      }
     },
     "d12e8c10a7f742aca976ca49fecc4300": {
      "model_module": "@jupyter-widgets/controls",
      "model_module_version": "1.5.0",
      "model_name": "HBoxModel",
      "state": {
       "_dom_classes": [],
       "_model_module": "@jupyter-widgets/controls",
       "_model_module_version": "1.5.0",
       "_model_name": "HBoxModel",
       "_view_count": null,
       "_view_module": "@jupyter-widgets/controls",
       "_view_module_version": "1.5.0",
       "_view_name": "HBoxView",
       "box_style": "",
       "children": [
        "IPY_MODEL_47be7545056f480e87b92b15ba338fe3",
        "IPY_MODEL_86b893a5db1846fa88371eefd67545c9"
       ],
       "layout": "IPY_MODEL_58b30899a2124b678dacb0ad296936f6"
      }
     },
     "d357841913d241a491053b156366b62e": {
      "model_module": "@jupyter-widgets/base",
      "model_module_version": "1.2.0",
      "model_name": "LayoutModel",
      "state": {
       "_model_module": "@jupyter-widgets/base",
       "_model_module_version": "1.2.0",
       "_model_name": "LayoutModel",
       "_view_count": null,
       "_view_module": "@jupyter-widgets/base",
       "_view_module_version": "1.2.0",
       "_view_name": "LayoutView",
       "align_content": null,
       "align_items": null,
       "align_self": null,
       "border": null,
       "bottom": null,
       "display": null,
       "flex": null,
       "flex_flow": null,
       "grid_area": null,
       "grid_auto_columns": null,
       "grid_auto_flow": null,
       "grid_auto_rows": null,
       "grid_column": null,
       "grid_gap": null,
       "grid_row": null,
       "grid_template_areas": null,
       "grid_template_columns": null,
       "grid_template_rows": null,
       "height": null,
       "justify_content": null,
       "justify_items": null,
       "left": null,
       "margin": null,
       "max_height": null,
       "max_width": null,
       "min_height": null,
       "min_width": null,
       "object_fit": null,
       "object_position": null,
       "order": null,
       "overflow": null,
       "overflow_x": null,
       "overflow_y": null,
       "padding": null,
       "right": null,
       "top": null,
       "visibility": null,
       "width": null
      }
     },
     "dd1b79699f074e5fb9a2ed9eb78f0753": {
      "model_module": "@jupyter-widgets/base",
      "model_module_version": "1.2.0",
      "model_name": "LayoutModel",
      "state": {
       "_model_module": "@jupyter-widgets/base",
       "_model_module_version": "1.2.0",
       "_model_name": "LayoutModel",
       "_view_count": null,
       "_view_module": "@jupyter-widgets/base",
       "_view_module_version": "1.2.0",
       "_view_name": "LayoutView",
       "align_content": null,
       "align_items": null,
       "align_self": null,
       "border": null,
       "bottom": null,
       "display": null,
       "flex": null,
       "flex_flow": null,
       "grid_area": null,
       "grid_auto_columns": null,
       "grid_auto_flow": null,
       "grid_auto_rows": null,
       "grid_column": null,
       "grid_gap": null,
       "grid_row": null,
       "grid_template_areas": null,
       "grid_template_columns": null,
       "grid_template_rows": null,
       "height": null,
       "justify_content": null,
       "justify_items": null,
       "left": null,
       "margin": null,
       "max_height": null,
       "max_width": null,
       "min_height": null,
       "min_width": null,
       "object_fit": null,
       "object_position": null,
       "order": null,
       "overflow": null,
       "overflow_x": null,
       "overflow_y": null,
       "padding": null,
       "right": null,
       "top": null,
       "visibility": null,
       "width": null
      }
     },
     "dd92e5eead4541a6b6db086a136ff953": {
      "model_module": "@jupyter-widgets/base",
      "model_module_version": "1.2.0",
      "model_name": "LayoutModel",
      "state": {
       "_model_module": "@jupyter-widgets/base",
       "_model_module_version": "1.2.0",
       "_model_name": "LayoutModel",
       "_view_count": null,
       "_view_module": "@jupyter-widgets/base",
       "_view_module_version": "1.2.0",
       "_view_name": "LayoutView",
       "align_content": null,
       "align_items": null,
       "align_self": null,
       "border": null,
       "bottom": null,
       "display": null,
       "flex": null,
       "flex_flow": null,
       "grid_area": null,
       "grid_auto_columns": null,
       "grid_auto_flow": null,
       "grid_auto_rows": null,
       "grid_column": null,
       "grid_gap": null,
       "grid_row": null,
       "grid_template_areas": null,
       "grid_template_columns": null,
       "grid_template_rows": null,
       "height": null,
       "justify_content": null,
       "justify_items": null,
       "left": null,
       "margin": null,
       "max_height": null,
       "max_width": null,
       "min_height": null,
       "min_width": null,
       "object_fit": null,
       "object_position": null,
       "order": null,
       "overflow": null,
       "overflow_x": null,
       "overflow_y": null,
       "padding": null,
       "right": null,
       "top": null,
       "visibility": null,
       "width": null
      }
     },
     "df6fe56488fc4cb4b8648b5baf3af154": {
      "model_module": "@jupyter-widgets/controls",
      "model_module_version": "1.5.0",
      "model_name": "HBoxModel",
      "state": {
       "_dom_classes": [],
       "_model_module": "@jupyter-widgets/controls",
       "_model_module_version": "1.5.0",
       "_model_name": "HBoxModel",
       "_view_count": null,
       "_view_module": "@jupyter-widgets/controls",
       "_view_module_version": "1.5.0",
       "_view_name": "HBoxView",
       "box_style": "",
       "children": [
        "IPY_MODEL_0dabcb490ab8475587d1a3f30a6183cc",
        "IPY_MODEL_a79a4c264a11461fa522d06fcb662a49"
       ],
       "layout": "IPY_MODEL_53040824be114a0b853617a3d1484147"
      }
     },
     "e27c9026ba6e4221b0b7ddc029dc67c3": {
      "model_module": "@jupyter-widgets/base",
      "model_module_version": "1.2.0",
      "model_name": "LayoutModel",
      "state": {
       "_model_module": "@jupyter-widgets/base",
       "_model_module_version": "1.2.0",
       "_model_name": "LayoutModel",
       "_view_count": null,
       "_view_module": "@jupyter-widgets/base",
       "_view_module_version": "1.2.0",
       "_view_name": "LayoutView",
       "align_content": null,
       "align_items": null,
       "align_self": null,
       "border": null,
       "bottom": null,
       "display": null,
       "flex": null,
       "flex_flow": null,
       "grid_area": null,
       "grid_auto_columns": null,
       "grid_auto_flow": null,
       "grid_auto_rows": null,
       "grid_column": null,
       "grid_gap": null,
       "grid_row": null,
       "grid_template_areas": null,
       "grid_template_columns": null,
       "grid_template_rows": null,
       "height": null,
       "justify_content": null,
       "justify_items": null,
       "left": null,
       "margin": null,
       "max_height": null,
       "max_width": null,
       "min_height": null,
       "min_width": null,
       "object_fit": null,
       "object_position": null,
       "order": null,
       "overflow": null,
       "overflow_x": null,
       "overflow_y": null,
       "padding": null,
       "right": null,
       "top": null,
       "visibility": null,
       "width": null
      }
     },
     "e29d883d28f24fd4acd6cc914a60c311": {
      "model_module": "@jupyter-widgets/controls",
      "model_module_version": "1.5.0",
      "model_name": "HTMLModel",
      "state": {
       "_dom_classes": [],
       "_model_module": "@jupyter-widgets/controls",
       "_model_module_version": "1.5.0",
       "_model_name": "HTMLModel",
       "_view_count": null,
       "_view_module": "@jupyter-widgets/controls",
       "_view_module_version": "1.5.0",
       "_view_name": "HTMLView",
       "description": "",
       "description_tooltip": null,
       "layout": "IPY_MODEL_2b26f462fbde4617a565adc210222ce4",
       "placeholder": "​",
       "style": "IPY_MODEL_92a4a6e35b354c31bf7e9a5285e9a0d0",
       "value": " 12413/12413 [14:48&lt;00:00, 13.98it/s, disc_loss=0.00032, gen_adv_loss=1, gen_pixel_loss=0.176]"
      }
     },
     "e39b81ba015e4f94b4683ec843bfb0de": {
      "model_module": "@jupyter-widgets/controls",
      "model_module_version": "1.5.0",
      "model_name": "FloatProgressModel",
      "state": {
       "_dom_classes": [],
       "_model_module": "@jupyter-widgets/controls",
       "_model_module_version": "1.5.0",
       "_model_name": "FloatProgressModel",
       "_view_count": null,
       "_view_module": "@jupyter-widgets/controls",
       "_view_module_version": "1.5.0",
       "_view_name": "ProgressView",
       "bar_style": "success",
       "description": "Training Epoch 6 : 100%",
       "description_tooltip": null,
       "layout": "IPY_MODEL_451461611a414b56a311ba54a01af387",
       "max": 12413,
       "min": 0,
       "orientation": "horizontal",
       "style": "IPY_MODEL_ca439b16b2da48f8ae30d160447a3e58",
       "value": 12413
      }
     },
     "e39f8591d9ee4fa58c9d04ecdd5b4b14": {
      "model_module": "@jupyter-widgets/base",
      "model_module_version": "1.2.0",
      "model_name": "LayoutModel",
      "state": {
       "_model_module": "@jupyter-widgets/base",
       "_model_module_version": "1.2.0",
       "_model_name": "LayoutModel",
       "_view_count": null,
       "_view_module": "@jupyter-widgets/base",
       "_view_module_version": "1.2.0",
       "_view_name": "LayoutView",
       "align_content": null,
       "align_items": null,
       "align_self": null,
       "border": null,
       "bottom": null,
       "display": null,
       "flex": null,
       "flex_flow": null,
       "grid_area": null,
       "grid_auto_columns": null,
       "grid_auto_flow": null,
       "grid_auto_rows": null,
       "grid_column": null,
       "grid_gap": null,
       "grid_row": null,
       "grid_template_areas": null,
       "grid_template_columns": null,
       "grid_template_rows": null,
       "height": null,
       "justify_content": null,
       "justify_items": null,
       "left": null,
       "margin": null,
       "max_height": null,
       "max_width": null,
       "min_height": null,
       "min_width": null,
       "object_fit": null,
       "object_position": null,
       "order": null,
       "overflow": null,
       "overflow_x": null,
       "overflow_y": null,
       "padding": null,
       "right": null,
       "top": null,
       "visibility": null,
       "width": null
      }
     },
     "e43d41ba66104f40b74491048155a370": {
      "model_module": "@jupyter-widgets/base",
      "model_module_version": "1.2.0",
      "model_name": "LayoutModel",
      "state": {
       "_model_module": "@jupyter-widgets/base",
       "_model_module_version": "1.2.0",
       "_model_name": "LayoutModel",
       "_view_count": null,
       "_view_module": "@jupyter-widgets/base",
       "_view_module_version": "1.2.0",
       "_view_name": "LayoutView",
       "align_content": null,
       "align_items": null,
       "align_self": null,
       "border": null,
       "bottom": null,
       "display": null,
       "flex": null,
       "flex_flow": null,
       "grid_area": null,
       "grid_auto_columns": null,
       "grid_auto_flow": null,
       "grid_auto_rows": null,
       "grid_column": null,
       "grid_gap": null,
       "grid_row": null,
       "grid_template_areas": null,
       "grid_template_columns": null,
       "grid_template_rows": null,
       "height": null,
       "justify_content": null,
       "justify_items": null,
       "left": null,
       "margin": null,
       "max_height": null,
       "max_width": null,
       "min_height": null,
       "min_width": null,
       "object_fit": null,
       "object_position": null,
       "order": null,
       "overflow": null,
       "overflow_x": null,
       "overflow_y": null,
       "padding": null,
       "right": null,
       "top": null,
       "visibility": null,
       "width": null
      }
     },
     "e45c566560474dd581cea380ad0580fe": {
      "model_module": "@jupyter-widgets/controls",
      "model_module_version": "1.5.0",
      "model_name": "FloatProgressModel",
      "state": {
       "_dom_classes": [],
       "_model_module": "@jupyter-widgets/controls",
       "_model_module_version": "1.5.0",
       "_model_name": "FloatProgressModel",
       "_view_count": null,
       "_view_module": "@jupyter-widgets/controls",
       "_view_module_version": "1.5.0",
       "_view_name": "ProgressView",
       "bar_style": "success",
       "description": "Training Epoch 5 : 100%",
       "description_tooltip": null,
       "layout": "IPY_MODEL_d357841913d241a491053b156366b62e",
       "max": 12413,
       "min": 0,
       "orientation": "horizontal",
       "style": "IPY_MODEL_edfbd475bc024872a933e313e0f1d9d0",
       "value": 12413
      }
     },
     "e4a4e598ab324309a2f921b8ff289a93": {
      "model_module": "@jupyter-widgets/controls",
      "model_module_version": "1.5.0",
      "model_name": "HBoxModel",
      "state": {
       "_dom_classes": [],
       "_model_module": "@jupyter-widgets/controls",
       "_model_module_version": "1.5.0",
       "_model_name": "HBoxModel",
       "_view_count": null,
       "_view_module": "@jupyter-widgets/controls",
       "_view_module_version": "1.5.0",
       "_view_name": "HBoxView",
       "box_style": "",
       "children": [
        "IPY_MODEL_e45c566560474dd581cea380ad0580fe",
        "IPY_MODEL_3dc603bbe473482dad911eb619315a81"
       ],
       "layout": "IPY_MODEL_c18c7bc8f6514e83ab34ab4a5b176011"
      }
     },
     "e838ee6fbe1744ceaa3a0f6ffa6affb7": {
      "model_module": "@jupyter-widgets/controls",
      "model_module_version": "1.5.0",
      "model_name": "HBoxModel",
      "state": {
       "_dom_classes": [],
       "_model_module": "@jupyter-widgets/controls",
       "_model_module_version": "1.5.0",
       "_model_name": "HBoxModel",
       "_view_count": null,
       "_view_module": "@jupyter-widgets/controls",
       "_view_module_version": "1.5.0",
       "_view_name": "HBoxView",
       "box_style": "",
       "children": [
        "IPY_MODEL_2d0d50f95b9949deae77d3cdf28f19a1",
        "IPY_MODEL_e29d883d28f24fd4acd6cc914a60c311"
       ],
       "layout": "IPY_MODEL_1611c80fce5d4fa4b04b8c2132ff963a"
      }
     },
     "e8ba6a0c681546888dafe14ed2fa8d78": {
      "model_module": "@jupyter-widgets/controls",
      "model_module_version": "1.5.0",
      "model_name": "HTMLModel",
      "state": {
       "_dom_classes": [],
       "_model_module": "@jupyter-widgets/controls",
       "_model_module_version": "1.5.0",
       "_model_name": "HTMLModel",
       "_view_count": null,
       "_view_module": "@jupyter-widgets/controls",
       "_view_module_version": "1.5.0",
       "_view_name": "HTMLView",
       "description": "",
       "description_tooltip": null,
       "layout": "IPY_MODEL_ad74d46440564f5db2bececf14288290",
       "placeholder": "​",
       "style": "IPY_MODEL_39781ef35c2b49398fe17fd4a29db7da",
       "value": " 12413/12413 [1:28:28&lt;00:00,  2.34it/s, disc_loss=0.000358, gen_adv_loss=1, gen_pixel_loss=0.181]"
      }
     },
     "edfbd475bc024872a933e313e0f1d9d0": {
      "model_module": "@jupyter-widgets/controls",
      "model_module_version": "1.5.0",
      "model_name": "ProgressStyleModel",
      "state": {
       "_model_module": "@jupyter-widgets/controls",
       "_model_module_version": "1.5.0",
       "_model_name": "ProgressStyleModel",
       "_view_count": null,
       "_view_module": "@jupyter-widgets/base",
       "_view_module_version": "1.2.0",
       "_view_name": "StyleView",
       "bar_color": null,
       "description_width": "initial"
      }
     },
     "f4987202beca474bbe01599ecfff1ae5": {
      "model_module": "@jupyter-widgets/base",
      "model_module_version": "1.2.0",
      "model_name": "LayoutModel",
      "state": {
       "_model_module": "@jupyter-widgets/base",
       "_model_module_version": "1.2.0",
       "_model_name": "LayoutModel",
       "_view_count": null,
       "_view_module": "@jupyter-widgets/base",
       "_view_module_version": "1.2.0",
       "_view_name": "LayoutView",
       "align_content": null,
       "align_items": null,
       "align_self": null,
       "border": null,
       "bottom": null,
       "display": null,
       "flex": null,
       "flex_flow": null,
       "grid_area": null,
       "grid_auto_columns": null,
       "grid_auto_flow": null,
       "grid_auto_rows": null,
       "grid_column": null,
       "grid_gap": null,
       "grid_row": null,
       "grid_template_areas": null,
       "grid_template_columns": null,
       "grid_template_rows": null,
       "height": null,
       "justify_content": null,
       "justify_items": null,
       "left": null,
       "margin": null,
       "max_height": null,
       "max_width": null,
       "min_height": null,
       "min_width": null,
       "object_fit": null,
       "object_position": null,
       "order": null,
       "overflow": null,
       "overflow_x": null,
       "overflow_y": null,
       "padding": null,
       "right": null,
       "top": null,
       "visibility": null,
       "width": null
      }
     },
     "f577264b460648c882d894345e59e287": {
      "model_module": "@jupyter-widgets/controls",
      "model_module_version": "1.5.0",
      "model_name": "DescriptionStyleModel",
      "state": {
       "_model_module": "@jupyter-widgets/controls",
       "_model_module_version": "1.5.0",
       "_model_name": "DescriptionStyleModel",
       "_view_count": null,
       "_view_module": "@jupyter-widgets/base",
       "_view_module_version": "1.2.0",
       "_view_name": "StyleView",
       "description_width": ""
      }
     },
     "f838d057f9fa42bdac39a3b33aa352f2": {
      "model_module": "@jupyter-widgets/controls",
      "model_module_version": "1.5.0",
      "model_name": "ProgressStyleModel",
      "state": {
       "_model_module": "@jupyter-widgets/controls",
       "_model_module_version": "1.5.0",
       "_model_name": "ProgressStyleModel",
       "_view_count": null,
       "_view_module": "@jupyter-widgets/base",
       "_view_module_version": "1.2.0",
       "_view_name": "StyleView",
       "bar_color": null,
       "description_width": "initial"
      }
     },
     "fc00240be8da4a56bcd2afc28c298bd9": {
      "model_module": "@jupyter-widgets/base",
      "model_module_version": "1.2.0",
      "model_name": "LayoutModel",
      "state": {
       "_model_module": "@jupyter-widgets/base",
       "_model_module_version": "1.2.0",
       "_model_name": "LayoutModel",
       "_view_count": null,
       "_view_module": "@jupyter-widgets/base",
       "_view_module_version": "1.2.0",
       "_view_name": "LayoutView",
       "align_content": null,
       "align_items": null,
       "align_self": null,
       "border": null,
       "bottom": null,
       "display": null,
       "flex": null,
       "flex_flow": null,
       "grid_area": null,
       "grid_auto_columns": null,
       "grid_auto_flow": null,
       "grid_auto_rows": null,
       "grid_column": null,
       "grid_gap": null,
       "grid_row": null,
       "grid_template_areas": null,
       "grid_template_columns": null,
       "grid_template_rows": null,
       "height": null,
       "justify_content": null,
       "justify_items": null,
       "left": null,
       "margin": null,
       "max_height": null,
       "max_width": null,
       "min_height": null,
       "min_width": null,
       "object_fit": null,
       "object_position": null,
       "order": null,
       "overflow": null,
       "overflow_x": null,
       "overflow_y": null,
       "padding": null,
       "right": null,
       "top": null,
       "visibility": null,
       "width": null
      }
     },
     "fc6837ba7db44e21a7260f83a2a9ff81": {
      "model_module": "@jupyter-widgets/base",
      "model_module_version": "1.2.0",
      "model_name": "LayoutModel",
      "state": {
       "_model_module": "@jupyter-widgets/base",
       "_model_module_version": "1.2.0",
       "_model_name": "LayoutModel",
       "_view_count": null,
       "_view_module": "@jupyter-widgets/base",
       "_view_module_version": "1.2.0",
       "_view_name": "LayoutView",
       "align_content": null,
       "align_items": null,
       "align_self": null,
       "border": null,
       "bottom": null,
       "display": null,
       "flex": null,
       "flex_flow": null,
       "grid_area": null,
       "grid_auto_columns": null,
       "grid_auto_flow": null,
       "grid_auto_rows": null,
       "grid_column": null,
       "grid_gap": null,
       "grid_row": null,
       "grid_template_areas": null,
       "grid_template_columns": null,
       "grid_template_rows": null,
       "height": null,
       "justify_content": null,
       "justify_items": null,
       "left": null,
       "margin": null,
       "max_height": null,
       "max_width": null,
       "min_height": null,
       "min_width": null,
       "object_fit": null,
       "object_position": null,
       "order": null,
       "overflow": null,
       "overflow_x": null,
       "overflow_y": null,
       "padding": null,
       "right": null,
       "top": null,
       "visibility": null,
       "width": null
      }
     }
    },
    "version_major": 2,
    "version_minor": 0
   }
  }
 },
 "nbformat": 4,
 "nbformat_minor": 4
}
